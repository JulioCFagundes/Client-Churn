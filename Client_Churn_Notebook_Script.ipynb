{
  "cells": [
    {
      "cell_type": "markdown",
      "source": [
        "**Este é um trabalho realizado por alunos da UFPR para a matéria de graduação de Machine Learning. A database utilizada foi a Telco Customer Churn, disponível em https://www.kaggle.com/datasets/blastchar/telco-customer-churn.**\n",
        "\n",
        "**Nosso objetivo é criar um modelo de machine learning que consiga prever se um cliente irá ou não dar o Churn utilizando os dados fornecidos pela database.**\n",
        "\n",
        "**Para este trabalho, utilizamos a validação hold-out com 70% dos dados para treino. Além disso, como será visto durante o código, para filtragem de variáveis foi utilizada a regressão lasso, com a qual fizemos um grid-search e também comparamos resultados para diferentes alphas.**\n",
        "\n",
        "**Trouxemos também algumas reflexões e análises sobre regras de negócios, análise de covariância, balanceamento e transformação de dados.**\n",
        "\n",
        "**Os modelos de treinamento utilizados foram KNN, Naive Bayes, Random Forest e xgboost com parâmetros determinados com grid search.**\n",
        "\n",
        "**Tendo em vista a natureza do trabalho, nosso objetivo não é fazer um algoritmo estado de arte, mas analisar e comparar resultados, trazendo reflexões tanto para nós, autores, quanto para os futuros leitores.**"
      ],
      "metadata": {
        "id": "ztUDr2_0sQk_"
      }
    },
    {
      "cell_type": "code",
      "execution_count": null,
      "metadata": {
        "id": "Mv-MwJdGgG7p"
      },
      "outputs": [],
      "source": [
        "import sklearn\n",
        "import pandas  as pd\n",
        "import numpy as np\n",
        "import seaborn as sb\n",
        "import matplotlib.pyplot as plt\n",
        "from google.colab import files\n",
        "from sklearn.model_selection import cross_val_score\n",
        "from sklearn.metrics import ConfusionMatrixDisplay\n",
        "from imblearn.over_sampling import RandomOverSampler\n",
        "from xgboost import XGBClassifier, plot_importance\n",
        "from sklearn.model_selection import GridSearchCV\n"
      ]
    },
    {
      "cell_type": "code",
      "execution_count": null,
      "metadata": {
        "id": "_SQLNo5Io-LC"
      },
      "outputs": [],
      "source": [
        "files.upload()"
      ]
    },
    {
      "cell_type": "markdown",
      "source": [
        "**LENDO O ARQUIVO CSV**"
      ],
      "metadata": {
        "id": "0chWQQllPU00"
      }
    },
    {
      "cell_type": "code",
      "execution_count": null,
      "metadata": {
        "id": "CC60NskxpgvD",
        "colab": {
          "base_uri": "https://localhost:8080/",
          "height": 386
        },
        "outputId": "87c2d43f-246d-42c5-bd92-1d96249ec887"
      },
      "outputs": [
        {
          "output_type": "execute_result",
          "data": {
            "text/plain": [
              "   customerID  gender  SeniorCitizen Partner Dependents  tenure PhoneService  \\\n",
              "0  7590-VHVEG  Female              0     Yes         No       1           No   \n",
              "1  5575-GNVDE    Male              0      No         No      34          Yes   \n",
              "2  3668-QPYBK    Male              0      No         No       2          Yes   \n",
              "3  7795-CFOCW    Male              0      No         No      45           No   \n",
              "4  9237-HQITU  Female              0      No         No       2          Yes   \n",
              "\n",
              "      MultipleLines InternetService OnlineSecurity  ... DeviceProtection  \\\n",
              "0  No phone service             DSL             No  ...               No   \n",
              "1                No             DSL            Yes  ...              Yes   \n",
              "2                No             DSL            Yes  ...               No   \n",
              "3  No phone service             DSL            Yes  ...              Yes   \n",
              "4                No     Fiber optic             No  ...               No   \n",
              "\n",
              "  TechSupport StreamingTV StreamingMovies        Contract PaperlessBilling  \\\n",
              "0          No          No              No  Month-to-month              Yes   \n",
              "1          No          No              No        One year               No   \n",
              "2          No          No              No  Month-to-month              Yes   \n",
              "3         Yes          No              No        One year               No   \n",
              "4          No          No              No  Month-to-month              Yes   \n",
              "\n",
              "               PaymentMethod MonthlyCharges  TotalCharges Churn  \n",
              "0           Electronic check          29.85         29.85    No  \n",
              "1               Mailed check          56.95        1889.5    No  \n",
              "2               Mailed check          53.85        108.15   Yes  \n",
              "3  Bank transfer (automatic)          42.30       1840.75    No  \n",
              "4           Electronic check          70.70        151.65   Yes  \n",
              "\n",
              "[5 rows x 21 columns]"
            ],
            "text/html": [
              "\n",
              "  <div id=\"df-f255cf35-1506-4a66-b9af-a3f6071f63a3\">\n",
              "    <div class=\"colab-df-container\">\n",
              "      <div>\n",
              "<style scoped>\n",
              "    .dataframe tbody tr th:only-of-type {\n",
              "        vertical-align: middle;\n",
              "    }\n",
              "\n",
              "    .dataframe tbody tr th {\n",
              "        vertical-align: top;\n",
              "    }\n",
              "\n",
              "    .dataframe thead th {\n",
              "        text-align: right;\n",
              "    }\n",
              "</style>\n",
              "<table border=\"1\" class=\"dataframe\">\n",
              "  <thead>\n",
              "    <tr style=\"text-align: right;\">\n",
              "      <th></th>\n",
              "      <th>customerID</th>\n",
              "      <th>gender</th>\n",
              "      <th>SeniorCitizen</th>\n",
              "      <th>Partner</th>\n",
              "      <th>Dependents</th>\n",
              "      <th>tenure</th>\n",
              "      <th>PhoneService</th>\n",
              "      <th>MultipleLines</th>\n",
              "      <th>InternetService</th>\n",
              "      <th>OnlineSecurity</th>\n",
              "      <th>...</th>\n",
              "      <th>DeviceProtection</th>\n",
              "      <th>TechSupport</th>\n",
              "      <th>StreamingTV</th>\n",
              "      <th>StreamingMovies</th>\n",
              "      <th>Contract</th>\n",
              "      <th>PaperlessBilling</th>\n",
              "      <th>PaymentMethod</th>\n",
              "      <th>MonthlyCharges</th>\n",
              "      <th>TotalCharges</th>\n",
              "      <th>Churn</th>\n",
              "    </tr>\n",
              "  </thead>\n",
              "  <tbody>\n",
              "    <tr>\n",
              "      <th>0</th>\n",
              "      <td>7590-VHVEG</td>\n",
              "      <td>Female</td>\n",
              "      <td>0</td>\n",
              "      <td>Yes</td>\n",
              "      <td>No</td>\n",
              "      <td>1</td>\n",
              "      <td>No</td>\n",
              "      <td>No phone service</td>\n",
              "      <td>DSL</td>\n",
              "      <td>No</td>\n",
              "      <td>...</td>\n",
              "      <td>No</td>\n",
              "      <td>No</td>\n",
              "      <td>No</td>\n",
              "      <td>No</td>\n",
              "      <td>Month-to-month</td>\n",
              "      <td>Yes</td>\n",
              "      <td>Electronic check</td>\n",
              "      <td>29.85</td>\n",
              "      <td>29.85</td>\n",
              "      <td>No</td>\n",
              "    </tr>\n",
              "    <tr>\n",
              "      <th>1</th>\n",
              "      <td>5575-GNVDE</td>\n",
              "      <td>Male</td>\n",
              "      <td>0</td>\n",
              "      <td>No</td>\n",
              "      <td>No</td>\n",
              "      <td>34</td>\n",
              "      <td>Yes</td>\n",
              "      <td>No</td>\n",
              "      <td>DSL</td>\n",
              "      <td>Yes</td>\n",
              "      <td>...</td>\n",
              "      <td>Yes</td>\n",
              "      <td>No</td>\n",
              "      <td>No</td>\n",
              "      <td>No</td>\n",
              "      <td>One year</td>\n",
              "      <td>No</td>\n",
              "      <td>Mailed check</td>\n",
              "      <td>56.95</td>\n",
              "      <td>1889.5</td>\n",
              "      <td>No</td>\n",
              "    </tr>\n",
              "    <tr>\n",
              "      <th>2</th>\n",
              "      <td>3668-QPYBK</td>\n",
              "      <td>Male</td>\n",
              "      <td>0</td>\n",
              "      <td>No</td>\n",
              "      <td>No</td>\n",
              "      <td>2</td>\n",
              "      <td>Yes</td>\n",
              "      <td>No</td>\n",
              "      <td>DSL</td>\n",
              "      <td>Yes</td>\n",
              "      <td>...</td>\n",
              "      <td>No</td>\n",
              "      <td>No</td>\n",
              "      <td>No</td>\n",
              "      <td>No</td>\n",
              "      <td>Month-to-month</td>\n",
              "      <td>Yes</td>\n",
              "      <td>Mailed check</td>\n",
              "      <td>53.85</td>\n",
              "      <td>108.15</td>\n",
              "      <td>Yes</td>\n",
              "    </tr>\n",
              "    <tr>\n",
              "      <th>3</th>\n",
              "      <td>7795-CFOCW</td>\n",
              "      <td>Male</td>\n",
              "      <td>0</td>\n",
              "      <td>No</td>\n",
              "      <td>No</td>\n",
              "      <td>45</td>\n",
              "      <td>No</td>\n",
              "      <td>No phone service</td>\n",
              "      <td>DSL</td>\n",
              "      <td>Yes</td>\n",
              "      <td>...</td>\n",
              "      <td>Yes</td>\n",
              "      <td>Yes</td>\n",
              "      <td>No</td>\n",
              "      <td>No</td>\n",
              "      <td>One year</td>\n",
              "      <td>No</td>\n",
              "      <td>Bank transfer (automatic)</td>\n",
              "      <td>42.30</td>\n",
              "      <td>1840.75</td>\n",
              "      <td>No</td>\n",
              "    </tr>\n",
              "    <tr>\n",
              "      <th>4</th>\n",
              "      <td>9237-HQITU</td>\n",
              "      <td>Female</td>\n",
              "      <td>0</td>\n",
              "      <td>No</td>\n",
              "      <td>No</td>\n",
              "      <td>2</td>\n",
              "      <td>Yes</td>\n",
              "      <td>No</td>\n",
              "      <td>Fiber optic</td>\n",
              "      <td>No</td>\n",
              "      <td>...</td>\n",
              "      <td>No</td>\n",
              "      <td>No</td>\n",
              "      <td>No</td>\n",
              "      <td>No</td>\n",
              "      <td>Month-to-month</td>\n",
              "      <td>Yes</td>\n",
              "      <td>Electronic check</td>\n",
              "      <td>70.70</td>\n",
              "      <td>151.65</td>\n",
              "      <td>Yes</td>\n",
              "    </tr>\n",
              "  </tbody>\n",
              "</table>\n",
              "<p>5 rows × 21 columns</p>\n",
              "</div>\n",
              "      <button class=\"colab-df-convert\" onclick=\"convertToInteractive('df-f255cf35-1506-4a66-b9af-a3f6071f63a3')\"\n",
              "              title=\"Convert this dataframe to an interactive table.\"\n",
              "              style=\"display:none;\">\n",
              "        \n",
              "  <svg xmlns=\"http://www.w3.org/2000/svg\" height=\"24px\"viewBox=\"0 0 24 24\"\n",
              "       width=\"24px\">\n",
              "    <path d=\"M0 0h24v24H0V0z\" fill=\"none\"/>\n",
              "    <path d=\"M18.56 5.44l.94 2.06.94-2.06 2.06-.94-2.06-.94-.94-2.06-.94 2.06-2.06.94zm-11 1L8.5 8.5l.94-2.06 2.06-.94-2.06-.94L8.5 2.5l-.94 2.06-2.06.94zm10 10l.94 2.06.94-2.06 2.06-.94-2.06-.94-.94-2.06-.94 2.06-2.06.94z\"/><path d=\"M17.41 7.96l-1.37-1.37c-.4-.4-.92-.59-1.43-.59-.52 0-1.04.2-1.43.59L10.3 9.45l-7.72 7.72c-.78.78-.78 2.05 0 2.83L4 21.41c.39.39.9.59 1.41.59.51 0 1.02-.2 1.41-.59l7.78-7.78 2.81-2.81c.8-.78.8-2.07 0-2.86zM5.41 20L4 18.59l7.72-7.72 1.47 1.35L5.41 20z\"/>\n",
              "  </svg>\n",
              "      </button>\n",
              "      \n",
              "  <style>\n",
              "    .colab-df-container {\n",
              "      display:flex;\n",
              "      flex-wrap:wrap;\n",
              "      gap: 12px;\n",
              "    }\n",
              "\n",
              "    .colab-df-convert {\n",
              "      background-color: #E8F0FE;\n",
              "      border: none;\n",
              "      border-radius: 50%;\n",
              "      cursor: pointer;\n",
              "      display: none;\n",
              "      fill: #1967D2;\n",
              "      height: 32px;\n",
              "      padding: 0 0 0 0;\n",
              "      width: 32px;\n",
              "    }\n",
              "\n",
              "    .colab-df-convert:hover {\n",
              "      background-color: #E2EBFA;\n",
              "      box-shadow: 0px 1px 2px rgba(60, 64, 67, 0.3), 0px 1px 3px 1px rgba(60, 64, 67, 0.15);\n",
              "      fill: #174EA6;\n",
              "    }\n",
              "\n",
              "    [theme=dark] .colab-df-convert {\n",
              "      background-color: #3B4455;\n",
              "      fill: #D2E3FC;\n",
              "    }\n",
              "\n",
              "    [theme=dark] .colab-df-convert:hover {\n",
              "      background-color: #434B5C;\n",
              "      box-shadow: 0px 1px 3px 1px rgba(0, 0, 0, 0.15);\n",
              "      filter: drop-shadow(0px 1px 2px rgba(0, 0, 0, 0.3));\n",
              "      fill: #FFFFFF;\n",
              "    }\n",
              "  </style>\n",
              "\n",
              "      <script>\n",
              "        const buttonEl =\n",
              "          document.querySelector('#df-f255cf35-1506-4a66-b9af-a3f6071f63a3 button.colab-df-convert');\n",
              "        buttonEl.style.display =\n",
              "          google.colab.kernel.accessAllowed ? 'block' : 'none';\n",
              "\n",
              "        async function convertToInteractive(key) {\n",
              "          const element = document.querySelector('#df-f255cf35-1506-4a66-b9af-a3f6071f63a3');\n",
              "          const dataTable =\n",
              "            await google.colab.kernel.invokeFunction('convertToInteractive',\n",
              "                                                     [key], {});\n",
              "          if (!dataTable) return;\n",
              "\n",
              "          const docLinkHtml = 'Like what you see? Visit the ' +\n",
              "            '<a target=\"_blank\" href=https://colab.research.google.com/notebooks/data_table.ipynb>data table notebook</a>'\n",
              "            + ' to learn more about interactive tables.';\n",
              "          element.innerHTML = '';\n",
              "          dataTable['output_type'] = 'display_data';\n",
              "          await google.colab.output.renderOutput(dataTable, element);\n",
              "          const docLink = document.createElement('div');\n",
              "          docLink.innerHTML = docLinkHtml;\n",
              "          element.appendChild(docLink);\n",
              "        }\n",
              "      </script>\n",
              "    </div>\n",
              "  </div>\n",
              "  "
            ]
          },
          "metadata": {},
          "execution_count": 3
        }
      ],
      "source": [
        "dataset = pd.read_csv('dataset.csv')\n",
        "dataset.head()"
      ]
    },
    {
      "cell_type": "markdown",
      "source": [
        "**NO PRIMEIRO COMANDO, ESTAMOS FAZENDO A CONTAGEM DE CAMPOS TOTAIS, CAMPOS NULOS E OBSERVANDO A TIPAGEM DE CADA FEATURE.**\n",
        "\n",
        "**NO SEGUNDO, PODEMOS OBSERVAR, ALÉM DA CONTAGEM DOS CAMPOS, A MÉDIA, DESVIO PADRÃO, O MÍNIMO E O MÁXIMO DAS FEATURES NUMÉRICAS**"
      ],
      "metadata": {
        "id": "qNMejvCEPjAi"
      }
    },
    {
      "cell_type": "code",
      "execution_count": null,
      "metadata": {
        "id": "bF_zMsYnqGAe",
        "colab": {
          "base_uri": "https://localhost:8080/",
          "height": 786
        },
        "outputId": "c12e76be-7566-4df8-d73d-609e2df294aa"
      },
      "outputs": [
        {
          "output_type": "stream",
          "name": "stdout",
          "text": [
            "<class 'pandas.core.frame.DataFrame'>\n",
            "RangeIndex: 7043 entries, 0 to 7042\n",
            "Data columns (total 21 columns):\n",
            " #   Column            Non-Null Count  Dtype  \n",
            "---  ------            --------------  -----  \n",
            " 0   customerID        7043 non-null   object \n",
            " 1   gender            7043 non-null   object \n",
            " 2   SeniorCitizen     7043 non-null   int64  \n",
            " 3   Partner           7043 non-null   object \n",
            " 4   Dependents        7043 non-null   object \n",
            " 5   tenure            7043 non-null   int64  \n",
            " 6   PhoneService      7043 non-null   object \n",
            " 7   MultipleLines     7043 non-null   object \n",
            " 8   InternetService   7043 non-null   object \n",
            " 9   OnlineSecurity    7043 non-null   object \n",
            " 10  OnlineBackup      7043 non-null   object \n",
            " 11  DeviceProtection  7043 non-null   object \n",
            " 12  TechSupport       7043 non-null   object \n",
            " 13  StreamingTV       7043 non-null   object \n",
            " 14  StreamingMovies   7043 non-null   object \n",
            " 15  Contract          7043 non-null   object \n",
            " 16  PaperlessBilling  7043 non-null   object \n",
            " 17  PaymentMethod     7043 non-null   object \n",
            " 18  MonthlyCharges    7043 non-null   float64\n",
            " 19  TotalCharges      7043 non-null   object \n",
            " 20  Churn             7043 non-null   object \n",
            "dtypes: float64(1), int64(2), object(18)\n",
            "memory usage: 1.1+ MB\n"
          ]
        },
        {
          "output_type": "execute_result",
          "data": {
            "text/plain": [
              "       SeniorCitizen       tenure  MonthlyCharges\n",
              "count    7043.000000  7043.000000     7043.000000\n",
              "mean        0.162147    32.371149       64.761692\n",
              "std         0.368612    24.559481       30.090047\n",
              "min         0.000000     0.000000       18.250000\n",
              "25%         0.000000     9.000000       35.500000\n",
              "50%         0.000000    29.000000       70.350000\n",
              "75%         0.000000    55.000000       89.850000\n",
              "max         1.000000    72.000000      118.750000"
            ],
            "text/html": [
              "\n",
              "  <div id=\"df-839a49d9-d4dd-4b53-a260-d55cf26a2039\">\n",
              "    <div class=\"colab-df-container\">\n",
              "      <div>\n",
              "<style scoped>\n",
              "    .dataframe tbody tr th:only-of-type {\n",
              "        vertical-align: middle;\n",
              "    }\n",
              "\n",
              "    .dataframe tbody tr th {\n",
              "        vertical-align: top;\n",
              "    }\n",
              "\n",
              "    .dataframe thead th {\n",
              "        text-align: right;\n",
              "    }\n",
              "</style>\n",
              "<table border=\"1\" class=\"dataframe\">\n",
              "  <thead>\n",
              "    <tr style=\"text-align: right;\">\n",
              "      <th></th>\n",
              "      <th>SeniorCitizen</th>\n",
              "      <th>tenure</th>\n",
              "      <th>MonthlyCharges</th>\n",
              "    </tr>\n",
              "  </thead>\n",
              "  <tbody>\n",
              "    <tr>\n",
              "      <th>count</th>\n",
              "      <td>7043.000000</td>\n",
              "      <td>7043.000000</td>\n",
              "      <td>7043.000000</td>\n",
              "    </tr>\n",
              "    <tr>\n",
              "      <th>mean</th>\n",
              "      <td>0.162147</td>\n",
              "      <td>32.371149</td>\n",
              "      <td>64.761692</td>\n",
              "    </tr>\n",
              "    <tr>\n",
              "      <th>std</th>\n",
              "      <td>0.368612</td>\n",
              "      <td>24.559481</td>\n",
              "      <td>30.090047</td>\n",
              "    </tr>\n",
              "    <tr>\n",
              "      <th>min</th>\n",
              "      <td>0.000000</td>\n",
              "      <td>0.000000</td>\n",
              "      <td>18.250000</td>\n",
              "    </tr>\n",
              "    <tr>\n",
              "      <th>25%</th>\n",
              "      <td>0.000000</td>\n",
              "      <td>9.000000</td>\n",
              "      <td>35.500000</td>\n",
              "    </tr>\n",
              "    <tr>\n",
              "      <th>50%</th>\n",
              "      <td>0.000000</td>\n",
              "      <td>29.000000</td>\n",
              "      <td>70.350000</td>\n",
              "    </tr>\n",
              "    <tr>\n",
              "      <th>75%</th>\n",
              "      <td>0.000000</td>\n",
              "      <td>55.000000</td>\n",
              "      <td>89.850000</td>\n",
              "    </tr>\n",
              "    <tr>\n",
              "      <th>max</th>\n",
              "      <td>1.000000</td>\n",
              "      <td>72.000000</td>\n",
              "      <td>118.750000</td>\n",
              "    </tr>\n",
              "  </tbody>\n",
              "</table>\n",
              "</div>\n",
              "      <button class=\"colab-df-convert\" onclick=\"convertToInteractive('df-839a49d9-d4dd-4b53-a260-d55cf26a2039')\"\n",
              "              title=\"Convert this dataframe to an interactive table.\"\n",
              "              style=\"display:none;\">\n",
              "        \n",
              "  <svg xmlns=\"http://www.w3.org/2000/svg\" height=\"24px\"viewBox=\"0 0 24 24\"\n",
              "       width=\"24px\">\n",
              "    <path d=\"M0 0h24v24H0V0z\" fill=\"none\"/>\n",
              "    <path d=\"M18.56 5.44l.94 2.06.94-2.06 2.06-.94-2.06-.94-.94-2.06-.94 2.06-2.06.94zm-11 1L8.5 8.5l.94-2.06 2.06-.94-2.06-.94L8.5 2.5l-.94 2.06-2.06.94zm10 10l.94 2.06.94-2.06 2.06-.94-2.06-.94-.94-2.06-.94 2.06-2.06.94z\"/><path d=\"M17.41 7.96l-1.37-1.37c-.4-.4-.92-.59-1.43-.59-.52 0-1.04.2-1.43.59L10.3 9.45l-7.72 7.72c-.78.78-.78 2.05 0 2.83L4 21.41c.39.39.9.59 1.41.59.51 0 1.02-.2 1.41-.59l7.78-7.78 2.81-2.81c.8-.78.8-2.07 0-2.86zM5.41 20L4 18.59l7.72-7.72 1.47 1.35L5.41 20z\"/>\n",
              "  </svg>\n",
              "      </button>\n",
              "      \n",
              "  <style>\n",
              "    .colab-df-container {\n",
              "      display:flex;\n",
              "      flex-wrap:wrap;\n",
              "      gap: 12px;\n",
              "    }\n",
              "\n",
              "    .colab-df-convert {\n",
              "      background-color: #E8F0FE;\n",
              "      border: none;\n",
              "      border-radius: 50%;\n",
              "      cursor: pointer;\n",
              "      display: none;\n",
              "      fill: #1967D2;\n",
              "      height: 32px;\n",
              "      padding: 0 0 0 0;\n",
              "      width: 32px;\n",
              "    }\n",
              "\n",
              "    .colab-df-convert:hover {\n",
              "      background-color: #E2EBFA;\n",
              "      box-shadow: 0px 1px 2px rgba(60, 64, 67, 0.3), 0px 1px 3px 1px rgba(60, 64, 67, 0.15);\n",
              "      fill: #174EA6;\n",
              "    }\n",
              "\n",
              "    [theme=dark] .colab-df-convert {\n",
              "      background-color: #3B4455;\n",
              "      fill: #D2E3FC;\n",
              "    }\n",
              "\n",
              "    [theme=dark] .colab-df-convert:hover {\n",
              "      background-color: #434B5C;\n",
              "      box-shadow: 0px 1px 3px 1px rgba(0, 0, 0, 0.15);\n",
              "      filter: drop-shadow(0px 1px 2px rgba(0, 0, 0, 0.3));\n",
              "      fill: #FFFFFF;\n",
              "    }\n",
              "  </style>\n",
              "\n",
              "      <script>\n",
              "        const buttonEl =\n",
              "          document.querySelector('#df-839a49d9-d4dd-4b53-a260-d55cf26a2039 button.colab-df-convert');\n",
              "        buttonEl.style.display =\n",
              "          google.colab.kernel.accessAllowed ? 'block' : 'none';\n",
              "\n",
              "        async function convertToInteractive(key) {\n",
              "          const element = document.querySelector('#df-839a49d9-d4dd-4b53-a260-d55cf26a2039');\n",
              "          const dataTable =\n",
              "            await google.colab.kernel.invokeFunction('convertToInteractive',\n",
              "                                                     [key], {});\n",
              "          if (!dataTable) return;\n",
              "\n",
              "          const docLinkHtml = 'Like what you see? Visit the ' +\n",
              "            '<a target=\"_blank\" href=https://colab.research.google.com/notebooks/data_table.ipynb>data table notebook</a>'\n",
              "            + ' to learn more about interactive tables.';\n",
              "          element.innerHTML = '';\n",
              "          dataTable['output_type'] = 'display_data';\n",
              "          await google.colab.output.renderOutput(dataTable, element);\n",
              "          const docLink = document.createElement('div');\n",
              "          docLink.innerHTML = docLinkHtml;\n",
              "          element.appendChild(docLink);\n",
              "        }\n",
              "      </script>\n",
              "    </div>\n",
              "  </div>\n",
              "  "
            ]
          },
          "metadata": {},
          "execution_count": 4
        }
      ],
      "source": [
        "## printa as informações do dataset. Nosso objetivo é saber o tipo das variáveis e verrificar se é necessária alguma alterção\n",
        "dataset.info()\n",
        "\n",
        "## printa a quantidade de linhas preenchidas, média, desvio padrão e menor valor\n",
        "dataset.describe()"
      ]
    },
    {
      "cell_type": "markdown",
      "metadata": {
        "id": "U2tKVrZdqtbc"
      },
      "source": [
        "**Neste primeiro treino vamos fazer a validação hold-out, que consiste em dividir base de dados entre base de treino e base de validação. Nossa escolha de proporção foi de 70% dos dados para treinamento e 30% dos dados para validação.**"
      ]
    },
    {
      "cell_type": "code",
      "execution_count": null,
      "metadata": {
        "id": "1xd-NLXeriyh",
        "colab": {
          "base_uri": "https://localhost:8080/"
        },
        "outputId": "84abf87d-5fb1-43b1-dc4b-b7efae2f3b30"
      },
      "outputs": [
        {
          "output_type": "stream",
          "name": "stdout",
          "text": [
            "(4930, 21)\n",
            "(2113, 21)\n"
          ]
        }
      ],
      "source": [
        "base_treino = dataset.sample(frac=0.7,random_state=42) # Pegando 70% da base aleatóriamente para ser treino.\n",
        "print(base_treino.shape)\n",
        "\n",
        "index_fora_do_treino = dataset.index.difference(base_treino.index) # Pegando os indexes que não estão na base\n",
        "\n",
        "base_val = dataset.iloc[index_fora_do_treino]\n",
        "print(base_val.shape)"
      ]
    },
    {
      "cell_type": "markdown",
      "metadata": {
        "id": "hqA3JGWSsrvq"
      },
      "source": [
        "**Agora nós temos a base de treino com 4930 linha e a base de validação com 2113, totalizando os 7043 clientes únicos.**"
      ]
    },
    {
      "cell_type": "markdown",
      "source": [
        "Dividindo as features da resposta"
      ],
      "metadata": {
        "id": "GUeWWK_QOHFU"
      }
    },
    {
      "cell_type": "code",
      "source": [
        "X_treino = base_treino.drop(columns='Churn')\n",
        "Y_treino = base_treino['Churn']\n",
        "X_val = base_val.drop(columns='Churn')\n",
        "Y_val = base_val.Churn\n"
      ],
      "metadata": {
        "id": "0k4hGfNqOGtX"
      },
      "execution_count": null,
      "outputs": []
    },
    {
      "cell_type": "markdown",
      "source": [
        "Agora, vamos verificar o balanceamento do dataset:"
      ],
      "metadata": {
        "id": "ju_tM1OeyXdK"
      }
    },
    {
      "cell_type": "code",
      "source": [
        "Churn = base_treino[base_treino.Churn == 'Yes'].customerID.count()\n",
        "NoChurn = base_treino[base_treino.Churn == 'No'].customerID.count()\n",
        "\n",
        "ChurnPercentage = Churn/(Churn + NoChurn)\n",
        "\n",
        "print(f'Churn percentage = {ChurnPercentage}')"
      ],
      "metadata": {
        "id": "YwKVrVl4yf7I",
        "colab": {
          "base_uri": "https://localhost:8080/"
        },
        "outputId": "7bc9f5ac-2417-4c2f-de27-fb1e6ce77dc9"
      },
      "execution_count": null,
      "outputs": [
        {
          "output_type": "stream",
          "name": "stdout",
          "text": [
            "Churn percentage = 0.2695740365111562\n"
          ]
        }
      ]
    },
    {
      "cell_type": "markdown",
      "source": [
        "Apenas 26,9% dos clientes deram Churn neste dataset. Para evitar problemas com o treinamento, realizaremos um oversampling para que a classe minoritária alcance 50% do dataset. (número alcançado a partir de testes manuais)"
      ],
      "metadata": {
        "id": "hRGEWdUqzToy"
      }
    },
    {
      "cell_type": "markdown",
      "source": [
        "Como nossos dados estão desbalanceados, utilizaremos a biblioteca imblearn para realizar um oversampling"
      ],
      "metadata": {
        "id": "MHed1sZ8xkPJ"
      }
    },
    {
      "cell_type": "code",
      "source": [
        "ros = RandomOverSampler(sampling_strategy=1,random_state=42)\n",
        "X_resampled, y_resampled = ros.fit_resample(X_treino, Y_treino)"
      ],
      "metadata": {
        "id": "hM7jCFydxrCR"
      },
      "execution_count": null,
      "outputs": []
    },
    {
      "cell_type": "markdown",
      "source": [],
      "metadata": {
        "id": "Yyi8fmaLDFH9"
      }
    },
    {
      "cell_type": "markdown",
      "source": [
        "Vamos verificar o tamanho do dataset e se o oversample foi realizado corretamente."
      ],
      "metadata": {
        "id": "TkOVQxAZ04zO"
      }
    },
    {
      "cell_type": "code",
      "source": [
        "Resample_df = X_resampled\n",
        "Resample_df['Churn'] = y_resampled\n",
        "\n"
      ],
      "metadata": {
        "id": "9eN7X6Pp1BBi"
      },
      "execution_count": null,
      "outputs": []
    },
    {
      "cell_type": "code",
      "source": [
        "Churn = Resample_df[Resample_df.Churn == 'Yes'].customerID.count()\n",
        "NoChurn = Resample_df[Resample_df.Churn == 'No'].customerID.count()\n",
        "\n",
        "ChurnPercentage = Churn/(Churn + NoChurn)\n",
        "print(f'Churn percentage = {ChurnPercentage}')"
      ],
      "metadata": {
        "id": "Waqr_sGF1wX9",
        "colab": {
          "base_uri": "https://localhost:8080/"
        },
        "outputId": "d4597fec-2648-468a-9d41-bc9e5384d392"
      },
      "execution_count": null,
      "outputs": [
        {
          "output_type": "stream",
          "name": "stdout",
          "text": [
            "Churn percentage = 0.5\n"
          ]
        }
      ]
    },
    {
      "cell_type": "markdown",
      "metadata": {
        "id": "jMFo9JBAtZ0p"
      },
      "source": [
        "**Agora, com um Churn rate de 50%, vamos tratar os dados de treino. Lembrando que tudo que for feito nos dados de treino, também deve ser feito nos dados de validação.**\n",
        "\n",
        "\n",
        "\n"
      ]
    },
    {
      "cell_type": "markdown",
      "metadata": {
        "id": "v3KujejotqYq"
      },
      "source": [
        "# **DADOS DE TREINO**"
      ]
    },
    {
      "cell_type": "code",
      "source": [
        "X_treino = X_resampled\n",
        "Y_treino = y_resampled"
      ],
      "metadata": {
        "id": "pqew2bg45W_I"
      },
      "execution_count": null,
      "outputs": []
    },
    {
      "cell_type": "markdown",
      "source": [
        "**Primeiramente, analisaremos os dados de treino utilizando os comandos info e describe.**"
      ],
      "metadata": {
        "id": "whnOYr0xQxhD"
      }
    },
    {
      "cell_type": "code",
      "execution_count": null,
      "metadata": {
        "id": "7O-ZofjRt5HI",
        "colab": {
          "base_uri": "https://localhost:8080/",
          "height": 786
        },
        "outputId": "0aa5ff37-84b5-4669-9a29-5a2ba77a6134"
      },
      "outputs": [
        {
          "output_type": "stream",
          "name": "stdout",
          "text": [
            "<class 'pandas.core.frame.DataFrame'>\n",
            "RangeIndex: 7202 entries, 0 to 7201\n",
            "Data columns (total 21 columns):\n",
            " #   Column            Non-Null Count  Dtype  \n",
            "---  ------            --------------  -----  \n",
            " 0   customerID        7202 non-null   object \n",
            " 1   gender            7202 non-null   object \n",
            " 2   SeniorCitizen     7202 non-null   int64  \n",
            " 3   Partner           7202 non-null   object \n",
            " 4   Dependents        7202 non-null   object \n",
            " 5   tenure            7202 non-null   int64  \n",
            " 6   PhoneService      7202 non-null   object \n",
            " 7   MultipleLines     7202 non-null   object \n",
            " 8   InternetService   7202 non-null   object \n",
            " 9   OnlineSecurity    7202 non-null   object \n",
            " 10  OnlineBackup      7202 non-null   object \n",
            " 11  DeviceProtection  7202 non-null   object \n",
            " 12  TechSupport       7202 non-null   object \n",
            " 13  StreamingTV       7202 non-null   object \n",
            " 14  StreamingMovies   7202 non-null   object \n",
            " 15  Contract          7202 non-null   object \n",
            " 16  PaperlessBilling  7202 non-null   object \n",
            " 17  PaymentMethod     7202 non-null   object \n",
            " 18  MonthlyCharges    7202 non-null   float64\n",
            " 19  TotalCharges      7202 non-null   object \n",
            " 20  Churn             7202 non-null   object \n",
            "dtypes: float64(1), int64(2), object(18)\n",
            "memory usage: 1.2+ MB\n"
          ]
        },
        {
          "output_type": "execute_result",
          "data": {
            "text/plain": [
              "       SeniorCitizen       tenure  MonthlyCharges\n",
              "count    7202.000000  7202.000000     7202.000000\n",
              "mean        0.186893    27.792558       67.951770\n",
              "std         0.389852    24.006954       28.538741\n",
              "min         0.000000     0.000000       18.700000\n",
              "25%         0.000000     5.000000       45.750000\n",
              "50%         0.000000    22.000000       74.500000\n",
              "75%         0.000000    49.000000       90.950000\n",
              "max         1.000000    72.000000      118.750000"
            ],
            "text/html": [
              "\n",
              "  <div id=\"df-741a6424-9128-4cc6-8f93-0f973edeef3a\">\n",
              "    <div class=\"colab-df-container\">\n",
              "      <div>\n",
              "<style scoped>\n",
              "    .dataframe tbody tr th:only-of-type {\n",
              "        vertical-align: middle;\n",
              "    }\n",
              "\n",
              "    .dataframe tbody tr th {\n",
              "        vertical-align: top;\n",
              "    }\n",
              "\n",
              "    .dataframe thead th {\n",
              "        text-align: right;\n",
              "    }\n",
              "</style>\n",
              "<table border=\"1\" class=\"dataframe\">\n",
              "  <thead>\n",
              "    <tr style=\"text-align: right;\">\n",
              "      <th></th>\n",
              "      <th>SeniorCitizen</th>\n",
              "      <th>tenure</th>\n",
              "      <th>MonthlyCharges</th>\n",
              "    </tr>\n",
              "  </thead>\n",
              "  <tbody>\n",
              "    <tr>\n",
              "      <th>count</th>\n",
              "      <td>7202.000000</td>\n",
              "      <td>7202.000000</td>\n",
              "      <td>7202.000000</td>\n",
              "    </tr>\n",
              "    <tr>\n",
              "      <th>mean</th>\n",
              "      <td>0.186893</td>\n",
              "      <td>27.792558</td>\n",
              "      <td>67.951770</td>\n",
              "    </tr>\n",
              "    <tr>\n",
              "      <th>std</th>\n",
              "      <td>0.389852</td>\n",
              "      <td>24.006954</td>\n",
              "      <td>28.538741</td>\n",
              "    </tr>\n",
              "    <tr>\n",
              "      <th>min</th>\n",
              "      <td>0.000000</td>\n",
              "      <td>0.000000</td>\n",
              "      <td>18.700000</td>\n",
              "    </tr>\n",
              "    <tr>\n",
              "      <th>25%</th>\n",
              "      <td>0.000000</td>\n",
              "      <td>5.000000</td>\n",
              "      <td>45.750000</td>\n",
              "    </tr>\n",
              "    <tr>\n",
              "      <th>50%</th>\n",
              "      <td>0.000000</td>\n",
              "      <td>22.000000</td>\n",
              "      <td>74.500000</td>\n",
              "    </tr>\n",
              "    <tr>\n",
              "      <th>75%</th>\n",
              "      <td>0.000000</td>\n",
              "      <td>49.000000</td>\n",
              "      <td>90.950000</td>\n",
              "    </tr>\n",
              "    <tr>\n",
              "      <th>max</th>\n",
              "      <td>1.000000</td>\n",
              "      <td>72.000000</td>\n",
              "      <td>118.750000</td>\n",
              "    </tr>\n",
              "  </tbody>\n",
              "</table>\n",
              "</div>\n",
              "      <button class=\"colab-df-convert\" onclick=\"convertToInteractive('df-741a6424-9128-4cc6-8f93-0f973edeef3a')\"\n",
              "              title=\"Convert this dataframe to an interactive table.\"\n",
              "              style=\"display:none;\">\n",
              "        \n",
              "  <svg xmlns=\"http://www.w3.org/2000/svg\" height=\"24px\"viewBox=\"0 0 24 24\"\n",
              "       width=\"24px\">\n",
              "    <path d=\"M0 0h24v24H0V0z\" fill=\"none\"/>\n",
              "    <path d=\"M18.56 5.44l.94 2.06.94-2.06 2.06-.94-2.06-.94-.94-2.06-.94 2.06-2.06.94zm-11 1L8.5 8.5l.94-2.06 2.06-.94-2.06-.94L8.5 2.5l-.94 2.06-2.06.94zm10 10l.94 2.06.94-2.06 2.06-.94-2.06-.94-.94-2.06-.94 2.06-2.06.94z\"/><path d=\"M17.41 7.96l-1.37-1.37c-.4-.4-.92-.59-1.43-.59-.52 0-1.04.2-1.43.59L10.3 9.45l-7.72 7.72c-.78.78-.78 2.05 0 2.83L4 21.41c.39.39.9.59 1.41.59.51 0 1.02-.2 1.41-.59l7.78-7.78 2.81-2.81c.8-.78.8-2.07 0-2.86zM5.41 20L4 18.59l7.72-7.72 1.47 1.35L5.41 20z\"/>\n",
              "  </svg>\n",
              "      </button>\n",
              "      \n",
              "  <style>\n",
              "    .colab-df-container {\n",
              "      display:flex;\n",
              "      flex-wrap:wrap;\n",
              "      gap: 12px;\n",
              "    }\n",
              "\n",
              "    .colab-df-convert {\n",
              "      background-color: #E8F0FE;\n",
              "      border: none;\n",
              "      border-radius: 50%;\n",
              "      cursor: pointer;\n",
              "      display: none;\n",
              "      fill: #1967D2;\n",
              "      height: 32px;\n",
              "      padding: 0 0 0 0;\n",
              "      width: 32px;\n",
              "    }\n",
              "\n",
              "    .colab-df-convert:hover {\n",
              "      background-color: #E2EBFA;\n",
              "      box-shadow: 0px 1px 2px rgba(60, 64, 67, 0.3), 0px 1px 3px 1px rgba(60, 64, 67, 0.15);\n",
              "      fill: #174EA6;\n",
              "    }\n",
              "\n",
              "    [theme=dark] .colab-df-convert {\n",
              "      background-color: #3B4455;\n",
              "      fill: #D2E3FC;\n",
              "    }\n",
              "\n",
              "    [theme=dark] .colab-df-convert:hover {\n",
              "      background-color: #434B5C;\n",
              "      box-shadow: 0px 1px 3px 1px rgba(0, 0, 0, 0.15);\n",
              "      filter: drop-shadow(0px 1px 2px rgba(0, 0, 0, 0.3));\n",
              "      fill: #FFFFFF;\n",
              "    }\n",
              "  </style>\n",
              "\n",
              "      <script>\n",
              "        const buttonEl =\n",
              "          document.querySelector('#df-741a6424-9128-4cc6-8f93-0f973edeef3a button.colab-df-convert');\n",
              "        buttonEl.style.display =\n",
              "          google.colab.kernel.accessAllowed ? 'block' : 'none';\n",
              "\n",
              "        async function convertToInteractive(key) {\n",
              "          const element = document.querySelector('#df-741a6424-9128-4cc6-8f93-0f973edeef3a');\n",
              "          const dataTable =\n",
              "            await google.colab.kernel.invokeFunction('convertToInteractive',\n",
              "                                                     [key], {});\n",
              "          if (!dataTable) return;\n",
              "\n",
              "          const docLinkHtml = 'Like what you see? Visit the ' +\n",
              "            '<a target=\"_blank\" href=https://colab.research.google.com/notebooks/data_table.ipynb>data table notebook</a>'\n",
              "            + ' to learn more about interactive tables.';\n",
              "          element.innerHTML = '';\n",
              "          dataTable['output_type'] = 'display_data';\n",
              "          await google.colab.output.renderOutput(dataTable, element);\n",
              "          const docLink = document.createElement('div');\n",
              "          docLink.innerHTML = docLinkHtml;\n",
              "          element.appendChild(docLink);\n",
              "        }\n",
              "      </script>\n",
              "    </div>\n",
              "  </div>\n",
              "  "
            ]
          },
          "metadata": {},
          "execution_count": 12
        }
      ],
      "source": [
        "X_treino.info()\n",
        "X_treino.describe()"
      ]
    },
    {
      "cell_type": "markdown",
      "metadata": {
        "id": "sAvPCoXBuLC8"
      },
      "source": [
        "**Note que a feature \"Total Charges\" está tipada como objeto. Portanto, faremos uma conversão para float.**"
      ]
    },
    {
      "cell_type": "code",
      "execution_count": null,
      "metadata": {
        "id": "Qw4coH2cuKnM"
      },
      "outputs": [],
      "source": [
        "#Transforma a coluna TotalCharges em numérica, o parâmetro coerce força com que a transformação seja feita, ignorando os erros.\n",
        "X_treino[\"TotalCharges\"] = pd.to_numeric(X_treino.TotalCharges, errors='coerce')\n",
        "\n"
      ]
    },
    {
      "cell_type": "markdown",
      "metadata": {
        "id": "hg0kg91Pa1UJ"
      },
      "source": [
        "**Tendo em vista que mudamos a tipagem da coluna TotalCharges de object para float utilizando o parâmetro \"coerce\", que força essa mudança, é interessante analisarmos novamente se esta coluna tem algum dado NaN (not a number), que poderá influenciar futuramente a nossa modelagem.**\n",
        "\n",
        "\n"
      ]
    },
    {
      "cell_type": "code",
      "execution_count": null,
      "metadata": {
        "id": "pBrBDdSEzaMZ",
        "colab": {
          "base_uri": "https://localhost:8080/",
          "height": 435
        },
        "outputId": "3849d23c-5b4a-41da-d466-aee7b4316747"
      },
      "outputs": [
        {
          "output_type": "execute_result",
          "data": {
            "text/plain": [
              "      customerID  gender  SeniorCitizen Partner Dependents  tenure  \\\n",
              "765   4075-WKNIU  Female              0     Yes        Yes       0   \n",
              "1413  2775-SEFEE    Male              0      No        Yes       0   \n",
              "1691  1371-DWPAZ  Female              0     Yes        Yes       0   \n",
              "3828  3213-VVOLG    Male              0     Yes        Yes       0   \n",
              "4143  2923-ARZLG    Male              0     Yes        Yes       0   \n",
              "4312  7644-OMVMY    Male              0     Yes        Yes       0   \n",
              "\n",
              "     PhoneService     MultipleLines InternetService       OnlineSecurity  ...  \\\n",
              "765           Yes               Yes             DSL                   No  ...   \n",
              "1413          Yes               Yes             DSL                  Yes  ...   \n",
              "1691           No  No phone service             DSL                  Yes  ...   \n",
              "3828          Yes               Yes              No  No internet service  ...   \n",
              "4143          Yes                No              No  No internet service  ...   \n",
              "4312          Yes                No              No  No internet service  ...   \n",
              "\n",
              "         DeviceProtection          TechSupport          StreamingTV  \\\n",
              "765                   Yes                  Yes                  Yes   \n",
              "1413                   No                  Yes                   No   \n",
              "1691                  Yes                  Yes                  Yes   \n",
              "3828  No internet service  No internet service  No internet service   \n",
              "4143  No internet service  No internet service  No internet service   \n",
              "4312  No internet service  No internet service  No internet service   \n",
              "\n",
              "          StreamingMovies  Contract PaperlessBilling  \\\n",
              "765                    No  Two year               No   \n",
              "1413                   No  Two year              Yes   \n",
              "1691                   No  Two year               No   \n",
              "3828  No internet service  Two year               No   \n",
              "4143  No internet service  One year              Yes   \n",
              "4312  No internet service  Two year               No   \n",
              "\n",
              "                  PaymentMethod MonthlyCharges  TotalCharges  Churn  \n",
              "765                Mailed check          73.35           NaN     No  \n",
              "1413  Bank transfer (automatic)          61.90           NaN     No  \n",
              "1691    Credit card (automatic)          56.05           NaN     No  \n",
              "3828               Mailed check          25.35           NaN     No  \n",
              "4143               Mailed check          19.70           NaN     No  \n",
              "4312               Mailed check          19.85           NaN     No  \n",
              "\n",
              "[6 rows x 21 columns]"
            ],
            "text/html": [
              "\n",
              "  <div id=\"df-ea0214e3-f7a7-422d-a09d-2c9a0fe3db04\">\n",
              "    <div class=\"colab-df-container\">\n",
              "      <div>\n",
              "<style scoped>\n",
              "    .dataframe tbody tr th:only-of-type {\n",
              "        vertical-align: middle;\n",
              "    }\n",
              "\n",
              "    .dataframe tbody tr th {\n",
              "        vertical-align: top;\n",
              "    }\n",
              "\n",
              "    .dataframe thead th {\n",
              "        text-align: right;\n",
              "    }\n",
              "</style>\n",
              "<table border=\"1\" class=\"dataframe\">\n",
              "  <thead>\n",
              "    <tr style=\"text-align: right;\">\n",
              "      <th></th>\n",
              "      <th>customerID</th>\n",
              "      <th>gender</th>\n",
              "      <th>SeniorCitizen</th>\n",
              "      <th>Partner</th>\n",
              "      <th>Dependents</th>\n",
              "      <th>tenure</th>\n",
              "      <th>PhoneService</th>\n",
              "      <th>MultipleLines</th>\n",
              "      <th>InternetService</th>\n",
              "      <th>OnlineSecurity</th>\n",
              "      <th>...</th>\n",
              "      <th>DeviceProtection</th>\n",
              "      <th>TechSupport</th>\n",
              "      <th>StreamingTV</th>\n",
              "      <th>StreamingMovies</th>\n",
              "      <th>Contract</th>\n",
              "      <th>PaperlessBilling</th>\n",
              "      <th>PaymentMethod</th>\n",
              "      <th>MonthlyCharges</th>\n",
              "      <th>TotalCharges</th>\n",
              "      <th>Churn</th>\n",
              "    </tr>\n",
              "  </thead>\n",
              "  <tbody>\n",
              "    <tr>\n",
              "      <th>765</th>\n",
              "      <td>4075-WKNIU</td>\n",
              "      <td>Female</td>\n",
              "      <td>0</td>\n",
              "      <td>Yes</td>\n",
              "      <td>Yes</td>\n",
              "      <td>0</td>\n",
              "      <td>Yes</td>\n",
              "      <td>Yes</td>\n",
              "      <td>DSL</td>\n",
              "      <td>No</td>\n",
              "      <td>...</td>\n",
              "      <td>Yes</td>\n",
              "      <td>Yes</td>\n",
              "      <td>Yes</td>\n",
              "      <td>No</td>\n",
              "      <td>Two year</td>\n",
              "      <td>No</td>\n",
              "      <td>Mailed check</td>\n",
              "      <td>73.35</td>\n",
              "      <td>NaN</td>\n",
              "      <td>No</td>\n",
              "    </tr>\n",
              "    <tr>\n",
              "      <th>1413</th>\n",
              "      <td>2775-SEFEE</td>\n",
              "      <td>Male</td>\n",
              "      <td>0</td>\n",
              "      <td>No</td>\n",
              "      <td>Yes</td>\n",
              "      <td>0</td>\n",
              "      <td>Yes</td>\n",
              "      <td>Yes</td>\n",
              "      <td>DSL</td>\n",
              "      <td>Yes</td>\n",
              "      <td>...</td>\n",
              "      <td>No</td>\n",
              "      <td>Yes</td>\n",
              "      <td>No</td>\n",
              "      <td>No</td>\n",
              "      <td>Two year</td>\n",
              "      <td>Yes</td>\n",
              "      <td>Bank transfer (automatic)</td>\n",
              "      <td>61.90</td>\n",
              "      <td>NaN</td>\n",
              "      <td>No</td>\n",
              "    </tr>\n",
              "    <tr>\n",
              "      <th>1691</th>\n",
              "      <td>1371-DWPAZ</td>\n",
              "      <td>Female</td>\n",
              "      <td>0</td>\n",
              "      <td>Yes</td>\n",
              "      <td>Yes</td>\n",
              "      <td>0</td>\n",
              "      <td>No</td>\n",
              "      <td>No phone service</td>\n",
              "      <td>DSL</td>\n",
              "      <td>Yes</td>\n",
              "      <td>...</td>\n",
              "      <td>Yes</td>\n",
              "      <td>Yes</td>\n",
              "      <td>Yes</td>\n",
              "      <td>No</td>\n",
              "      <td>Two year</td>\n",
              "      <td>No</td>\n",
              "      <td>Credit card (automatic)</td>\n",
              "      <td>56.05</td>\n",
              "      <td>NaN</td>\n",
              "      <td>No</td>\n",
              "    </tr>\n",
              "    <tr>\n",
              "      <th>3828</th>\n",
              "      <td>3213-VVOLG</td>\n",
              "      <td>Male</td>\n",
              "      <td>0</td>\n",
              "      <td>Yes</td>\n",
              "      <td>Yes</td>\n",
              "      <td>0</td>\n",
              "      <td>Yes</td>\n",
              "      <td>Yes</td>\n",
              "      <td>No</td>\n",
              "      <td>No internet service</td>\n",
              "      <td>...</td>\n",
              "      <td>No internet service</td>\n",
              "      <td>No internet service</td>\n",
              "      <td>No internet service</td>\n",
              "      <td>No internet service</td>\n",
              "      <td>Two year</td>\n",
              "      <td>No</td>\n",
              "      <td>Mailed check</td>\n",
              "      <td>25.35</td>\n",
              "      <td>NaN</td>\n",
              "      <td>No</td>\n",
              "    </tr>\n",
              "    <tr>\n",
              "      <th>4143</th>\n",
              "      <td>2923-ARZLG</td>\n",
              "      <td>Male</td>\n",
              "      <td>0</td>\n",
              "      <td>Yes</td>\n",
              "      <td>Yes</td>\n",
              "      <td>0</td>\n",
              "      <td>Yes</td>\n",
              "      <td>No</td>\n",
              "      <td>No</td>\n",
              "      <td>No internet service</td>\n",
              "      <td>...</td>\n",
              "      <td>No internet service</td>\n",
              "      <td>No internet service</td>\n",
              "      <td>No internet service</td>\n",
              "      <td>No internet service</td>\n",
              "      <td>One year</td>\n",
              "      <td>Yes</td>\n",
              "      <td>Mailed check</td>\n",
              "      <td>19.70</td>\n",
              "      <td>NaN</td>\n",
              "      <td>No</td>\n",
              "    </tr>\n",
              "    <tr>\n",
              "      <th>4312</th>\n",
              "      <td>7644-OMVMY</td>\n",
              "      <td>Male</td>\n",
              "      <td>0</td>\n",
              "      <td>Yes</td>\n",
              "      <td>Yes</td>\n",
              "      <td>0</td>\n",
              "      <td>Yes</td>\n",
              "      <td>No</td>\n",
              "      <td>No</td>\n",
              "      <td>No internet service</td>\n",
              "      <td>...</td>\n",
              "      <td>No internet service</td>\n",
              "      <td>No internet service</td>\n",
              "      <td>No internet service</td>\n",
              "      <td>No internet service</td>\n",
              "      <td>Two year</td>\n",
              "      <td>No</td>\n",
              "      <td>Mailed check</td>\n",
              "      <td>19.85</td>\n",
              "      <td>NaN</td>\n",
              "      <td>No</td>\n",
              "    </tr>\n",
              "  </tbody>\n",
              "</table>\n",
              "<p>6 rows × 21 columns</p>\n",
              "</div>\n",
              "      <button class=\"colab-df-convert\" onclick=\"convertToInteractive('df-ea0214e3-f7a7-422d-a09d-2c9a0fe3db04')\"\n",
              "              title=\"Convert this dataframe to an interactive table.\"\n",
              "              style=\"display:none;\">\n",
              "        \n",
              "  <svg xmlns=\"http://www.w3.org/2000/svg\" height=\"24px\"viewBox=\"0 0 24 24\"\n",
              "       width=\"24px\">\n",
              "    <path d=\"M0 0h24v24H0V0z\" fill=\"none\"/>\n",
              "    <path d=\"M18.56 5.44l.94 2.06.94-2.06 2.06-.94-2.06-.94-.94-2.06-.94 2.06-2.06.94zm-11 1L8.5 8.5l.94-2.06 2.06-.94-2.06-.94L8.5 2.5l-.94 2.06-2.06.94zm10 10l.94 2.06.94-2.06 2.06-.94-2.06-.94-.94-2.06-.94 2.06-2.06.94z\"/><path d=\"M17.41 7.96l-1.37-1.37c-.4-.4-.92-.59-1.43-.59-.52 0-1.04.2-1.43.59L10.3 9.45l-7.72 7.72c-.78.78-.78 2.05 0 2.83L4 21.41c.39.39.9.59 1.41.59.51 0 1.02-.2 1.41-.59l7.78-7.78 2.81-2.81c.8-.78.8-2.07 0-2.86zM5.41 20L4 18.59l7.72-7.72 1.47 1.35L5.41 20z\"/>\n",
              "  </svg>\n",
              "      </button>\n",
              "      \n",
              "  <style>\n",
              "    .colab-df-container {\n",
              "      display:flex;\n",
              "      flex-wrap:wrap;\n",
              "      gap: 12px;\n",
              "    }\n",
              "\n",
              "    .colab-df-convert {\n",
              "      background-color: #E8F0FE;\n",
              "      border: none;\n",
              "      border-radius: 50%;\n",
              "      cursor: pointer;\n",
              "      display: none;\n",
              "      fill: #1967D2;\n",
              "      height: 32px;\n",
              "      padding: 0 0 0 0;\n",
              "      width: 32px;\n",
              "    }\n",
              "\n",
              "    .colab-df-convert:hover {\n",
              "      background-color: #E2EBFA;\n",
              "      box-shadow: 0px 1px 2px rgba(60, 64, 67, 0.3), 0px 1px 3px 1px rgba(60, 64, 67, 0.15);\n",
              "      fill: #174EA6;\n",
              "    }\n",
              "\n",
              "    [theme=dark] .colab-df-convert {\n",
              "      background-color: #3B4455;\n",
              "      fill: #D2E3FC;\n",
              "    }\n",
              "\n",
              "    [theme=dark] .colab-df-convert:hover {\n",
              "      background-color: #434B5C;\n",
              "      box-shadow: 0px 1px 3px 1px rgba(0, 0, 0, 0.15);\n",
              "      filter: drop-shadow(0px 1px 2px rgba(0, 0, 0, 0.3));\n",
              "      fill: #FFFFFF;\n",
              "    }\n",
              "  </style>\n",
              "\n",
              "      <script>\n",
              "        const buttonEl =\n",
              "          document.querySelector('#df-ea0214e3-f7a7-422d-a09d-2c9a0fe3db04 button.colab-df-convert');\n",
              "        buttonEl.style.display =\n",
              "          google.colab.kernel.accessAllowed ? 'block' : 'none';\n",
              "\n",
              "        async function convertToInteractive(key) {\n",
              "          const element = document.querySelector('#df-ea0214e3-f7a7-422d-a09d-2c9a0fe3db04');\n",
              "          const dataTable =\n",
              "            await google.colab.kernel.invokeFunction('convertToInteractive',\n",
              "                                                     [key], {});\n",
              "          if (!dataTable) return;\n",
              "\n",
              "          const docLinkHtml = 'Like what you see? Visit the ' +\n",
              "            '<a target=\"_blank\" href=https://colab.research.google.com/notebooks/data_table.ipynb>data table notebook</a>'\n",
              "            + ' to learn more about interactive tables.';\n",
              "          element.innerHTML = '';\n",
              "          dataTable['output_type'] = 'display_data';\n",
              "          await google.colab.output.renderOutput(dataTable, element);\n",
              "          const docLink = document.createElement('div');\n",
              "          docLink.innerHTML = docLinkHtml;\n",
              "          element.appendChild(docLink);\n",
              "        }\n",
              "      </script>\n",
              "    </div>\n",
              "  </div>\n",
              "  "
            ]
          },
          "metadata": {},
          "execution_count": 14
        }
      ],
      "source": [
        "X_treino[X_treino.TotalCharges.isna()]"
      ]
    },
    {
      "cell_type": "markdown",
      "source": [
        "Note que exatamente os mesmos clientes que estão com dados faltantes no campo TotalCharges são os únicos com tenure igual a zero."
      ],
      "metadata": {
        "id": "Q8tL8rgw89Ul"
      }
    },
    {
      "cell_type": "code",
      "source": [
        "X_treino[X_treino.tenure == 0]"
      ],
      "metadata": {
        "id": "aO8SLb8T8vKE",
        "colab": {
          "base_uri": "https://localhost:8080/",
          "height": 435
        },
        "outputId": "f9805857-9bbe-455b-91f0-b2e4ae135433"
      },
      "execution_count": null,
      "outputs": [
        {
          "output_type": "execute_result",
          "data": {
            "text/plain": [
              "      customerID  gender  SeniorCitizen Partner Dependents  tenure  \\\n",
              "765   4075-WKNIU  Female              0     Yes        Yes       0   \n",
              "1413  2775-SEFEE    Male              0      No        Yes       0   \n",
              "1691  1371-DWPAZ  Female              0     Yes        Yes       0   \n",
              "3828  3213-VVOLG    Male              0     Yes        Yes       0   \n",
              "4143  2923-ARZLG    Male              0     Yes        Yes       0   \n",
              "4312  7644-OMVMY    Male              0     Yes        Yes       0   \n",
              "\n",
              "     PhoneService     MultipleLines InternetService       OnlineSecurity  ...  \\\n",
              "765           Yes               Yes             DSL                   No  ...   \n",
              "1413          Yes               Yes             DSL                  Yes  ...   \n",
              "1691           No  No phone service             DSL                  Yes  ...   \n",
              "3828          Yes               Yes              No  No internet service  ...   \n",
              "4143          Yes                No              No  No internet service  ...   \n",
              "4312          Yes                No              No  No internet service  ...   \n",
              "\n",
              "         DeviceProtection          TechSupport          StreamingTV  \\\n",
              "765                   Yes                  Yes                  Yes   \n",
              "1413                   No                  Yes                   No   \n",
              "1691                  Yes                  Yes                  Yes   \n",
              "3828  No internet service  No internet service  No internet service   \n",
              "4143  No internet service  No internet service  No internet service   \n",
              "4312  No internet service  No internet service  No internet service   \n",
              "\n",
              "          StreamingMovies  Contract PaperlessBilling  \\\n",
              "765                    No  Two year               No   \n",
              "1413                   No  Two year              Yes   \n",
              "1691                   No  Two year               No   \n",
              "3828  No internet service  Two year               No   \n",
              "4143  No internet service  One year              Yes   \n",
              "4312  No internet service  Two year               No   \n",
              "\n",
              "                  PaymentMethod MonthlyCharges  TotalCharges  Churn  \n",
              "765                Mailed check          73.35           NaN     No  \n",
              "1413  Bank transfer (automatic)          61.90           NaN     No  \n",
              "1691    Credit card (automatic)          56.05           NaN     No  \n",
              "3828               Mailed check          25.35           NaN     No  \n",
              "4143               Mailed check          19.70           NaN     No  \n",
              "4312               Mailed check          19.85           NaN     No  \n",
              "\n",
              "[6 rows x 21 columns]"
            ],
            "text/html": [
              "\n",
              "  <div id=\"df-d18a77dd-6706-4b20-8307-680b3c5b06f1\">\n",
              "    <div class=\"colab-df-container\">\n",
              "      <div>\n",
              "<style scoped>\n",
              "    .dataframe tbody tr th:only-of-type {\n",
              "        vertical-align: middle;\n",
              "    }\n",
              "\n",
              "    .dataframe tbody tr th {\n",
              "        vertical-align: top;\n",
              "    }\n",
              "\n",
              "    .dataframe thead th {\n",
              "        text-align: right;\n",
              "    }\n",
              "</style>\n",
              "<table border=\"1\" class=\"dataframe\">\n",
              "  <thead>\n",
              "    <tr style=\"text-align: right;\">\n",
              "      <th></th>\n",
              "      <th>customerID</th>\n",
              "      <th>gender</th>\n",
              "      <th>SeniorCitizen</th>\n",
              "      <th>Partner</th>\n",
              "      <th>Dependents</th>\n",
              "      <th>tenure</th>\n",
              "      <th>PhoneService</th>\n",
              "      <th>MultipleLines</th>\n",
              "      <th>InternetService</th>\n",
              "      <th>OnlineSecurity</th>\n",
              "      <th>...</th>\n",
              "      <th>DeviceProtection</th>\n",
              "      <th>TechSupport</th>\n",
              "      <th>StreamingTV</th>\n",
              "      <th>StreamingMovies</th>\n",
              "      <th>Contract</th>\n",
              "      <th>PaperlessBilling</th>\n",
              "      <th>PaymentMethod</th>\n",
              "      <th>MonthlyCharges</th>\n",
              "      <th>TotalCharges</th>\n",
              "      <th>Churn</th>\n",
              "    </tr>\n",
              "  </thead>\n",
              "  <tbody>\n",
              "    <tr>\n",
              "      <th>765</th>\n",
              "      <td>4075-WKNIU</td>\n",
              "      <td>Female</td>\n",
              "      <td>0</td>\n",
              "      <td>Yes</td>\n",
              "      <td>Yes</td>\n",
              "      <td>0</td>\n",
              "      <td>Yes</td>\n",
              "      <td>Yes</td>\n",
              "      <td>DSL</td>\n",
              "      <td>No</td>\n",
              "      <td>...</td>\n",
              "      <td>Yes</td>\n",
              "      <td>Yes</td>\n",
              "      <td>Yes</td>\n",
              "      <td>No</td>\n",
              "      <td>Two year</td>\n",
              "      <td>No</td>\n",
              "      <td>Mailed check</td>\n",
              "      <td>73.35</td>\n",
              "      <td>NaN</td>\n",
              "      <td>No</td>\n",
              "    </tr>\n",
              "    <tr>\n",
              "      <th>1413</th>\n",
              "      <td>2775-SEFEE</td>\n",
              "      <td>Male</td>\n",
              "      <td>0</td>\n",
              "      <td>No</td>\n",
              "      <td>Yes</td>\n",
              "      <td>0</td>\n",
              "      <td>Yes</td>\n",
              "      <td>Yes</td>\n",
              "      <td>DSL</td>\n",
              "      <td>Yes</td>\n",
              "      <td>...</td>\n",
              "      <td>No</td>\n",
              "      <td>Yes</td>\n",
              "      <td>No</td>\n",
              "      <td>No</td>\n",
              "      <td>Two year</td>\n",
              "      <td>Yes</td>\n",
              "      <td>Bank transfer (automatic)</td>\n",
              "      <td>61.90</td>\n",
              "      <td>NaN</td>\n",
              "      <td>No</td>\n",
              "    </tr>\n",
              "    <tr>\n",
              "      <th>1691</th>\n",
              "      <td>1371-DWPAZ</td>\n",
              "      <td>Female</td>\n",
              "      <td>0</td>\n",
              "      <td>Yes</td>\n",
              "      <td>Yes</td>\n",
              "      <td>0</td>\n",
              "      <td>No</td>\n",
              "      <td>No phone service</td>\n",
              "      <td>DSL</td>\n",
              "      <td>Yes</td>\n",
              "      <td>...</td>\n",
              "      <td>Yes</td>\n",
              "      <td>Yes</td>\n",
              "      <td>Yes</td>\n",
              "      <td>No</td>\n",
              "      <td>Two year</td>\n",
              "      <td>No</td>\n",
              "      <td>Credit card (automatic)</td>\n",
              "      <td>56.05</td>\n",
              "      <td>NaN</td>\n",
              "      <td>No</td>\n",
              "    </tr>\n",
              "    <tr>\n",
              "      <th>3828</th>\n",
              "      <td>3213-VVOLG</td>\n",
              "      <td>Male</td>\n",
              "      <td>0</td>\n",
              "      <td>Yes</td>\n",
              "      <td>Yes</td>\n",
              "      <td>0</td>\n",
              "      <td>Yes</td>\n",
              "      <td>Yes</td>\n",
              "      <td>No</td>\n",
              "      <td>No internet service</td>\n",
              "      <td>...</td>\n",
              "      <td>No internet service</td>\n",
              "      <td>No internet service</td>\n",
              "      <td>No internet service</td>\n",
              "      <td>No internet service</td>\n",
              "      <td>Two year</td>\n",
              "      <td>No</td>\n",
              "      <td>Mailed check</td>\n",
              "      <td>25.35</td>\n",
              "      <td>NaN</td>\n",
              "      <td>No</td>\n",
              "    </tr>\n",
              "    <tr>\n",
              "      <th>4143</th>\n",
              "      <td>2923-ARZLG</td>\n",
              "      <td>Male</td>\n",
              "      <td>0</td>\n",
              "      <td>Yes</td>\n",
              "      <td>Yes</td>\n",
              "      <td>0</td>\n",
              "      <td>Yes</td>\n",
              "      <td>No</td>\n",
              "      <td>No</td>\n",
              "      <td>No internet service</td>\n",
              "      <td>...</td>\n",
              "      <td>No internet service</td>\n",
              "      <td>No internet service</td>\n",
              "      <td>No internet service</td>\n",
              "      <td>No internet service</td>\n",
              "      <td>One year</td>\n",
              "      <td>Yes</td>\n",
              "      <td>Mailed check</td>\n",
              "      <td>19.70</td>\n",
              "      <td>NaN</td>\n",
              "      <td>No</td>\n",
              "    </tr>\n",
              "    <tr>\n",
              "      <th>4312</th>\n",
              "      <td>7644-OMVMY</td>\n",
              "      <td>Male</td>\n",
              "      <td>0</td>\n",
              "      <td>Yes</td>\n",
              "      <td>Yes</td>\n",
              "      <td>0</td>\n",
              "      <td>Yes</td>\n",
              "      <td>No</td>\n",
              "      <td>No</td>\n",
              "      <td>No internet service</td>\n",
              "      <td>...</td>\n",
              "      <td>No internet service</td>\n",
              "      <td>No internet service</td>\n",
              "      <td>No internet service</td>\n",
              "      <td>No internet service</td>\n",
              "      <td>Two year</td>\n",
              "      <td>No</td>\n",
              "      <td>Mailed check</td>\n",
              "      <td>19.85</td>\n",
              "      <td>NaN</td>\n",
              "      <td>No</td>\n",
              "    </tr>\n",
              "  </tbody>\n",
              "</table>\n",
              "<p>6 rows × 21 columns</p>\n",
              "</div>\n",
              "      <button class=\"colab-df-convert\" onclick=\"convertToInteractive('df-d18a77dd-6706-4b20-8307-680b3c5b06f1')\"\n",
              "              title=\"Convert this dataframe to an interactive table.\"\n",
              "              style=\"display:none;\">\n",
              "        \n",
              "  <svg xmlns=\"http://www.w3.org/2000/svg\" height=\"24px\"viewBox=\"0 0 24 24\"\n",
              "       width=\"24px\">\n",
              "    <path d=\"M0 0h24v24H0V0z\" fill=\"none\"/>\n",
              "    <path d=\"M18.56 5.44l.94 2.06.94-2.06 2.06-.94-2.06-.94-.94-2.06-.94 2.06-2.06.94zm-11 1L8.5 8.5l.94-2.06 2.06-.94-2.06-.94L8.5 2.5l-.94 2.06-2.06.94zm10 10l.94 2.06.94-2.06 2.06-.94-2.06-.94-.94-2.06-.94 2.06-2.06.94z\"/><path d=\"M17.41 7.96l-1.37-1.37c-.4-.4-.92-.59-1.43-.59-.52 0-1.04.2-1.43.59L10.3 9.45l-7.72 7.72c-.78.78-.78 2.05 0 2.83L4 21.41c.39.39.9.59 1.41.59.51 0 1.02-.2 1.41-.59l7.78-7.78 2.81-2.81c.8-.78.8-2.07 0-2.86zM5.41 20L4 18.59l7.72-7.72 1.47 1.35L5.41 20z\"/>\n",
              "  </svg>\n",
              "      </button>\n",
              "      \n",
              "  <style>\n",
              "    .colab-df-container {\n",
              "      display:flex;\n",
              "      flex-wrap:wrap;\n",
              "      gap: 12px;\n",
              "    }\n",
              "\n",
              "    .colab-df-convert {\n",
              "      background-color: #E8F0FE;\n",
              "      border: none;\n",
              "      border-radius: 50%;\n",
              "      cursor: pointer;\n",
              "      display: none;\n",
              "      fill: #1967D2;\n",
              "      height: 32px;\n",
              "      padding: 0 0 0 0;\n",
              "      width: 32px;\n",
              "    }\n",
              "\n",
              "    .colab-df-convert:hover {\n",
              "      background-color: #E2EBFA;\n",
              "      box-shadow: 0px 1px 2px rgba(60, 64, 67, 0.3), 0px 1px 3px 1px rgba(60, 64, 67, 0.15);\n",
              "      fill: #174EA6;\n",
              "    }\n",
              "\n",
              "    [theme=dark] .colab-df-convert {\n",
              "      background-color: #3B4455;\n",
              "      fill: #D2E3FC;\n",
              "    }\n",
              "\n",
              "    [theme=dark] .colab-df-convert:hover {\n",
              "      background-color: #434B5C;\n",
              "      box-shadow: 0px 1px 3px 1px rgba(0, 0, 0, 0.15);\n",
              "      filter: drop-shadow(0px 1px 2px rgba(0, 0, 0, 0.3));\n",
              "      fill: #FFFFFF;\n",
              "    }\n",
              "  </style>\n",
              "\n",
              "      <script>\n",
              "        const buttonEl =\n",
              "          document.querySelector('#df-d18a77dd-6706-4b20-8307-680b3c5b06f1 button.colab-df-convert');\n",
              "        buttonEl.style.display =\n",
              "          google.colab.kernel.accessAllowed ? 'block' : 'none';\n",
              "\n",
              "        async function convertToInteractive(key) {\n",
              "          const element = document.querySelector('#df-d18a77dd-6706-4b20-8307-680b3c5b06f1');\n",
              "          const dataTable =\n",
              "            await google.colab.kernel.invokeFunction('convertToInteractive',\n",
              "                                                     [key], {});\n",
              "          if (!dataTable) return;\n",
              "\n",
              "          const docLinkHtml = 'Like what you see? Visit the ' +\n",
              "            '<a target=\"_blank\" href=https://colab.research.google.com/notebooks/data_table.ipynb>data table notebook</a>'\n",
              "            + ' to learn more about interactive tables.';\n",
              "          element.innerHTML = '';\n",
              "          dataTable['output_type'] = 'display_data';\n",
              "          await google.colab.output.renderOutput(dataTable, element);\n",
              "          const docLink = document.createElement('div');\n",
              "          docLink.innerHTML = docLinkHtml;\n",
              "          element.appendChild(docLink);\n",
              "        }\n",
              "      </script>\n",
              "    </div>\n",
              "  </div>\n",
              "  "
            ]
          },
          "metadata": {},
          "execution_count": 15
        }
      ]
    },
    {
      "cell_type": "markdown",
      "metadata": {
        "id": "85aUMFHYzARb"
      },
      "source": [
        "**Encontramos seis clientes onde a feature \"TotalCharges\" está faltante. Note que o comando describe não captou estes dados. Isso se deve ao fato de termos strings com um espaço no campo, fazendo com que o describe entendesse aquilo como um campo preenchido. Mas quando trocamos para float e utilizamos o comando \"coerce\" os campos nulos são evidenciados**\n",
        "\n",
        "\n",
        "**Para resolver o problema dos campos nulos, vamos fazer uma análise dos dados obtidos.**\n",
        "\n",
        "**No banco de dados, nós temos três colunas que podem nos ajudar a entender estes dados faltantes. A coluna tenure, que é o período em que o cliente consome (ou consumiu) o nosso produto, em meses; a coluna monthly charges, que corresponde a conta mensal que deve ser paga pelo cliente pelo serviço e finalmente a coluna totalcharges, que corresponde ao montante total pago pelo cliente até o momento.**\n",
        "\n",
        "**Portanto, podemos supor que a coluna totalcharges possa ser descrita da seguinte maneira:**\n",
        "\n",
        "\n",
        "\n",
        ">>>TotalCharges = (MonthlyCharges) x (Tenure)\n",
        "\n",
        "**Porém, em algumas linhas podemos ver sutis diferenças entre o valor de TotalCharges calculado desta maneira e o real. Porém, para o caso de Tenure igual a zero, ou seja, o cliente ainda não completou um mês, podemos entender que a primeira fatura ainda não foi cobrada e, portanto, TotalCharges é igual a zero neste momento. Exatamente o que acontece nas linhas com dados faltantes, todas elas tem tenure igual a zero. Portanto, podemos fazer esta interpretação dos dados**\n",
        "\n",
        "\n",
        "\n",
        "\n",
        "\n"
      ]
    },
    {
      "cell_type": "code",
      "source": [
        "X_treino['TotalCharges'].replace(np.NaN, 0, inplace=True)\n",
        "X_treino[X_treino.TotalCharges.isna()]"
      ],
      "metadata": {
        "id": "ENmUDVIuVrzL",
        "colab": {
          "base_uri": "https://localhost:8080/",
          "height": 143
        },
        "outputId": "65d1e33a-6a98-4e7e-f550-a77848cc12e6"
      },
      "execution_count": null,
      "outputs": [
        {
          "output_type": "execute_result",
          "data": {
            "text/plain": [
              "Empty DataFrame\n",
              "Columns: [customerID, gender, SeniorCitizen, Partner, Dependents, tenure, PhoneService, MultipleLines, InternetService, OnlineSecurity, OnlineBackup, DeviceProtection, TechSupport, StreamingTV, StreamingMovies, Contract, PaperlessBilling, PaymentMethod, MonthlyCharges, TotalCharges, Churn]\n",
              "Index: []\n",
              "\n",
              "[0 rows x 21 columns]"
            ],
            "text/html": [
              "\n",
              "  <div id=\"df-2c608987-12ec-4c93-9198-45198a0297a5\">\n",
              "    <div class=\"colab-df-container\">\n",
              "      <div>\n",
              "<style scoped>\n",
              "    .dataframe tbody tr th:only-of-type {\n",
              "        vertical-align: middle;\n",
              "    }\n",
              "\n",
              "    .dataframe tbody tr th {\n",
              "        vertical-align: top;\n",
              "    }\n",
              "\n",
              "    .dataframe thead th {\n",
              "        text-align: right;\n",
              "    }\n",
              "</style>\n",
              "<table border=\"1\" class=\"dataframe\">\n",
              "  <thead>\n",
              "    <tr style=\"text-align: right;\">\n",
              "      <th></th>\n",
              "      <th>customerID</th>\n",
              "      <th>gender</th>\n",
              "      <th>SeniorCitizen</th>\n",
              "      <th>Partner</th>\n",
              "      <th>Dependents</th>\n",
              "      <th>tenure</th>\n",
              "      <th>PhoneService</th>\n",
              "      <th>MultipleLines</th>\n",
              "      <th>InternetService</th>\n",
              "      <th>OnlineSecurity</th>\n",
              "      <th>...</th>\n",
              "      <th>DeviceProtection</th>\n",
              "      <th>TechSupport</th>\n",
              "      <th>StreamingTV</th>\n",
              "      <th>StreamingMovies</th>\n",
              "      <th>Contract</th>\n",
              "      <th>PaperlessBilling</th>\n",
              "      <th>PaymentMethod</th>\n",
              "      <th>MonthlyCharges</th>\n",
              "      <th>TotalCharges</th>\n",
              "      <th>Churn</th>\n",
              "    </tr>\n",
              "  </thead>\n",
              "  <tbody>\n",
              "  </tbody>\n",
              "</table>\n",
              "<p>0 rows × 21 columns</p>\n",
              "</div>\n",
              "      <button class=\"colab-df-convert\" onclick=\"convertToInteractive('df-2c608987-12ec-4c93-9198-45198a0297a5')\"\n",
              "              title=\"Convert this dataframe to an interactive table.\"\n",
              "              style=\"display:none;\">\n",
              "        \n",
              "  <svg xmlns=\"http://www.w3.org/2000/svg\" height=\"24px\"viewBox=\"0 0 24 24\"\n",
              "       width=\"24px\">\n",
              "    <path d=\"M0 0h24v24H0V0z\" fill=\"none\"/>\n",
              "    <path d=\"M18.56 5.44l.94 2.06.94-2.06 2.06-.94-2.06-.94-.94-2.06-.94 2.06-2.06.94zm-11 1L8.5 8.5l.94-2.06 2.06-.94-2.06-.94L8.5 2.5l-.94 2.06-2.06.94zm10 10l.94 2.06.94-2.06 2.06-.94-2.06-.94-.94-2.06-.94 2.06-2.06.94z\"/><path d=\"M17.41 7.96l-1.37-1.37c-.4-.4-.92-.59-1.43-.59-.52 0-1.04.2-1.43.59L10.3 9.45l-7.72 7.72c-.78.78-.78 2.05 0 2.83L4 21.41c.39.39.9.59 1.41.59.51 0 1.02-.2 1.41-.59l7.78-7.78 2.81-2.81c.8-.78.8-2.07 0-2.86zM5.41 20L4 18.59l7.72-7.72 1.47 1.35L5.41 20z\"/>\n",
              "  </svg>\n",
              "      </button>\n",
              "      \n",
              "  <style>\n",
              "    .colab-df-container {\n",
              "      display:flex;\n",
              "      flex-wrap:wrap;\n",
              "      gap: 12px;\n",
              "    }\n",
              "\n",
              "    .colab-df-convert {\n",
              "      background-color: #E8F0FE;\n",
              "      border: none;\n",
              "      border-radius: 50%;\n",
              "      cursor: pointer;\n",
              "      display: none;\n",
              "      fill: #1967D2;\n",
              "      height: 32px;\n",
              "      padding: 0 0 0 0;\n",
              "      width: 32px;\n",
              "    }\n",
              "\n",
              "    .colab-df-convert:hover {\n",
              "      background-color: #E2EBFA;\n",
              "      box-shadow: 0px 1px 2px rgba(60, 64, 67, 0.3), 0px 1px 3px 1px rgba(60, 64, 67, 0.15);\n",
              "      fill: #174EA6;\n",
              "    }\n",
              "\n",
              "    [theme=dark] .colab-df-convert {\n",
              "      background-color: #3B4455;\n",
              "      fill: #D2E3FC;\n",
              "    }\n",
              "\n",
              "    [theme=dark] .colab-df-convert:hover {\n",
              "      background-color: #434B5C;\n",
              "      box-shadow: 0px 1px 3px 1px rgba(0, 0, 0, 0.15);\n",
              "      filter: drop-shadow(0px 1px 2px rgba(0, 0, 0, 0.3));\n",
              "      fill: #FFFFFF;\n",
              "    }\n",
              "  </style>\n",
              "\n",
              "      <script>\n",
              "        const buttonEl =\n",
              "          document.querySelector('#df-2c608987-12ec-4c93-9198-45198a0297a5 button.colab-df-convert');\n",
              "        buttonEl.style.display =\n",
              "          google.colab.kernel.accessAllowed ? 'block' : 'none';\n",
              "\n",
              "        async function convertToInteractive(key) {\n",
              "          const element = document.querySelector('#df-2c608987-12ec-4c93-9198-45198a0297a5');\n",
              "          const dataTable =\n",
              "            await google.colab.kernel.invokeFunction('convertToInteractive',\n",
              "                                                     [key], {});\n",
              "          if (!dataTable) return;\n",
              "\n",
              "          const docLinkHtml = 'Like what you see? Visit the ' +\n",
              "            '<a target=\"_blank\" href=https://colab.research.google.com/notebooks/data_table.ipynb>data table notebook</a>'\n",
              "            + ' to learn more about interactive tables.';\n",
              "          element.innerHTML = '';\n",
              "          dataTable['output_type'] = 'display_data';\n",
              "          await google.colab.output.renderOutput(dataTable, element);\n",
              "          const docLink = document.createElement('div');\n",
              "          docLink.innerHTML = docLinkHtml;\n",
              "          element.appendChild(docLink);\n",
              "        }\n",
              "      </script>\n",
              "    </div>\n",
              "  </div>\n",
              "  "
            ]
          },
          "metadata": {},
          "execution_count": 16
        }
      ]
    },
    {
      "cell_type": "markdown",
      "source": [
        "**Agora, sem dados faltantes, podemos continuar a nossa modelagem. O primeiro passo será remover a coluna de Id dos clientes para evitar dados vazados.**\n"
      ],
      "metadata": {
        "id": "F3y2xbsnXJnC"
      }
    },
    {
      "cell_type": "code",
      "execution_count": null,
      "metadata": {
        "id": "cosUmVkEXOax"
      },
      "outputs": [],
      "source": [
        "X_treino.head()\n",
        "X_treino.drop('customerID', axis=1, inplace=True)"
      ]
    },
    {
      "cell_type": "markdown",
      "source": [
        "**Transformando os dados de classificação em numéricos:**"
      ],
      "metadata": {
        "id": "PyAkDoVPZzaT"
      }
    },
    {
      "cell_type": "code",
      "source": [
        "for i in X_treino:\n",
        "\n",
        "  if X_treino[i].dtypes=='object':\n",
        "    print(f'{i}: {X_treino[i].unique()}' )"
      ],
      "metadata": {
        "id": "UQDib0YebPZY",
        "colab": {
          "base_uri": "https://localhost:8080/"
        },
        "outputId": "e04c49fa-6bdf-4110-b330-ba9629a3a28e"
      },
      "execution_count": null,
      "outputs": [
        {
          "output_type": "stream",
          "name": "stdout",
          "text": [
            "gender: ['Female' 'Male']\n",
            "Partner: ['Yes' 'No']\n",
            "Dependents: ['No' 'Yes']\n",
            "PhoneService: ['No' 'Yes']\n",
            "MultipleLines: ['No phone service' 'Yes' 'No']\n",
            "InternetService: ['DSL' 'No' 'Fiber optic']\n",
            "OnlineSecurity: ['No' 'No internet service' 'Yes']\n",
            "OnlineBackup: ['No' 'No internet service' 'Yes']\n",
            "DeviceProtection: ['No' 'No internet service' 'Yes']\n",
            "TechSupport: ['No' 'No internet service' 'Yes']\n",
            "StreamingTV: ['No' 'No internet service' 'Yes']\n",
            "StreamingMovies: ['No' 'No internet service' 'Yes']\n",
            "Contract: ['Month-to-month' 'Two year' 'One year']\n",
            "PaperlessBilling: ['Yes' 'No']\n",
            "PaymentMethod: ['Electronic check' 'Bank transfer (automatic)' 'Mailed check'\n",
            " 'Credit card (automatic)']\n",
            "Churn: ['Yes' 'No']\n"
          ]
        }
      ]
    },
    {
      "cell_type": "code",
      "source": [],
      "metadata": {
        "id": "BFQfGwkcblya"
      },
      "execution_count": null,
      "outputs": []
    },
    {
      "cell_type": "code",
      "source": [
        "#Filtrando respostas com mesmo sentido\n",
        "X_treino.replace('No phone service', 'No', inplace=True)\n",
        "X_treino.replace('No internet service', 'No', inplace=True)\n",
        "\n",
        "#Transformando os dados de classificação em numéricos\n",
        "X_treino_num = X_treino.replace('No', 0)\n",
        "X_treino_num.replace('Yes', 1, inplace=True)\n",
        "X_treino_num['gender'].replace('Female', 0, inplace=True)\n",
        "X_treino_num['gender'].replace('Male', 1, inplace=True)\n",
        "X_treino_num.replace('DSL', 1, inplace=True)\n",
        "X_treino_num.replace('Fiber optic', 2, inplace=True)\n",
        "X_treino_num.replace('Month-to-month', 0, inplace=True)\n",
        "X_treino_num.replace('Two year',  2, inplace=True)\n",
        "X_treino_num.replace('One year', 1, inplace=True)\n",
        "X_treino_num.replace('Electronic check', 0, inplace=True)\n",
        "X_treino_num.replace('Bank transfer (automatic)', 1, inplace=True)\n",
        "X_treino_num.replace('Mailed check', 2, inplace=True)\n",
        "X_treino_num.replace('Credit card (automatic)', 3, inplace=True)"
      ],
      "metadata": {
        "id": "QzYVlNoTbzgB"
      },
      "execution_count": null,
      "outputs": []
    },
    {
      "cell_type": "markdown",
      "source": [
        "Agora podemos olhar para a correlação e variância das features"
      ],
      "metadata": {
        "id": "YQYm9aEH900N"
      }
    },
    {
      "cell_type": "code",
      "source": [
        "plt.subplots(figsize=(20,8))\n",
        "\n",
        "df_plot = X_treino_num\n",
        "\n",
        "df_plot['Churn'] = np.where(Y_treino == 'No', 0, 1)\n",
        "features_correlation=df_plot.corr()\n",
        "sb.heatmap(features_correlation,annot=True,cmap='RdPu')\n",
        "plt.title('Correlation between the variables')\n",
        "plt.xticks(rotation=45)\n"
      ],
      "metadata": {
        "id": "rHhkVLs4fDnC",
        "colab": {
          "base_uri": "https://localhost:8080/",
          "height": 609
        },
        "outputId": "97ac8677-bc4e-4e41-9e1d-6a9761572069"
      },
      "execution_count": null,
      "outputs": [
        {
          "output_type": "execute_result",
          "data": {
            "text/plain": [
              "(array([ 0.5,  1.5,  2.5,  3.5,  4.5,  5.5,  6.5,  7.5,  8.5,  9.5, 10.5,\n",
              "        11.5, 12.5, 13.5, 14.5, 15.5, 16.5, 17.5, 18.5, 19.5]),\n",
              " <a list of 20 Text major ticklabel objects>)"
            ]
          },
          "metadata": {},
          "execution_count": 20
        },
        {
          "output_type": "display_data",
          "data": {
            "text/plain": [
              "<Figure size 1440x576 with 2 Axes>"
            ],
            "image/png": "[encoded data removed]"
          },
          "metadata": {
            "needs_background": "light"
          }
        }
      ]
    },
    {
      "cell_type": "code",
      "execution_count": null,
      "metadata": {
        "id": "LkVpiJUw0VMg",
        "colab": {
          "base_uri": "https://localhost:8080/",
          "height": 282
        },
        "outputId": "a37c31a2-4fe1-4d4f-90e0-9121a2f5865e"
      },
      "outputs": [
        {
          "output_type": "execute_result",
          "data": {
            "text/plain": [
              "<matplotlib.axes._subplots.AxesSubplot at 0x7fe4da4c4580>"
            ]
          },
          "metadata": {},
          "execution_count": 21
        },
        {
          "output_type": "display_data",
          "data": {
            "text/plain": [
              "<Figure size 432x288 with 1 Axes>"
            ],
            "image/png": "[encoded data removed]"
          },
          "metadata": {
            "needs_background": "light"
          }
        }
      ],
      "source": [
        "sb.violinplot(data=X_treino_num[['MonthlyCharges', 'tenure']], palette=\"Set3\", bw=.2, cut=1, linewidth=1)\n"
      ]
    },
    {
      "cell_type": "code",
      "source": [
        "sb.violinplot(data=X_treino_num[['TotalCharges']], palette=\"Set3\", bw=.2, cut=1, linewidth=1)"
      ],
      "metadata": {
        "id": "YjwvGvYQGTgw",
        "colab": {
          "base_uri": "https://localhost:8080/",
          "height": 282
        },
        "outputId": "3bf80aac-5fcc-45e2-ec2c-f43c0e621b22"
      },
      "execution_count": null,
      "outputs": [
        {
          "output_type": "execute_result",
          "data": {
            "text/plain": [
              "<matplotlib.axes._subplots.AxesSubplot at 0x7fe4da46d160>"
            ]
          },
          "metadata": {},
          "execution_count": 22
        },
        {
          "output_type": "display_data",
          "data": {
            "text/plain": [
              "<Figure size 432x288 with 1 Axes>"
            ],
            "image/png": "[encoded data removed]"
          },
          "metadata": {
            "needs_background": "light"
          }
        }
      ]
    },
    {
      "cell_type": "code",
      "source": [
        "plot_dataframe = X_treino_num.drop(columns=['TotalCharges', 'MonthlyCharges', 'tenure'])\n",
        "Y_treino = np.where(Y_treino == 'No', 0, 1)\n",
        "\n",
        "df = pd.melt(plot_dataframe, plot_dataframe.columns[1], plot_dataframe.columns[:])\n",
        "\n",
        "g = sb.FacetGrid(df, col=\"variable\", col_wrap=5)\n",
        "g.map(sb.histplot, \"value\", linewidth=2)"
      ],
      "metadata": {
        "id": "CilekeRyeN2L",
        "colab": {
          "base_uri": "https://localhost:8080/",
          "height": 890
        },
        "outputId": "97bf3375-4528-4cd3-cc0f-49a500d1dd18"
      },
      "execution_count": null,
      "outputs": [
        {
          "output_type": "execute_result",
          "data": {
            "text/plain": [
              "<seaborn.axisgrid.FacetGrid at 0x7fe4d955aa60>"
            ]
          },
          "metadata": {},
          "execution_count": 23
        },
        {
          "output_type": "display_data",
          "data": {
            "text/plain": [
              "<Figure size 1080x864 with 16 Axes>"
            ],
            "image/png": "[encoded data removed]"
          },
          "metadata": {
            "needs_background": "light"
          }
        }
      ]
    },
    {
      "cell_type": "code",
      "source": [
        "X_treino_num.drop(columns='Churn', inplace=True)"
      ],
      "metadata": {
        "id": "R6-YEJznZLAv"
      },
      "execution_count": null,
      "outputs": []
    },
    {
      "cell_type": "markdown",
      "source": [
        "**Normalizando os dados para evitar problemas de escala no modelo**"
      ],
      "metadata": {
        "id": "kGx6pfZt1h6q"
      }
    },
    {
      "cell_type": "code",
      "source": [
        "def normalizar(lista):\n",
        "    return (lista - np.min(lista))/(np.max(lista) - np.min(lista))\n",
        "\n",
        "X_train_norm = X_treino_num.apply(lambda x: normalizar(x), axis = 0)\n",
        "X_train_norm.head()"
      ],
      "metadata": {
        "id": "8l0pMMyK1sb6",
        "colab": {
          "base_uri": "https://localhost:8080/",
          "height": 270
        },
        "outputId": "8d547bc6-5f06-42e9-ad8c-224e86b2b6c4"
      },
      "execution_count": null,
      "outputs": [
        {
          "output_type": "execute_result",
          "data": {
            "text/plain": [
              "   gender  SeniorCitizen  Partner  Dependents    tenure  PhoneService  \\\n",
              "0     0.0            0.0      1.0         0.0  0.013889           0.0   \n",
              "1     1.0            0.0      0.0         0.0  0.569444           1.0   \n",
              "2     0.0            0.0      1.0         1.0  0.722222           1.0   \n",
              "3     0.0            0.0      0.0         0.0  0.013889           1.0   \n",
              "4     1.0            0.0      0.0         0.0  0.930556           1.0   \n",
              "\n",
              "   MultipleLines  InternetService  OnlineSecurity  OnlineBackup  \\\n",
              "0            0.0              0.5             0.0           0.0   \n",
              "1            1.0              0.0             0.0           0.0   \n",
              "2            0.0              0.0             0.0           0.0   \n",
              "3            0.0              1.0             0.0           0.0   \n",
              "4            0.0              0.5             0.0           0.0   \n",
              "\n",
              "   DeviceProtection  TechSupport  StreamingTV  StreamingMovies  Contract  \\\n",
              "0               0.0          0.0          0.0              0.0       0.0   \n",
              "1               0.0          0.0          0.0              0.0       0.0   \n",
              "2               0.0          0.0          0.0              0.0       1.0   \n",
              "3               1.0          0.0          0.0              0.0       0.0   \n",
              "4               0.0          1.0          0.0              0.0       1.0   \n",
              "\n",
              "   PaperlessBilling  PaymentMethod  MonthlyCharges  TotalCharges  \n",
              "0               1.0       0.000000        0.060970      0.002856  \n",
              "1               1.0       0.333333        0.065467      0.114735  \n",
              "2               0.0       0.666667        0.006497      0.118794  \n",
              "3               0.0       0.000000        0.576212      0.008791  \n",
              "4               0.0       0.333333        0.318341      0.375380  "
            ],
            "text/html": [
              "\n",
              "  <div id=\"df-44f96eb2-b98b-4ab0-bc00-8f83bbd86dc2\">\n",
              "    <div class=\"colab-df-container\">\n",
              "      <div>\n",
              "<style scoped>\n",
              "    .dataframe tbody tr th:only-of-type {\n",
              "        vertical-align: middle;\n",
              "    }\n",
              "\n",
              "    .dataframe tbody tr th {\n",
              "        vertical-align: top;\n",
              "    }\n",
              "\n",
              "    .dataframe thead th {\n",
              "        text-align: right;\n",
              "    }\n",
              "</style>\n",
              "<table border=\"1\" class=\"dataframe\">\n",
              "  <thead>\n",
              "    <tr style=\"text-align: right;\">\n",
              "      <th></th>\n",
              "      <th>gender</th>\n",
              "      <th>SeniorCitizen</th>\n",
              "      <th>Partner</th>\n",
              "      <th>Dependents</th>\n",
              "      <th>tenure</th>\n",
              "      <th>PhoneService</th>\n",
              "      <th>MultipleLines</th>\n",
              "      <th>InternetService</th>\n",
              "      <th>OnlineSecurity</th>\n",
              "      <th>OnlineBackup</th>\n",
              "      <th>DeviceProtection</th>\n",
              "      <th>TechSupport</th>\n",
              "      <th>StreamingTV</th>\n",
              "      <th>StreamingMovies</th>\n",
              "      <th>Contract</th>\n",
              "      <th>PaperlessBilling</th>\n",
              "      <th>PaymentMethod</th>\n",
              "      <th>MonthlyCharges</th>\n",
              "      <th>TotalCharges</th>\n",
              "    </tr>\n",
              "  </thead>\n",
              "  <tbody>\n",
              "    <tr>\n",
              "      <th>0</th>\n",
              "      <td>0.0</td>\n",
              "      <td>0.0</td>\n",
              "      <td>1.0</td>\n",
              "      <td>0.0</td>\n",
              "      <td>0.013889</td>\n",
              "      <td>0.0</td>\n",
              "      <td>0.0</td>\n",
              "      <td>0.5</td>\n",
              "      <td>0.0</td>\n",
              "      <td>0.0</td>\n",
              "      <td>0.0</td>\n",
              "      <td>0.0</td>\n",
              "      <td>0.0</td>\n",
              "      <td>0.0</td>\n",
              "      <td>0.0</td>\n",
              "      <td>1.0</td>\n",
              "      <td>0.000000</td>\n",
              "      <td>0.060970</td>\n",
              "      <td>0.002856</td>\n",
              "    </tr>\n",
              "    <tr>\n",
              "      <th>1</th>\n",
              "      <td>1.0</td>\n",
              "      <td>0.0</td>\n",
              "      <td>0.0</td>\n",
              "      <td>0.0</td>\n",
              "      <td>0.569444</td>\n",
              "      <td>1.0</td>\n",
              "      <td>1.0</td>\n",
              "      <td>0.0</td>\n",
              "      <td>0.0</td>\n",
              "      <td>0.0</td>\n",
              "      <td>0.0</td>\n",
              "      <td>0.0</td>\n",
              "      <td>0.0</td>\n",
              "      <td>0.0</td>\n",
              "      <td>0.0</td>\n",
              "      <td>1.0</td>\n",
              "      <td>0.333333</td>\n",
              "      <td>0.065467</td>\n",
              "      <td>0.114735</td>\n",
              "    </tr>\n",
              "    <tr>\n",
              "      <th>2</th>\n",
              "      <td>0.0</td>\n",
              "      <td>0.0</td>\n",
              "      <td>1.0</td>\n",
              "      <td>1.0</td>\n",
              "      <td>0.722222</td>\n",
              "      <td>1.0</td>\n",
              "      <td>0.0</td>\n",
              "      <td>0.0</td>\n",
              "      <td>0.0</td>\n",
              "      <td>0.0</td>\n",
              "      <td>0.0</td>\n",
              "      <td>0.0</td>\n",
              "      <td>0.0</td>\n",
              "      <td>0.0</td>\n",
              "      <td>1.0</td>\n",
              "      <td>0.0</td>\n",
              "      <td>0.666667</td>\n",
              "      <td>0.006497</td>\n",
              "      <td>0.118794</td>\n",
              "    </tr>\n",
              "    <tr>\n",
              "      <th>3</th>\n",
              "      <td>0.0</td>\n",
              "      <td>0.0</td>\n",
              "      <td>0.0</td>\n",
              "      <td>0.0</td>\n",
              "      <td>0.013889</td>\n",
              "      <td>1.0</td>\n",
              "      <td>0.0</td>\n",
              "      <td>1.0</td>\n",
              "      <td>0.0</td>\n",
              "      <td>0.0</td>\n",
              "      <td>1.0</td>\n",
              "      <td>0.0</td>\n",
              "      <td>0.0</td>\n",
              "      <td>0.0</td>\n",
              "      <td>0.0</td>\n",
              "      <td>0.0</td>\n",
              "      <td>0.000000</td>\n",
              "      <td>0.576212</td>\n",
              "      <td>0.008791</td>\n",
              "    </tr>\n",
              "    <tr>\n",
              "      <th>4</th>\n",
              "      <td>1.0</td>\n",
              "      <td>0.0</td>\n",
              "      <td>0.0</td>\n",
              "      <td>0.0</td>\n",
              "      <td>0.930556</td>\n",
              "      <td>1.0</td>\n",
              "      <td>0.0</td>\n",
              "      <td>0.5</td>\n",
              "      <td>0.0</td>\n",
              "      <td>0.0</td>\n",
              "      <td>0.0</td>\n",
              "      <td>1.0</td>\n",
              "      <td>0.0</td>\n",
              "      <td>0.0</td>\n",
              "      <td>1.0</td>\n",
              "      <td>0.0</td>\n",
              "      <td>0.333333</td>\n",
              "      <td>0.318341</td>\n",
              "      <td>0.375380</td>\n",
              "    </tr>\n",
              "  </tbody>\n",
              "</table>\n",
              "</div>\n",
              "      <button class=\"colab-df-convert\" onclick=\"convertToInteractive('df-44f96eb2-b98b-4ab0-bc00-8f83bbd86dc2')\"\n",
              "              title=\"Convert this dataframe to an interactive table.\"\n",
              "              style=\"display:none;\">\n",
              "        \n",
              "  <svg xmlns=\"http://www.w3.org/2000/svg\" height=\"24px\"viewBox=\"0 0 24 24\"\n",
              "       width=\"24px\">\n",
              "    <path d=\"M0 0h24v24H0V0z\" fill=\"none\"/>\n",
              "    <path d=\"M18.56 5.44l.94 2.06.94-2.06 2.06-.94-2.06-.94-.94-2.06-.94 2.06-2.06.94zm-11 1L8.5 8.5l.94-2.06 2.06-.94-2.06-.94L8.5 2.5l-.94 2.06-2.06.94zm10 10l.94 2.06.94-2.06 2.06-.94-2.06-.94-.94-2.06-.94 2.06-2.06.94z\"/><path d=\"M17.41 7.96l-1.37-1.37c-.4-.4-.92-.59-1.43-.59-.52 0-1.04.2-1.43.59L10.3 9.45l-7.72 7.72c-.78.78-.78 2.05 0 2.83L4 21.41c.39.39.9.59 1.41.59.51 0 1.02-.2 1.41-.59l7.78-7.78 2.81-2.81c.8-.78.8-2.07 0-2.86zM5.41 20L4 18.59l7.72-7.72 1.47 1.35L5.41 20z\"/>\n",
              "  </svg>\n",
              "      </button>\n",
              "      \n",
              "  <style>\n",
              "    .colab-df-container {\n",
              "      display:flex;\n",
              "      flex-wrap:wrap;\n",
              "      gap: 12px;\n",
              "    }\n",
              "\n",
              "    .colab-df-convert {\n",
              "      background-color: #E8F0FE;\n",
              "      border: none;\n",
              "      border-radius: 50%;\n",
              "      cursor: pointer;\n",
              "      display: none;\n",
              "      fill: #1967D2;\n",
              "      height: 32px;\n",
              "      padding: 0 0 0 0;\n",
              "      width: 32px;\n",
              "    }\n",
              "\n",
              "    .colab-df-convert:hover {\n",
              "      background-color: #E2EBFA;\n",
              "      box-shadow: 0px 1px 2px rgba(60, 64, 67, 0.3), 0px 1px 3px 1px rgba(60, 64, 67, 0.15);\n",
              "      fill: #174EA6;\n",
              "    }\n",
              "\n",
              "    [theme=dark] .colab-df-convert {\n",
              "      background-color: #3B4455;\n",
              "      fill: #D2E3FC;\n",
              "    }\n",
              "\n",
              "    [theme=dark] .colab-df-convert:hover {\n",
              "      background-color: #434B5C;\n",
              "      box-shadow: 0px 1px 3px 1px rgba(0, 0, 0, 0.15);\n",
              "      filter: drop-shadow(0px 1px 2px rgba(0, 0, 0, 0.3));\n",
              "      fill: #FFFFFF;\n",
              "    }\n",
              "  </style>\n",
              "\n",
              "      <script>\n",
              "        const buttonEl =\n",
              "          document.querySelector('#df-44f96eb2-b98b-4ab0-bc00-8f83bbd86dc2 button.colab-df-convert');\n",
              "        buttonEl.style.display =\n",
              "          google.colab.kernel.accessAllowed ? 'block' : 'none';\n",
              "\n",
              "        async function convertToInteractive(key) {\n",
              "          const element = document.querySelector('#df-44f96eb2-b98b-4ab0-bc00-8f83bbd86dc2');\n",
              "          const dataTable =\n",
              "            await google.colab.kernel.invokeFunction('convertToInteractive',\n",
              "                                                     [key], {});\n",
              "          if (!dataTable) return;\n",
              "\n",
              "          const docLinkHtml = 'Like what you see? Visit the ' +\n",
              "            '<a target=\"_blank\" href=https://colab.research.google.com/notebooks/data_table.ipynb>data table notebook</a>'\n",
              "            + ' to learn more about interactive tables.';\n",
              "          element.innerHTML = '';\n",
              "          dataTable['output_type'] = 'display_data';\n",
              "          await google.colab.output.renderOutput(dataTable, element);\n",
              "          const docLink = document.createElement('div');\n",
              "          docLink.innerHTML = docLinkHtml;\n",
              "          element.appendChild(docLink);\n",
              "        }\n",
              "      </script>\n",
              "    </div>\n",
              "  </div>\n",
              "  "
            ]
          },
          "metadata": {},
          "execution_count": 25
        }
      ]
    },
    {
      "cell_type": "markdown",
      "source": [
        "USANDO REGRESSÃO LASSO PARA FILTRAR AS VARIÁVEIS NORMALIZADAS"
      ],
      "metadata": {
        "id": "BxraUxjKMY6N"
      }
    },
    {
      "cell_type": "code",
      "source": [
        "from sklearn import linear_model\n",
        "\n",
        "coef_matrix = []\n",
        "search_space = {\n",
        "    \"alpha\" : [0.00001, 0.00005, 0.0001,0.0005, 0.001,0.004, 0.005, 0.01, 0.02, 0.03, 0.04, 0.05, 0.08, 0.1, 0.15]\n",
        "}\n",
        "for i in range(len(search_space[\"alpha\"])):\n",
        "  clf = linear_model.Lasso(alpha=search_space[\"alpha\"][i])\n",
        "  clf.fit(X_train_norm, Y_treino)\n",
        "  coef_matrix.append(clf.coef_)\n",
        "  print(coef_matrix)\n"
      ],
      "metadata": {
        "id": "nB7L_ReWayUD",
        "colab": {
          "base_uri": "https://localhost:8080/"
        },
        "outputId": "f407e7de-2bc9-4e1e-c8d0-931120a7f7f0"
      },
      "execution_count": null,
      "outputs": [
        {
          "output_type": "stream",
          "name": "stderr",
          "text": [
            "/usr/local/lib/python3.8/dist-packages/sklearn/linear_model/_coordinate_descent.py:647: ConvergenceWarning: Objective did not converge. You might want to increase the number of iterations, check the scale of the features or consider increasing regularisation. Duality gap: 5.005e+00, tolerance: 1.801e-01\n",
            "  model = cd_fast.enet_coordinate_descent(\n"
          ]
        },
        {
          "output_type": "stream",
          "name": "stdout",
          "text": [
            "[array([ 0.00857262,  0.035808  , -0.01316677, -0.0074442 , -0.26104439,\n",
            "       -0.05972415,  0.05635211,  0.45317898, -0.09476129,  0.00625109,\n",
            "       -0.00382449, -0.07022174,  0.06752704,  0.04503602, -0.20627283,\n",
            "        0.05909034, -0.08211555, -0.14305826, -0.19228351])]\n",
            "[array([ 0.00857262,  0.035808  , -0.01316677, -0.0074442 , -0.26104439,\n",
            "       -0.05972415,  0.05635211,  0.45317898, -0.09476129,  0.00625109,\n",
            "       -0.00382449, -0.07022174,  0.06752704,  0.04503602, -0.20627283,\n",
            "        0.05909034, -0.08211555, -0.14305826, -0.19228351]), array([ 0.00835389,  0.0356342 , -0.01300872, -0.00738495, -0.26171799,\n",
            "       -0.08782916,  0.04880132,  0.38116158, -0.10187148, -0.00071116,\n",
            "       -0.01082308, -0.07737432,  0.05296492,  0.03062216, -0.20643657,\n",
            "        0.05916896, -0.08210943, -0.        , -0.1903328 ])]\n",
            "[array([ 0.00857262,  0.035808  , -0.01316677, -0.0074442 , -0.26104439,\n",
            "       -0.05972415,  0.05635211,  0.45317898, -0.09476129,  0.00625109,\n",
            "       -0.00382449, -0.07022174,  0.06752704,  0.04503602, -0.20627283,\n",
            "        0.05909034, -0.08211555, -0.14305826, -0.19228351]), array([ 0.00835389,  0.0356342 , -0.01300872, -0.00738495, -0.26171799,\n",
            "       -0.08782916,  0.04880132,  0.38116158, -0.10187148, -0.00071116,\n",
            "       -0.01082308, -0.07737432,  0.05296492,  0.03062216, -0.20643657,\n",
            "        0.05916896, -0.08210943, -0.        , -0.1903328 ]), array([ 0.00812564,  0.03545399, -0.01291431, -0.00734094, -0.26344786,\n",
            "       -0.08727322,  0.0483544 ,  0.38026214, -0.10187874, -0.00067925,\n",
            "       -0.01067545, -0.07733945,  0.05261345,  0.03027787, -0.20663588,\n",
            "        0.05913844, -0.08211295,  0.        , -0.18623737])]\n",
            "[array([ 0.00857262,  0.035808  , -0.01316677, -0.0074442 , -0.26104439,\n",
            "       -0.05972415,  0.05635211,  0.45317898, -0.09476129,  0.00625109,\n",
            "       -0.00382449, -0.07022174,  0.06752704,  0.04503602, -0.20627283,\n",
            "        0.05909034, -0.08211555, -0.14305826, -0.19228351]), array([ 0.00835389,  0.0356342 , -0.01300872, -0.00738495, -0.26171799,\n",
            "       -0.08782916,  0.04880132,  0.38116158, -0.10187148, -0.00071116,\n",
            "       -0.01082308, -0.07737432,  0.05296492,  0.03062216, -0.20643657,\n",
            "        0.05916896, -0.08210943, -0.        , -0.1903328 ]), array([ 0.00812564,  0.03545399, -0.01291431, -0.00734094, -0.26344786,\n",
            "       -0.08727322,  0.0483544 ,  0.38026214, -0.10187874, -0.00067925,\n",
            "       -0.01067545, -0.07733945,  0.05261345,  0.03027787, -0.20663588,\n",
            "        0.05913844, -0.08211295,  0.        , -0.18623737]), array([ 0.00629238,  0.03401392, -0.0121251 , -0.00698895, -0.27808848,\n",
            "       -0.08292848,  0.04475213,  0.37287688, -0.10198391, -0.00049281,\n",
            "       -0.0095436 , -0.0771092 ,  0.04973807,  0.0274484 , -0.20820298,\n",
            "        0.0588922 , -0.08216188,  0.        , -0.15216883])]\n",
            "[array([ 0.00857262,  0.035808  , -0.01316677, -0.0074442 , -0.26104439,\n",
            "       -0.05972415,  0.05635211,  0.45317898, -0.09476129,  0.00625109,\n",
            "       -0.00382449, -0.07022174,  0.06752704,  0.04503602, -0.20627283,\n",
            "        0.05909034, -0.08211555, -0.14305826, -0.19228351]), array([ 0.00835389,  0.0356342 , -0.01300872, -0.00738495, -0.26171799,\n",
            "       -0.08782916,  0.04880132,  0.38116158, -0.10187148, -0.00071116,\n",
            "       -0.01082308, -0.07737432,  0.05296492,  0.03062216, -0.20643657,\n",
            "        0.05916896, -0.08210943, -0.        , -0.1903328 ]), array([ 0.00812564,  0.03545399, -0.01291431, -0.00734094, -0.26344786,\n",
            "       -0.08727322,  0.0483544 ,  0.38026214, -0.10187874, -0.00067925,\n",
            "       -0.01067545, -0.07733945,  0.05261345,  0.03027787, -0.20663588,\n",
            "        0.05913844, -0.08211295,  0.        , -0.18623737]), array([ 0.00629238,  0.03401392, -0.0121251 , -0.00698895, -0.27808848,\n",
            "       -0.08292848,  0.04475213,  0.37287688, -0.10198391, -0.00049281,\n",
            "       -0.0095436 , -0.0771092 ,  0.04973807,  0.0274484 , -0.20820298,\n",
            "        0.0588922 , -0.08216188,  0.        , -0.15216883]), array([ 4.00412299e-03,  3.22130970e-02, -1.11540656e-02, -6.54890990e-03,\n",
            "       -2.96023464e-01, -7.74506703e-02,  4.02616046e-02,  3.63731873e-01,\n",
            "       -1.02093900e-01, -2.28343633e-04, -8.10633466e-03, -7.67991812e-02,\n",
            "        4.61728764e-02,  2.39458617e-02, -2.10174379e-01,  5.85853282e-02,\n",
            "       -8.22135564e-02,  0.00000000e+00, -1.10178665e-01])]\n",
            "[array([ 0.00857262,  0.035808  , -0.01316677, -0.0074442 , -0.26104439,\n",
            "       -0.05972415,  0.05635211,  0.45317898, -0.09476129,  0.00625109,\n",
            "       -0.00382449, -0.07022174,  0.06752704,  0.04503602, -0.20627283,\n",
            "        0.05909034, -0.08211555, -0.14305826, -0.19228351]), array([ 0.00835389,  0.0356342 , -0.01300872, -0.00738495, -0.26171799,\n",
            "       -0.08782916,  0.04880132,  0.38116158, -0.10187148, -0.00071116,\n",
            "       -0.01082308, -0.07737432,  0.05296492,  0.03062216, -0.20643657,\n",
            "        0.05916896, -0.08210943, -0.        , -0.1903328 ]), array([ 0.00812564,  0.03545399, -0.01291431, -0.00734094, -0.26344786,\n",
            "       -0.08727322,  0.0483544 ,  0.38026214, -0.10187874, -0.00067925,\n",
            "       -0.01067545, -0.07733945,  0.05261345,  0.03027787, -0.20663588,\n",
            "        0.05913844, -0.08211295,  0.        , -0.18623737]), array([ 0.00629238,  0.03401392, -0.0121251 , -0.00698895, -0.27808848,\n",
            "       -0.08292848,  0.04475213,  0.37287688, -0.10198391, -0.00049281,\n",
            "       -0.0095436 , -0.0771092 ,  0.04973807,  0.0274484 , -0.20820298,\n",
            "        0.0588922 , -0.08216188,  0.        , -0.15216883]), array([ 4.00412299e-03,  3.22130970e-02, -1.11540656e-02, -6.54890990e-03,\n",
            "       -2.96023464e-01, -7.74506703e-02,  4.02616046e-02,  3.63731873e-01,\n",
            "       -1.02093900e-01, -2.28343633e-04, -8.10633466e-03, -7.67991812e-02,\n",
            "        4.61728764e-02,  2.39458617e-02, -2.10174379e-01,  5.85853282e-02,\n",
            "       -8.22135564e-02,  0.00000000e+00, -1.10178665e-01]), array([ 0.        ,  0.02159213, -0.00519016, -0.00439939, -0.32081553,\n",
            "       -0.03631299,  0.01648962,  0.33237498, -0.09678409, -0.        ,\n",
            "       -0.        , -0.06861015,  0.03140049,  0.00999209, -0.2259089 ,\n",
            "        0.05636554, -0.07985871,  0.        , -0.        ])]\n",
            "[array([ 0.00857262,  0.035808  , -0.01316677, -0.0074442 , -0.26104439,\n",
            "       -0.05972415,  0.05635211,  0.45317898, -0.09476129,  0.00625109,\n",
            "       -0.00382449, -0.07022174,  0.06752704,  0.04503602, -0.20627283,\n",
            "        0.05909034, -0.08211555, -0.14305826, -0.19228351]), array([ 0.00835389,  0.0356342 , -0.01300872, -0.00738495, -0.26171799,\n",
            "       -0.08782916,  0.04880132,  0.38116158, -0.10187148, -0.00071116,\n",
            "       -0.01082308, -0.07737432,  0.05296492,  0.03062216, -0.20643657,\n",
            "        0.05916896, -0.08210943, -0.        , -0.1903328 ]), array([ 0.00812564,  0.03545399, -0.01291431, -0.00734094, -0.26344786,\n",
            "       -0.08727322,  0.0483544 ,  0.38026214, -0.10187874, -0.00067925,\n",
            "       -0.01067545, -0.07733945,  0.05261345,  0.03027787, -0.20663588,\n",
            "        0.05913844, -0.08211295,  0.        , -0.18623737]), array([ 0.00629238,  0.03401392, -0.0121251 , -0.00698895, -0.27808848,\n",
            "       -0.08292848,  0.04475213,  0.37287688, -0.10198391, -0.00049281,\n",
            "       -0.0095436 , -0.0771092 ,  0.04973807,  0.0274484 , -0.20820298,\n",
            "        0.0588922 , -0.08216188,  0.        , -0.15216883]), array([ 4.00412299e-03,  3.22130970e-02, -1.11540656e-02, -6.54890990e-03,\n",
            "       -2.96023464e-01, -7.74506703e-02,  4.02616046e-02,  3.63731873e-01,\n",
            "       -1.02093900e-01, -2.28343633e-04, -8.10633466e-03, -7.67991812e-02,\n",
            "        4.61728764e-02,  2.39458617e-02, -2.10174379e-01,  5.85853282e-02,\n",
            "       -8.22135564e-02,  0.00000000e+00, -1.10178665e-01]), array([ 0.        ,  0.02159213, -0.00519016, -0.00439939, -0.32081553,\n",
            "       -0.03631299,  0.01648962,  0.33237498, -0.09678409, -0.        ,\n",
            "       -0.        , -0.06861015,  0.03140049,  0.00999209, -0.2259089 ,\n",
            "        0.05636554, -0.07985871,  0.        , -0.        ]), array([ 0.        ,  0.01805953, -0.00304514, -0.00381831, -0.30717195,\n",
            "       -0.02068856,  0.00942589,  0.32849965, -0.09332781, -0.        ,\n",
            "       -0.        , -0.06398547,  0.02850511,  0.00748022, -0.23192048,\n",
            "        0.05549083, -0.07828473,  0.        , -0.        ])]\n",
            "[array([ 0.00857262,  0.035808  , -0.01316677, -0.0074442 , -0.26104439,\n",
            "       -0.05972415,  0.05635211,  0.45317898, -0.09476129,  0.00625109,\n",
            "       -0.00382449, -0.07022174,  0.06752704,  0.04503602, -0.20627283,\n",
            "        0.05909034, -0.08211555, -0.14305826, -0.19228351]), array([ 0.00835389,  0.0356342 , -0.01300872, -0.00738495, -0.26171799,\n",
            "       -0.08782916,  0.04880132,  0.38116158, -0.10187148, -0.00071116,\n",
            "       -0.01082308, -0.07737432,  0.05296492,  0.03062216, -0.20643657,\n",
            "        0.05916896, -0.08210943, -0.        , -0.1903328 ]), array([ 0.00812564,  0.03545399, -0.01291431, -0.00734094, -0.26344786,\n",
            "       -0.08727322,  0.0483544 ,  0.38026214, -0.10187874, -0.00067925,\n",
            "       -0.01067545, -0.07733945,  0.05261345,  0.03027787, -0.20663588,\n",
            "        0.05913844, -0.08211295,  0.        , -0.18623737]), array([ 0.00629238,  0.03401392, -0.0121251 , -0.00698895, -0.27808848,\n",
            "       -0.08292848,  0.04475213,  0.37287688, -0.10198391, -0.00049281,\n",
            "       -0.0095436 , -0.0771092 ,  0.04973807,  0.0274484 , -0.20820298,\n",
            "        0.0588922 , -0.08216188,  0.        , -0.15216883]), array([ 4.00412299e-03,  3.22130970e-02, -1.11540656e-02, -6.54890990e-03,\n",
            "       -2.96023464e-01, -7.74506703e-02,  4.02616046e-02,  3.63731873e-01,\n",
            "       -1.02093900e-01, -2.28343633e-04, -8.10633466e-03, -7.67991812e-02,\n",
            "        4.61728764e-02,  2.39458617e-02, -2.10174379e-01,  5.85853282e-02,\n",
            "       -8.22135564e-02,  0.00000000e+00, -1.10178665e-01]), array([ 0.        ,  0.02159213, -0.00519016, -0.00439939, -0.32081553,\n",
            "       -0.03631299,  0.01648962,  0.33237498, -0.09678409, -0.        ,\n",
            "       -0.        , -0.06861015,  0.03140049,  0.00999209, -0.2259089 ,\n",
            "        0.05636554, -0.07985871,  0.        , -0.        ]), array([ 0.        ,  0.01805953, -0.00304514, -0.00381831, -0.30717195,\n",
            "       -0.02068856,  0.00942589,  0.32849965, -0.09332781, -0.        ,\n",
            "       -0.        , -0.06398547,  0.02850511,  0.00748022, -0.23192048,\n",
            "        0.05549083, -0.07828473,  0.        , -0.        ]), array([ 0.        ,  0.        , -0.        , -0.        , -0.24851235,\n",
            "       -0.        ,  0.        ,  0.30968794, -0.07844855, -0.        ,\n",
            "       -0.        , -0.0435162 ,  0.00821643,  0.        , -0.25538178,\n",
            "        0.04901787, -0.06820153,  0.        , -0.        ])]\n",
            "[array([ 0.00857262,  0.035808  , -0.01316677, -0.0074442 , -0.26104439,\n",
            "       -0.05972415,  0.05635211,  0.45317898, -0.09476129,  0.00625109,\n",
            "       -0.00382449, -0.07022174,  0.06752704,  0.04503602, -0.20627283,\n",
            "        0.05909034, -0.08211555, -0.14305826, -0.19228351]), array([ 0.00835389,  0.0356342 , -0.01300872, -0.00738495, -0.26171799,\n",
            "       -0.08782916,  0.04880132,  0.38116158, -0.10187148, -0.00071116,\n",
            "       -0.01082308, -0.07737432,  0.05296492,  0.03062216, -0.20643657,\n",
            "        0.05916896, -0.08210943, -0.        , -0.1903328 ]), array([ 0.00812564,  0.03545399, -0.01291431, -0.00734094, -0.26344786,\n",
            "       -0.08727322,  0.0483544 ,  0.38026214, -0.10187874, -0.00067925,\n",
            "       -0.01067545, -0.07733945,  0.05261345,  0.03027787, -0.20663588,\n",
            "        0.05913844, -0.08211295,  0.        , -0.18623737]), array([ 0.00629238,  0.03401392, -0.0121251 , -0.00698895, -0.27808848,\n",
            "       -0.08292848,  0.04475213,  0.37287688, -0.10198391, -0.00049281,\n",
            "       -0.0095436 , -0.0771092 ,  0.04973807,  0.0274484 , -0.20820298,\n",
            "        0.0588922 , -0.08216188,  0.        , -0.15216883]), array([ 4.00412299e-03,  3.22130970e-02, -1.11540656e-02, -6.54890990e-03,\n",
            "       -2.96023464e-01, -7.74506703e-02,  4.02616046e-02,  3.63731873e-01,\n",
            "       -1.02093900e-01, -2.28343633e-04, -8.10633466e-03, -7.67991812e-02,\n",
            "        4.61728764e-02,  2.39458617e-02, -2.10174379e-01,  5.85853282e-02,\n",
            "       -8.22135564e-02,  0.00000000e+00, -1.10178665e-01]), array([ 0.        ,  0.02159213, -0.00519016, -0.00439939, -0.32081553,\n",
            "       -0.03631299,  0.01648962,  0.33237498, -0.09678409, -0.        ,\n",
            "       -0.        , -0.06861015,  0.03140049,  0.00999209, -0.2259089 ,\n",
            "        0.05636554, -0.07985871,  0.        , -0.        ]), array([ 0.        ,  0.01805953, -0.00304514, -0.00381831, -0.30717195,\n",
            "       -0.02068856,  0.00942589,  0.32849965, -0.09332781, -0.        ,\n",
            "       -0.        , -0.06398547,  0.02850511,  0.00748022, -0.23192048,\n",
            "        0.05549083, -0.07828473,  0.        , -0.        ]), array([ 0.        ,  0.        , -0.        , -0.        , -0.24851235,\n",
            "       -0.        ,  0.        ,  0.30968794, -0.07844855, -0.        ,\n",
            "       -0.        , -0.0435162 ,  0.00821643,  0.        , -0.25538178,\n",
            "        0.04901787, -0.06820153,  0.        , -0.        ]), array([ 0.        ,  0.        , -0.        , -0.        , -0.16045869,\n",
            "       -0.        ,  0.        ,  0.2443501 , -0.04806703, -0.        ,\n",
            "       -0.        , -0.0077784 ,  0.        ,  0.        , -0.29341711,\n",
            "        0.02780417, -0.03971489,  0.        , -0.        ])]\n",
            "[array([ 0.00857262,  0.035808  , -0.01316677, -0.0074442 , -0.26104439,\n",
            "       -0.05972415,  0.05635211,  0.45317898, -0.09476129,  0.00625109,\n",
            "       -0.00382449, -0.07022174,  0.06752704,  0.04503602, -0.20627283,\n",
            "        0.05909034, -0.08211555, -0.14305826, -0.19228351]), array([ 0.00835389,  0.0356342 , -0.01300872, -0.00738495, -0.26171799,\n",
            "       -0.08782916,  0.04880132,  0.38116158, -0.10187148, -0.00071116,\n",
            "       -0.01082308, -0.07737432,  0.05296492,  0.03062216, -0.20643657,\n",
            "        0.05916896, -0.08210943, -0.        , -0.1903328 ]), array([ 0.00812564,  0.03545399, -0.01291431, -0.00734094, -0.26344786,\n",
            "       -0.08727322,  0.0483544 ,  0.38026214, -0.10187874, -0.00067925,\n",
            "       -0.01067545, -0.07733945,  0.05261345,  0.03027787, -0.20663588,\n",
            "        0.05913844, -0.08211295,  0.        , -0.18623737]), array([ 0.00629238,  0.03401392, -0.0121251 , -0.00698895, -0.27808848,\n",
            "       -0.08292848,  0.04475213,  0.37287688, -0.10198391, -0.00049281,\n",
            "       -0.0095436 , -0.0771092 ,  0.04973807,  0.0274484 , -0.20820298,\n",
            "        0.0588922 , -0.08216188,  0.        , -0.15216883]), array([ 4.00412299e-03,  3.22130970e-02, -1.11540656e-02, -6.54890990e-03,\n",
            "       -2.96023464e-01, -7.74506703e-02,  4.02616046e-02,  3.63731873e-01,\n",
            "       -1.02093900e-01, -2.28343633e-04, -8.10633466e-03, -7.67991812e-02,\n",
            "        4.61728764e-02,  2.39458617e-02, -2.10174379e-01,  5.85853282e-02,\n",
            "       -8.22135564e-02,  0.00000000e+00, -1.10178665e-01]), array([ 0.        ,  0.02159213, -0.00519016, -0.00439939, -0.32081553,\n",
            "       -0.03631299,  0.01648962,  0.33237498, -0.09678409, -0.        ,\n",
            "       -0.        , -0.06861015,  0.03140049,  0.00999209, -0.2259089 ,\n",
            "        0.05636554, -0.07985871,  0.        , -0.        ]), array([ 0.        ,  0.01805953, -0.00304514, -0.00381831, -0.30717195,\n",
            "       -0.02068856,  0.00942589,  0.32849965, -0.09332781, -0.        ,\n",
            "       -0.        , -0.06398547,  0.02850511,  0.00748022, -0.23192048,\n",
            "        0.05549083, -0.07828473,  0.        , -0.        ]), array([ 0.        ,  0.        , -0.        , -0.        , -0.24851235,\n",
            "       -0.        ,  0.        ,  0.30968794, -0.07844855, -0.        ,\n",
            "       -0.        , -0.0435162 ,  0.00821643,  0.        , -0.25538178,\n",
            "        0.04901787, -0.06820153,  0.        , -0.        ]), array([ 0.        ,  0.        , -0.        , -0.        , -0.16045869,\n",
            "       -0.        ,  0.        ,  0.2443501 , -0.04806703, -0.        ,\n",
            "       -0.        , -0.0077784 ,  0.        ,  0.        , -0.29341711,\n",
            "        0.02780417, -0.03971489,  0.        , -0.        ]), array([ 0.        ,  0.        , -0.        , -0.        , -0.07273296,\n",
            "       -0.        ,  0.        ,  0.18029639, -0.01166131, -0.        ,\n",
            "       -0.        , -0.        ,  0.        ,  0.        , -0.32562807,\n",
            "        0.00604542, -0.007735  ,  0.        , -0.        ])]\n",
            "[array([ 0.00857262,  0.035808  , -0.01316677, -0.0074442 , -0.26104439,\n",
            "       -0.05972415,  0.05635211,  0.45317898, -0.09476129,  0.00625109,\n",
            "       -0.00382449, -0.07022174,  0.06752704,  0.04503602, -0.20627283,\n",
            "        0.05909034, -0.08211555, -0.14305826, -0.19228351]), array([ 0.00835389,  0.0356342 , -0.01300872, -0.00738495, -0.26171799,\n",
            "       -0.08782916,  0.04880132,  0.38116158, -0.10187148, -0.00071116,\n",
            "       -0.01082308, -0.07737432,  0.05296492,  0.03062216, -0.20643657,\n",
            "        0.05916896, -0.08210943, -0.        , -0.1903328 ]), array([ 0.00812564,  0.03545399, -0.01291431, -0.00734094, -0.26344786,\n",
            "       -0.08727322,  0.0483544 ,  0.38026214, -0.10187874, -0.00067925,\n",
            "       -0.01067545, -0.07733945,  0.05261345,  0.03027787, -0.20663588,\n",
            "        0.05913844, -0.08211295,  0.        , -0.18623737]), array([ 0.00629238,  0.03401392, -0.0121251 , -0.00698895, -0.27808848,\n",
            "       -0.08292848,  0.04475213,  0.37287688, -0.10198391, -0.00049281,\n",
            "       -0.0095436 , -0.0771092 ,  0.04973807,  0.0274484 , -0.20820298,\n",
            "        0.0588922 , -0.08216188,  0.        , -0.15216883]), array([ 4.00412299e-03,  3.22130970e-02, -1.11540656e-02, -6.54890990e-03,\n",
            "       -2.96023464e-01, -7.74506703e-02,  4.02616046e-02,  3.63731873e-01,\n",
            "       -1.02093900e-01, -2.28343633e-04, -8.10633466e-03, -7.67991812e-02,\n",
            "        4.61728764e-02,  2.39458617e-02, -2.10174379e-01,  5.85853282e-02,\n",
            "       -8.22135564e-02,  0.00000000e+00, -1.10178665e-01]), array([ 0.        ,  0.02159213, -0.00519016, -0.00439939, -0.32081553,\n",
            "       -0.03631299,  0.01648962,  0.33237498, -0.09678409, -0.        ,\n",
            "       -0.        , -0.06861015,  0.03140049,  0.00999209, -0.2259089 ,\n",
            "        0.05636554, -0.07985871,  0.        , -0.        ]), array([ 0.        ,  0.01805953, -0.00304514, -0.00381831, -0.30717195,\n",
            "       -0.02068856,  0.00942589,  0.32849965, -0.09332781, -0.        ,\n",
            "       -0.        , -0.06398547,  0.02850511,  0.00748022, -0.23192048,\n",
            "        0.05549083, -0.07828473,  0.        , -0.        ]), array([ 0.        ,  0.        , -0.        , -0.        , -0.24851235,\n",
            "       -0.        ,  0.        ,  0.30968794, -0.07844855, -0.        ,\n",
            "       -0.        , -0.0435162 ,  0.00821643,  0.        , -0.25538178,\n",
            "        0.04901787, -0.06820153,  0.        , -0.        ]), array([ 0.        ,  0.        , -0.        , -0.        , -0.16045869,\n",
            "       -0.        ,  0.        ,  0.2443501 , -0.04806703, -0.        ,\n",
            "       -0.        , -0.0077784 ,  0.        ,  0.        , -0.29341711,\n",
            "        0.02780417, -0.03971489,  0.        , -0.        ]), array([ 0.        ,  0.        , -0.        , -0.        , -0.07273296,\n",
            "       -0.        ,  0.        ,  0.18029639, -0.01166131, -0.        ,\n",
            "       -0.        , -0.        ,  0.        ,  0.        , -0.32562807,\n",
            "        0.00604542, -0.007735  ,  0.        , -0.        ]), array([ 0.        ,  0.        , -0.        , -0.        , -0.        ,\n",
            "       -0.        ,  0.        ,  0.11258341, -0.        , -0.        ,\n",
            "       -0.        , -0.        ,  0.        ,  0.        , -0.32916699,\n",
            "        0.        , -0.        ,  0.        , -0.        ])]\n",
            "[array([ 0.00857262,  0.035808  , -0.01316677, -0.0074442 , -0.26104439,\n",
            "       -0.05972415,  0.05635211,  0.45317898, -0.09476129,  0.00625109,\n",
            "       -0.00382449, -0.07022174,  0.06752704,  0.04503602, -0.20627283,\n",
            "        0.05909034, -0.08211555, -0.14305826, -0.19228351]), array([ 0.00835389,  0.0356342 , -0.01300872, -0.00738495, -0.26171799,\n",
            "       -0.08782916,  0.04880132,  0.38116158, -0.10187148, -0.00071116,\n",
            "       -0.01082308, -0.07737432,  0.05296492,  0.03062216, -0.20643657,\n",
            "        0.05916896, -0.08210943, -0.        , -0.1903328 ]), array([ 0.00812564,  0.03545399, -0.01291431, -0.00734094, -0.26344786,\n",
            "       -0.08727322,  0.0483544 ,  0.38026214, -0.10187874, -0.00067925,\n",
            "       -0.01067545, -0.07733945,  0.05261345,  0.03027787, -0.20663588,\n",
            "        0.05913844, -0.08211295,  0.        , -0.18623737]), array([ 0.00629238,  0.03401392, -0.0121251 , -0.00698895, -0.27808848,\n",
            "       -0.08292848,  0.04475213,  0.37287688, -0.10198391, -0.00049281,\n",
            "       -0.0095436 , -0.0771092 ,  0.04973807,  0.0274484 , -0.20820298,\n",
            "        0.0588922 , -0.08216188,  0.        , -0.15216883]), array([ 4.00412299e-03,  3.22130970e-02, -1.11540656e-02, -6.54890990e-03,\n",
            "       -2.96023464e-01, -7.74506703e-02,  4.02616046e-02,  3.63731873e-01,\n",
            "       -1.02093900e-01, -2.28343633e-04, -8.10633466e-03, -7.67991812e-02,\n",
            "        4.61728764e-02,  2.39458617e-02, -2.10174379e-01,  5.85853282e-02,\n",
            "       -8.22135564e-02,  0.00000000e+00, -1.10178665e-01]), array([ 0.        ,  0.02159213, -0.00519016, -0.00439939, -0.32081553,\n",
            "       -0.03631299,  0.01648962,  0.33237498, -0.09678409, -0.        ,\n",
            "       -0.        , -0.06861015,  0.03140049,  0.00999209, -0.2259089 ,\n",
            "        0.05636554, -0.07985871,  0.        , -0.        ]), array([ 0.        ,  0.01805953, -0.00304514, -0.00381831, -0.30717195,\n",
            "       -0.02068856,  0.00942589,  0.32849965, -0.09332781, -0.        ,\n",
            "       -0.        , -0.06398547,  0.02850511,  0.00748022, -0.23192048,\n",
            "        0.05549083, -0.07828473,  0.        , -0.        ]), array([ 0.        ,  0.        , -0.        , -0.        , -0.24851235,\n",
            "       -0.        ,  0.        ,  0.30968794, -0.07844855, -0.        ,\n",
            "       -0.        , -0.0435162 ,  0.00821643,  0.        , -0.25538178,\n",
            "        0.04901787, -0.06820153,  0.        , -0.        ]), array([ 0.        ,  0.        , -0.        , -0.        , -0.16045869,\n",
            "       -0.        ,  0.        ,  0.2443501 , -0.04806703, -0.        ,\n",
            "       -0.        , -0.0077784 ,  0.        ,  0.        , -0.29341711,\n",
            "        0.02780417, -0.03971489,  0.        , -0.        ]), array([ 0.        ,  0.        , -0.        , -0.        , -0.07273296,\n",
            "       -0.        ,  0.        ,  0.18029639, -0.01166131, -0.        ,\n",
            "       -0.        , -0.        ,  0.        ,  0.        , -0.32562807,\n",
            "        0.00604542, -0.007735  ,  0.        , -0.        ]), array([ 0.        ,  0.        , -0.        , -0.        , -0.        ,\n",
            "       -0.        ,  0.        ,  0.11258341, -0.        , -0.        ,\n",
            "       -0.        , -0.        ,  0.        ,  0.        , -0.32916699,\n",
            "        0.        , -0.        ,  0.        , -0.        ]), array([ 0.        ,  0.        , -0.        , -0.        , -0.        ,\n",
            "       -0.        ,  0.        ,  0.05720017, -0.        , -0.        ,\n",
            "       -0.        , -0.        ,  0.        ,  0.        , -0.27934701,\n",
            "        0.        , -0.        ,  0.        , -0.        ])]\n",
            "[array([ 0.00857262,  0.035808  , -0.01316677, -0.0074442 , -0.26104439,\n",
            "       -0.05972415,  0.05635211,  0.45317898, -0.09476129,  0.00625109,\n",
            "       -0.00382449, -0.07022174,  0.06752704,  0.04503602, -0.20627283,\n",
            "        0.05909034, -0.08211555, -0.14305826, -0.19228351]), array([ 0.00835389,  0.0356342 , -0.01300872, -0.00738495, -0.26171799,\n",
            "       -0.08782916,  0.04880132,  0.38116158, -0.10187148, -0.00071116,\n",
            "       -0.01082308, -0.07737432,  0.05296492,  0.03062216, -0.20643657,\n",
            "        0.05916896, -0.08210943, -0.        , -0.1903328 ]), array([ 0.00812564,  0.03545399, -0.01291431, -0.00734094, -0.26344786,\n",
            "       -0.08727322,  0.0483544 ,  0.38026214, -0.10187874, -0.00067925,\n",
            "       -0.01067545, -0.07733945,  0.05261345,  0.03027787, -0.20663588,\n",
            "        0.05913844, -0.08211295,  0.        , -0.18623737]), array([ 0.00629238,  0.03401392, -0.0121251 , -0.00698895, -0.27808848,\n",
            "       -0.08292848,  0.04475213,  0.37287688, -0.10198391, -0.00049281,\n",
            "       -0.0095436 , -0.0771092 ,  0.04973807,  0.0274484 , -0.20820298,\n",
            "        0.0588922 , -0.08216188,  0.        , -0.15216883]), array([ 4.00412299e-03,  3.22130970e-02, -1.11540656e-02, -6.54890990e-03,\n",
            "       -2.96023464e-01, -7.74506703e-02,  4.02616046e-02,  3.63731873e-01,\n",
            "       -1.02093900e-01, -2.28343633e-04, -8.10633466e-03, -7.67991812e-02,\n",
            "        4.61728764e-02,  2.39458617e-02, -2.10174379e-01,  5.85853282e-02,\n",
            "       -8.22135564e-02,  0.00000000e+00, -1.10178665e-01]), array([ 0.        ,  0.02159213, -0.00519016, -0.00439939, -0.32081553,\n",
            "       -0.03631299,  0.01648962,  0.33237498, -0.09678409, -0.        ,\n",
            "       -0.        , -0.06861015,  0.03140049,  0.00999209, -0.2259089 ,\n",
            "        0.05636554, -0.07985871,  0.        , -0.        ]), array([ 0.        ,  0.01805953, -0.00304514, -0.00381831, -0.30717195,\n",
            "       -0.02068856,  0.00942589,  0.32849965, -0.09332781, -0.        ,\n",
            "       -0.        , -0.06398547,  0.02850511,  0.00748022, -0.23192048,\n",
            "        0.05549083, -0.07828473,  0.        , -0.        ]), array([ 0.        ,  0.        , -0.        , -0.        , -0.24851235,\n",
            "       -0.        ,  0.        ,  0.30968794, -0.07844855, -0.        ,\n",
            "       -0.        , -0.0435162 ,  0.00821643,  0.        , -0.25538178,\n",
            "        0.04901787, -0.06820153,  0.        , -0.        ]), array([ 0.        ,  0.        , -0.        , -0.        , -0.16045869,\n",
            "       -0.        ,  0.        ,  0.2443501 , -0.04806703, -0.        ,\n",
            "       -0.        , -0.0077784 ,  0.        ,  0.        , -0.29341711,\n",
            "        0.02780417, -0.03971489,  0.        , -0.        ]), array([ 0.        ,  0.        , -0.        , -0.        , -0.07273296,\n",
            "       -0.        ,  0.        ,  0.18029639, -0.01166131, -0.        ,\n",
            "       -0.        , -0.        ,  0.        ,  0.        , -0.32562807,\n",
            "        0.00604542, -0.007735  ,  0.        , -0.        ]), array([ 0.        ,  0.        , -0.        , -0.        , -0.        ,\n",
            "       -0.        ,  0.        ,  0.11258341, -0.        , -0.        ,\n",
            "       -0.        , -0.        ,  0.        ,  0.        , -0.32916699,\n",
            "        0.        , -0.        ,  0.        , -0.        ]), array([ 0.        ,  0.        , -0.        , -0.        , -0.        ,\n",
            "       -0.        ,  0.        ,  0.05720017, -0.        , -0.        ,\n",
            "       -0.        , -0.        ,  0.        ,  0.        , -0.27934701,\n",
            "        0.        , -0.        ,  0.        , -0.        ]), array([-0.        ,  0.        , -0.        , -0.        , -0.        ,\n",
            "        0.        ,  0.        ,  0.        , -0.        , -0.        ,\n",
            "       -0.        , -0.        ,  0.        ,  0.        , -0.09516944,\n",
            "        0.        , -0.        ,  0.        , -0.        ])]\n",
            "[array([ 0.00857262,  0.035808  , -0.01316677, -0.0074442 , -0.26104439,\n",
            "       -0.05972415,  0.05635211,  0.45317898, -0.09476129,  0.00625109,\n",
            "       -0.00382449, -0.07022174,  0.06752704,  0.04503602, -0.20627283,\n",
            "        0.05909034, -0.08211555, -0.14305826, -0.19228351]), array([ 0.00835389,  0.0356342 , -0.01300872, -0.00738495, -0.26171799,\n",
            "       -0.08782916,  0.04880132,  0.38116158, -0.10187148, -0.00071116,\n",
            "       -0.01082308, -0.07737432,  0.05296492,  0.03062216, -0.20643657,\n",
            "        0.05916896, -0.08210943, -0.        , -0.1903328 ]), array([ 0.00812564,  0.03545399, -0.01291431, -0.00734094, -0.26344786,\n",
            "       -0.08727322,  0.0483544 ,  0.38026214, -0.10187874, -0.00067925,\n",
            "       -0.01067545, -0.07733945,  0.05261345,  0.03027787, -0.20663588,\n",
            "        0.05913844, -0.08211295,  0.        , -0.18623737]), array([ 0.00629238,  0.03401392, -0.0121251 , -0.00698895, -0.27808848,\n",
            "       -0.08292848,  0.04475213,  0.37287688, -0.10198391, -0.00049281,\n",
            "       -0.0095436 , -0.0771092 ,  0.04973807,  0.0274484 , -0.20820298,\n",
            "        0.0588922 , -0.08216188,  0.        , -0.15216883]), array([ 4.00412299e-03,  3.22130970e-02, -1.11540656e-02, -6.54890990e-03,\n",
            "       -2.96023464e-01, -7.74506703e-02,  4.02616046e-02,  3.63731873e-01,\n",
            "       -1.02093900e-01, -2.28343633e-04, -8.10633466e-03, -7.67991812e-02,\n",
            "        4.61728764e-02,  2.39458617e-02, -2.10174379e-01,  5.85853282e-02,\n",
            "       -8.22135564e-02,  0.00000000e+00, -1.10178665e-01]), array([ 0.        ,  0.02159213, -0.00519016, -0.00439939, -0.32081553,\n",
            "       -0.03631299,  0.01648962,  0.33237498, -0.09678409, -0.        ,\n",
            "       -0.        , -0.06861015,  0.03140049,  0.00999209, -0.2259089 ,\n",
            "        0.05636554, -0.07985871,  0.        , -0.        ]), array([ 0.        ,  0.01805953, -0.00304514, -0.00381831, -0.30717195,\n",
            "       -0.02068856,  0.00942589,  0.32849965, -0.09332781, -0.        ,\n",
            "       -0.        , -0.06398547,  0.02850511,  0.00748022, -0.23192048,\n",
            "        0.05549083, -0.07828473,  0.        , -0.        ]), array([ 0.        ,  0.        , -0.        , -0.        , -0.24851235,\n",
            "       -0.        ,  0.        ,  0.30968794, -0.07844855, -0.        ,\n",
            "       -0.        , -0.0435162 ,  0.00821643,  0.        , -0.25538178,\n",
            "        0.04901787, -0.06820153,  0.        , -0.        ]), array([ 0.        ,  0.        , -0.        , -0.        , -0.16045869,\n",
            "       -0.        ,  0.        ,  0.2443501 , -0.04806703, -0.        ,\n",
            "       -0.        , -0.0077784 ,  0.        ,  0.        , -0.29341711,\n",
            "        0.02780417, -0.03971489,  0.        , -0.        ]), array([ 0.        ,  0.        , -0.        , -0.        , -0.07273296,\n",
            "       -0.        ,  0.        ,  0.18029639, -0.01166131, -0.        ,\n",
            "       -0.        , -0.        ,  0.        ,  0.        , -0.32562807,\n",
            "        0.00604542, -0.007735  ,  0.        , -0.        ]), array([ 0.        ,  0.        , -0.        , -0.        , -0.        ,\n",
            "       -0.        ,  0.        ,  0.11258341, -0.        , -0.        ,\n",
            "       -0.        , -0.        ,  0.        ,  0.        , -0.32916699,\n",
            "        0.        , -0.        ,  0.        , -0.        ]), array([ 0.        ,  0.        , -0.        , -0.        , -0.        ,\n",
            "       -0.        ,  0.        ,  0.05720017, -0.        , -0.        ,\n",
            "       -0.        , -0.        ,  0.        ,  0.        , -0.27934701,\n",
            "        0.        , -0.        ,  0.        , -0.        ]), array([-0.        ,  0.        , -0.        , -0.        , -0.        ,\n",
            "        0.        ,  0.        ,  0.        , -0.        , -0.        ,\n",
            "       -0.        , -0.        ,  0.        ,  0.        , -0.09516944,\n",
            "        0.        , -0.        ,  0.        , -0.        ]), array([-0.,  0., -0., -0., -0., -0.,  0.,  0., -0., -0., -0., -0.,  0.,\n",
            "        0., -0.,  0., -0.,  0., -0.])]\n",
            "[array([ 0.00857262,  0.035808  , -0.01316677, -0.0074442 , -0.26104439,\n",
            "       -0.05972415,  0.05635211,  0.45317898, -0.09476129,  0.00625109,\n",
            "       -0.00382449, -0.07022174,  0.06752704,  0.04503602, -0.20627283,\n",
            "        0.05909034, -0.08211555, -0.14305826, -0.19228351]), array([ 0.00835389,  0.0356342 , -0.01300872, -0.00738495, -0.26171799,\n",
            "       -0.08782916,  0.04880132,  0.38116158, -0.10187148, -0.00071116,\n",
            "       -0.01082308, -0.07737432,  0.05296492,  0.03062216, -0.20643657,\n",
            "        0.05916896, -0.08210943, -0.        , -0.1903328 ]), array([ 0.00812564,  0.03545399, -0.01291431, -0.00734094, -0.26344786,\n",
            "       -0.08727322,  0.0483544 ,  0.38026214, -0.10187874, -0.00067925,\n",
            "       -0.01067545, -0.07733945,  0.05261345,  0.03027787, -0.20663588,\n",
            "        0.05913844, -0.08211295,  0.        , -0.18623737]), array([ 0.00629238,  0.03401392, -0.0121251 , -0.00698895, -0.27808848,\n",
            "       -0.08292848,  0.04475213,  0.37287688, -0.10198391, -0.00049281,\n",
            "       -0.0095436 , -0.0771092 ,  0.04973807,  0.0274484 , -0.20820298,\n",
            "        0.0588922 , -0.08216188,  0.        , -0.15216883]), array([ 4.00412299e-03,  3.22130970e-02, -1.11540656e-02, -6.54890990e-03,\n",
            "       -2.96023464e-01, -7.74506703e-02,  4.02616046e-02,  3.63731873e-01,\n",
            "       -1.02093900e-01, -2.28343633e-04, -8.10633466e-03, -7.67991812e-02,\n",
            "        4.61728764e-02,  2.39458617e-02, -2.10174379e-01,  5.85853282e-02,\n",
            "       -8.22135564e-02,  0.00000000e+00, -1.10178665e-01]), array([ 0.        ,  0.02159213, -0.00519016, -0.00439939, -0.32081553,\n",
            "       -0.03631299,  0.01648962,  0.33237498, -0.09678409, -0.        ,\n",
            "       -0.        , -0.06861015,  0.03140049,  0.00999209, -0.2259089 ,\n",
            "        0.05636554, -0.07985871,  0.        , -0.        ]), array([ 0.        ,  0.01805953, -0.00304514, -0.00381831, -0.30717195,\n",
            "       -0.02068856,  0.00942589,  0.32849965, -0.09332781, -0.        ,\n",
            "       -0.        , -0.06398547,  0.02850511,  0.00748022, -0.23192048,\n",
            "        0.05549083, -0.07828473,  0.        , -0.        ]), array([ 0.        ,  0.        , -0.        , -0.        , -0.24851235,\n",
            "       -0.        ,  0.        ,  0.30968794, -0.07844855, -0.        ,\n",
            "       -0.        , -0.0435162 ,  0.00821643,  0.        , -0.25538178,\n",
            "        0.04901787, -0.06820153,  0.        , -0.        ]), array([ 0.        ,  0.        , -0.        , -0.        , -0.16045869,\n",
            "       -0.        ,  0.        ,  0.2443501 , -0.04806703, -0.        ,\n",
            "       -0.        , -0.0077784 ,  0.        ,  0.        , -0.29341711,\n",
            "        0.02780417, -0.03971489,  0.        , -0.        ]), array([ 0.        ,  0.        , -0.        , -0.        , -0.07273296,\n",
            "       -0.        ,  0.        ,  0.18029639, -0.01166131, -0.        ,\n",
            "       -0.        , -0.        ,  0.        ,  0.        , -0.32562807,\n",
            "        0.00604542, -0.007735  ,  0.        , -0.        ]), array([ 0.        ,  0.        , -0.        , -0.        , -0.        ,\n",
            "       -0.        ,  0.        ,  0.11258341, -0.        , -0.        ,\n",
            "       -0.        , -0.        ,  0.        ,  0.        , -0.32916699,\n",
            "        0.        , -0.        ,  0.        , -0.        ]), array([ 0.        ,  0.        , -0.        , -0.        , -0.        ,\n",
            "       -0.        ,  0.        ,  0.05720017, -0.        , -0.        ,\n",
            "       -0.        , -0.        ,  0.        ,  0.        , -0.27934701,\n",
            "        0.        , -0.        ,  0.        , -0.        ]), array([-0.        ,  0.        , -0.        , -0.        , -0.        ,\n",
            "        0.        ,  0.        ,  0.        , -0.        , -0.        ,\n",
            "       -0.        , -0.        ,  0.        ,  0.        , -0.09516944,\n",
            "        0.        , -0.        ,  0.        , -0.        ]), array([-0.,  0., -0., -0., -0., -0.,  0.,  0., -0., -0., -0., -0.,  0.,\n",
            "        0., -0.,  0., -0.,  0., -0.]), array([-0.,  0., -0., -0., -0., -0.,  0.,  0., -0., -0., -0., -0.,  0.,\n",
            "        0., -0.,  0., -0.,  0., -0.])]\n"
          ]
        }
      ]
    },
    {
      "cell_type": "markdown",
      "source": [
        "Para entender melhor, vamos fazer um gráfico dessa matriz de coeficientes"
      ],
      "metadata": {
        "id": "pr5vPtNtZqCc"
      }
    },
    {
      "cell_type": "code",
      "source": [
        "alpha_index = []\n",
        "for i in range(len(search_space['alpha'])):\n",
        "  alpha_index.append(f'alpha{i}')\n",
        "alphas = pd.DataFrame(search_space['alpha'], index=alpha_index)\n",
        "\n",
        "coef_dataframe = pd.DataFrame(coef_matrix, index=search_space['alpha'])\n"
      ],
      "metadata": {
        "id": "zNloZ6cDagmT"
      },
      "execution_count": null,
      "outputs": []
    },
    {
      "cell_type": "code",
      "source": [
        "coef_dataframe"
      ],
      "metadata": {
        "id": "cAgqCBTwbLgT",
        "colab": {
          "base_uri": "https://localhost:8080/",
          "height": 584
        },
        "outputId": "7bd59a72-11b4-4ebd-f282-e2c9f9b2e346"
      },
      "execution_count": null,
      "outputs": [
        {
          "output_type": "execute_result",
          "data": {
            "text/plain": [
              "               0         1         2         3         4         5         6   \\\n",
              "0.00001  0.008573  0.035808 -0.013167 -0.007444 -0.261044 -0.059724  0.056352   \n",
              "0.00005  0.008354  0.035634 -0.013009 -0.007385 -0.261718 -0.087829  0.048801   \n",
              "0.00010  0.008126  0.035454 -0.012914 -0.007341 -0.263448 -0.087273  0.048354   \n",
              "0.00050  0.006292  0.034014 -0.012125 -0.006989 -0.278088 -0.082928  0.044752   \n",
              "0.00100  0.004004  0.032213 -0.011154 -0.006549 -0.296023 -0.077451  0.040262   \n",
              "0.00400  0.000000  0.021592 -0.005190 -0.004399 -0.320816 -0.036313  0.016490   \n",
              "0.00500  0.000000  0.018060 -0.003045 -0.003818 -0.307172 -0.020689  0.009426   \n",
              "0.01000  0.000000  0.000000 -0.000000 -0.000000 -0.248512 -0.000000  0.000000   \n",
              "0.02000  0.000000  0.000000 -0.000000 -0.000000 -0.160459 -0.000000  0.000000   \n",
              "0.03000  0.000000  0.000000 -0.000000 -0.000000 -0.072733 -0.000000  0.000000   \n",
              "0.04000  0.000000  0.000000 -0.000000 -0.000000 -0.000000 -0.000000  0.000000   \n",
              "0.05000  0.000000  0.000000 -0.000000 -0.000000 -0.000000 -0.000000  0.000000   \n",
              "0.08000 -0.000000  0.000000 -0.000000 -0.000000 -0.000000  0.000000  0.000000   \n",
              "0.10000 -0.000000  0.000000 -0.000000 -0.000000 -0.000000 -0.000000  0.000000   \n",
              "0.15000 -0.000000  0.000000 -0.000000 -0.000000 -0.000000 -0.000000  0.000000   \n",
              "\n",
              "               7         8         9         10        11        12        13  \\\n",
              "0.00001  0.453179 -0.094761  0.006251 -0.003824 -0.070222  0.067527  0.045036   \n",
              "0.00005  0.381162 -0.101871 -0.000711 -0.010823 -0.077374  0.052965  0.030622   \n",
              "0.00010  0.380262 -0.101879 -0.000679 -0.010675 -0.077339  0.052613  0.030278   \n",
              "0.00050  0.372877 -0.101984 -0.000493 -0.009544 -0.077109  0.049738  0.027448   \n",
              "0.00100  0.363732 -0.102094 -0.000228 -0.008106 -0.076799  0.046173  0.023946   \n",
              "0.00400  0.332375 -0.096784 -0.000000 -0.000000 -0.068610  0.031400  0.009992   \n",
              "0.00500  0.328500 -0.093328 -0.000000 -0.000000 -0.063985  0.028505  0.007480   \n",
              "0.01000  0.309688 -0.078449 -0.000000 -0.000000 -0.043516  0.008216  0.000000   \n",
              "0.02000  0.244350 -0.048067 -0.000000 -0.000000 -0.007778  0.000000  0.000000   \n",
              "0.03000  0.180296 -0.011661 -0.000000 -0.000000 -0.000000  0.000000  0.000000   \n",
              "0.04000  0.112583 -0.000000 -0.000000 -0.000000 -0.000000  0.000000  0.000000   \n",
              "0.05000  0.057200 -0.000000 -0.000000 -0.000000 -0.000000  0.000000  0.000000   \n",
              "0.08000  0.000000 -0.000000 -0.000000 -0.000000 -0.000000  0.000000  0.000000   \n",
              "0.10000  0.000000 -0.000000 -0.000000 -0.000000 -0.000000  0.000000  0.000000   \n",
              "0.15000  0.000000 -0.000000 -0.000000 -0.000000 -0.000000  0.000000  0.000000   \n",
              "\n",
              "               14        15        16        17        18  \n",
              "0.00001 -0.206273  0.059090 -0.082116 -0.143058 -0.192284  \n",
              "0.00005 -0.206437  0.059169 -0.082109 -0.000000 -0.190333  \n",
              "0.00010 -0.206636  0.059138 -0.082113  0.000000 -0.186237  \n",
              "0.00050 -0.208203  0.058892 -0.082162  0.000000 -0.152169  \n",
              "0.00100 -0.210174  0.058585 -0.082214  0.000000 -0.110179  \n",
              "0.00400 -0.225909  0.056366 -0.079859  0.000000 -0.000000  \n",
              "0.00500 -0.231920  0.055491 -0.078285  0.000000 -0.000000  \n",
              "0.01000 -0.255382  0.049018 -0.068202  0.000000 -0.000000  \n",
              "0.02000 -0.293417  0.027804 -0.039715  0.000000 -0.000000  \n",
              "0.03000 -0.325628  0.006045 -0.007735  0.000000 -0.000000  \n",
              "0.04000 -0.329167  0.000000 -0.000000  0.000000 -0.000000  \n",
              "0.05000 -0.279347  0.000000 -0.000000  0.000000 -0.000000  \n",
              "0.08000 -0.095169  0.000000 -0.000000  0.000000 -0.000000  \n",
              "0.10000 -0.000000  0.000000 -0.000000  0.000000 -0.000000  \n",
              "0.15000 -0.000000  0.000000 -0.000000  0.000000 -0.000000  "
            ],
            "text/html": [
              "\n",
              "  <div id=\"df-eb73f066-9235-42a6-ab15-c0e19ec1fb70\">\n",
              "    <div class=\"colab-df-container\">\n",
              "      <div>\n",
              "<style scoped>\n",
              "    .dataframe tbody tr th:only-of-type {\n",
              "        vertical-align: middle;\n",
              "    }\n",
              "\n",
              "    .dataframe tbody tr th {\n",
              "        vertical-align: top;\n",
              "    }\n",
              "\n",
              "    .dataframe thead th {\n",
              "        text-align: right;\n",
              "    }\n",
              "</style>\n",
              "<table border=\"1\" class=\"dataframe\">\n",
              "  <thead>\n",
              "    <tr style=\"text-align: right;\">\n",
              "      <th></th>\n",
              "      <th>0</th>\n",
              "      <th>1</th>\n",
              "      <th>2</th>\n",
              "      <th>3</th>\n",
              "      <th>4</th>\n",
              "      <th>5</th>\n",
              "      <th>6</th>\n",
              "      <th>7</th>\n",
              "      <th>8</th>\n",
              "      <th>9</th>\n",
              "      <th>10</th>\n",
              "      <th>11</th>\n",
              "      <th>12</th>\n",
              "      <th>13</th>\n",
              "      <th>14</th>\n",
              "      <th>15</th>\n",
              "      <th>16</th>\n",
              "      <th>17</th>\n",
              "      <th>18</th>\n",
              "    </tr>\n",
              "  </thead>\n",
              "  <tbody>\n",
              "    <tr>\n",
              "      <th>0.00001</th>\n",
              "      <td>0.008573</td>\n",
              "      <td>0.035808</td>\n",
              "      <td>-0.013167</td>\n",
              "      <td>-0.007444</td>\n",
              "      <td>-0.261044</td>\n",
              "      <td>-0.059724</td>\n",
              "      <td>0.056352</td>\n",
              "      <td>0.453179</td>\n",
              "      <td>-0.094761</td>\n",
              "      <td>0.006251</td>\n",
              "      <td>-0.003824</td>\n",
              "      <td>-0.070222</td>\n",
              "      <td>0.067527</td>\n",
              "      <td>0.045036</td>\n",
              "      <td>-0.206273</td>\n",
              "      <td>0.059090</td>\n",
              "      <td>-0.082116</td>\n",
              "      <td>-0.143058</td>\n",
              "      <td>-0.192284</td>\n",
              "    </tr>\n",
              "    <tr>\n",
              "      <th>0.00005</th>\n",
              "      <td>0.008354</td>\n",
              "      <td>0.035634</td>\n",
              "      <td>-0.013009</td>\n",
              "      <td>-0.007385</td>\n",
              "      <td>-0.261718</td>\n",
              "      <td>-0.087829</td>\n",
              "      <td>0.048801</td>\n",
              "      <td>0.381162</td>\n",
              "      <td>-0.101871</td>\n",
              "      <td>-0.000711</td>\n",
              "      <td>-0.010823</td>\n",
              "      <td>-0.077374</td>\n",
              "      <td>0.052965</td>\n",
              "      <td>0.030622</td>\n",
              "      <td>-0.206437</td>\n",
              "      <td>0.059169</td>\n",
              "      <td>-0.082109</td>\n",
              "      <td>-0.000000</td>\n",
              "      <td>-0.190333</td>\n",
              "    </tr>\n",
              "    <tr>\n",
              "      <th>0.00010</th>\n",
              "      <td>0.008126</td>\n",
              "      <td>0.035454</td>\n",
              "      <td>-0.012914</td>\n",
              "      <td>-0.007341</td>\n",
              "      <td>-0.263448</td>\n",
              "      <td>-0.087273</td>\n",
              "      <td>0.048354</td>\n",
              "      <td>0.380262</td>\n",
              "      <td>-0.101879</td>\n",
              "      <td>-0.000679</td>\n",
              "      <td>-0.010675</td>\n",
              "      <td>-0.077339</td>\n",
              "      <td>0.052613</td>\n",
              "      <td>0.030278</td>\n",
              "      <td>-0.206636</td>\n",
              "      <td>0.059138</td>\n",
              "      <td>-0.082113</td>\n",
              "      <td>0.000000</td>\n",
              "      <td>-0.186237</td>\n",
              "    </tr>\n",
              "    <tr>\n",
              "      <th>0.00050</th>\n",
              "      <td>0.006292</td>\n",
              "      <td>0.034014</td>\n",
              "      <td>-0.012125</td>\n",
              "      <td>-0.006989</td>\n",
              "      <td>-0.278088</td>\n",
              "      <td>-0.082928</td>\n",
              "      <td>0.044752</td>\n",
              "      <td>0.372877</td>\n",
              "      <td>-0.101984</td>\n",
              "      <td>-0.000493</td>\n",
              "      <td>-0.009544</td>\n",
              "      <td>-0.077109</td>\n",
              "      <td>0.049738</td>\n",
              "      <td>0.027448</td>\n",
              "      <td>-0.208203</td>\n",
              "      <td>0.058892</td>\n",
              "      <td>-0.082162</td>\n",
              "      <td>0.000000</td>\n",
              "      <td>-0.152169</td>\n",
              "    </tr>\n",
              "    <tr>\n",
              "      <th>0.00100</th>\n",
              "      <td>0.004004</td>\n",
              "      <td>0.032213</td>\n",
              "      <td>-0.011154</td>\n",
              "      <td>-0.006549</td>\n",
              "      <td>-0.296023</td>\n",
              "      <td>-0.077451</td>\n",
              "      <td>0.040262</td>\n",
              "      <td>0.363732</td>\n",
              "      <td>-0.102094</td>\n",
              "      <td>-0.000228</td>\n",
              "      <td>-0.008106</td>\n",
              "      <td>-0.076799</td>\n",
              "      <td>0.046173</td>\n",
              "      <td>0.023946</td>\n",
              "      <td>-0.210174</td>\n",
              "      <td>0.058585</td>\n",
              "      <td>-0.082214</td>\n",
              "      <td>0.000000</td>\n",
              "      <td>-0.110179</td>\n",
              "    </tr>\n",
              "    <tr>\n",
              "      <th>0.00400</th>\n",
              "      <td>0.000000</td>\n",
              "      <td>0.021592</td>\n",
              "      <td>-0.005190</td>\n",
              "      <td>-0.004399</td>\n",
              "      <td>-0.320816</td>\n",
              "      <td>-0.036313</td>\n",
              "      <td>0.016490</td>\n",
              "      <td>0.332375</td>\n",
              "      <td>-0.096784</td>\n",
              "      <td>-0.000000</td>\n",
              "      <td>-0.000000</td>\n",
              "      <td>-0.068610</td>\n",
              "      <td>0.031400</td>\n",
              "      <td>0.009992</td>\n",
              "      <td>-0.225909</td>\n",
              "      <td>0.056366</td>\n",
              "      <td>-0.079859</td>\n",
              "      <td>0.000000</td>\n",
              "      <td>-0.000000</td>\n",
              "    </tr>\n",
              "    <tr>\n",
              "      <th>0.00500</th>\n",
              "      <td>0.000000</td>\n",
              "      <td>0.018060</td>\n",
              "      <td>-0.003045</td>\n",
              "      <td>-0.003818</td>\n",
              "      <td>-0.307172</td>\n",
              "      <td>-0.020689</td>\n",
              "      <td>0.009426</td>\n",
              "      <td>0.328500</td>\n",
              "      <td>-0.093328</td>\n",
              "      <td>-0.000000</td>\n",
              "      <td>-0.000000</td>\n",
              "      <td>-0.063985</td>\n",
              "      <td>0.028505</td>\n",
              "      <td>0.007480</td>\n",
              "      <td>-0.231920</td>\n",
              "      <td>0.055491</td>\n",
              "      <td>-0.078285</td>\n",
              "      <td>0.000000</td>\n",
              "      <td>-0.000000</td>\n",
              "    </tr>\n",
              "    <tr>\n",
              "      <th>0.01000</th>\n",
              "      <td>0.000000</td>\n",
              "      <td>0.000000</td>\n",
              "      <td>-0.000000</td>\n",
              "      <td>-0.000000</td>\n",
              "      <td>-0.248512</td>\n",
              "      <td>-0.000000</td>\n",
              "      <td>0.000000</td>\n",
              "      <td>0.309688</td>\n",
              "      <td>-0.078449</td>\n",
              "      <td>-0.000000</td>\n",
              "      <td>-0.000000</td>\n",
              "      <td>-0.043516</td>\n",
              "      <td>0.008216</td>\n",
              "      <td>0.000000</td>\n",
              "      <td>-0.255382</td>\n",
              "      <td>0.049018</td>\n",
              "      <td>-0.068202</td>\n",
              "      <td>0.000000</td>\n",
              "      <td>-0.000000</td>\n",
              "    </tr>\n",
              "    <tr>\n",
              "      <th>0.02000</th>\n",
              "      <td>0.000000</td>\n",
              "      <td>0.000000</td>\n",
              "      <td>-0.000000</td>\n",
              "      <td>-0.000000</td>\n",
              "      <td>-0.160459</td>\n",
              "      <td>-0.000000</td>\n",
              "      <td>0.000000</td>\n",
              "      <td>0.244350</td>\n",
              "      <td>-0.048067</td>\n",
              "      <td>-0.000000</td>\n",
              "      <td>-0.000000</td>\n",
              "      <td>-0.007778</td>\n",
              "      <td>0.000000</td>\n",
              "      <td>0.000000</td>\n",
              "      <td>-0.293417</td>\n",
              "      <td>0.027804</td>\n",
              "      <td>-0.039715</td>\n",
              "      <td>0.000000</td>\n",
              "      <td>-0.000000</td>\n",
              "    </tr>\n",
              "    <tr>\n",
              "      <th>0.03000</th>\n",
              "      <td>0.000000</td>\n",
              "      <td>0.000000</td>\n",
              "      <td>-0.000000</td>\n",
              "      <td>-0.000000</td>\n",
              "      <td>-0.072733</td>\n",
              "      <td>-0.000000</td>\n",
              "      <td>0.000000</td>\n",
              "      <td>0.180296</td>\n",
              "      <td>-0.011661</td>\n",
              "      <td>-0.000000</td>\n",
              "      <td>-0.000000</td>\n",
              "      <td>-0.000000</td>\n",
              "      <td>0.000000</td>\n",
              "      <td>0.000000</td>\n",
              "      <td>-0.325628</td>\n",
              "      <td>0.006045</td>\n",
              "      <td>-0.007735</td>\n",
              "      <td>0.000000</td>\n",
              "      <td>-0.000000</td>\n",
              "    </tr>\n",
              "    <tr>\n",
              "      <th>0.04000</th>\n",
              "      <td>0.000000</td>\n",
              "      <td>0.000000</td>\n",
              "      <td>-0.000000</td>\n",
              "      <td>-0.000000</td>\n",
              "      <td>-0.000000</td>\n",
              "      <td>-0.000000</td>\n",
              "      <td>0.000000</td>\n",
              "      <td>0.112583</td>\n",
              "      <td>-0.000000</td>\n",
              "      <td>-0.000000</td>\n",
              "      <td>-0.000000</td>\n",
              "      <td>-0.000000</td>\n",
              "      <td>0.000000</td>\n",
              "      <td>0.000000</td>\n",
              "      <td>-0.329167</td>\n",
              "      <td>0.000000</td>\n",
              "      <td>-0.000000</td>\n",
              "      <td>0.000000</td>\n",
              "      <td>-0.000000</td>\n",
              "    </tr>\n",
              "    <tr>\n",
              "      <th>0.05000</th>\n",
              "      <td>0.000000</td>\n",
              "      <td>0.000000</td>\n",
              "      <td>-0.000000</td>\n",
              "      <td>-0.000000</td>\n",
              "      <td>-0.000000</td>\n",
              "      <td>-0.000000</td>\n",
              "      <td>0.000000</td>\n",
              "      <td>0.057200</td>\n",
              "      <td>-0.000000</td>\n",
              "      <td>-0.000000</td>\n",
              "      <td>-0.000000</td>\n",
              "      <td>-0.000000</td>\n",
              "      <td>0.000000</td>\n",
              "      <td>0.000000</td>\n",
              "      <td>-0.279347</td>\n",
              "      <td>0.000000</td>\n",
              "      <td>-0.000000</td>\n",
              "      <td>0.000000</td>\n",
              "      <td>-0.000000</td>\n",
              "    </tr>\n",
              "    <tr>\n",
              "      <th>0.08000</th>\n",
              "      <td>-0.000000</td>\n",
              "      <td>0.000000</td>\n",
              "      <td>-0.000000</td>\n",
              "      <td>-0.000000</td>\n",
              "      <td>-0.000000</td>\n",
              "      <td>0.000000</td>\n",
              "      <td>0.000000</td>\n",
              "      <td>0.000000</td>\n",
              "      <td>-0.000000</td>\n",
              "      <td>-0.000000</td>\n",
              "      <td>-0.000000</td>\n",
              "      <td>-0.000000</td>\n",
              "      <td>0.000000</td>\n",
              "      <td>0.000000</td>\n",
              "      <td>-0.095169</td>\n",
              "      <td>0.000000</td>\n",
              "      <td>-0.000000</td>\n",
              "      <td>0.000000</td>\n",
              "      <td>-0.000000</td>\n",
              "    </tr>\n",
              "    <tr>\n",
              "      <th>0.10000</th>\n",
              "      <td>-0.000000</td>\n",
              "      <td>0.000000</td>\n",
              "      <td>-0.000000</td>\n",
              "      <td>-0.000000</td>\n",
              "      <td>-0.000000</td>\n",
              "      <td>-0.000000</td>\n",
              "      <td>0.000000</td>\n",
              "      <td>0.000000</td>\n",
              "      <td>-0.000000</td>\n",
              "      <td>-0.000000</td>\n",
              "      <td>-0.000000</td>\n",
              "      <td>-0.000000</td>\n",
              "      <td>0.000000</td>\n",
              "      <td>0.000000</td>\n",
              "      <td>-0.000000</td>\n",
              "      <td>0.000000</td>\n",
              "      <td>-0.000000</td>\n",
              "      <td>0.000000</td>\n",
              "      <td>-0.000000</td>\n",
              "    </tr>\n",
              "    <tr>\n",
              "      <th>0.15000</th>\n",
              "      <td>-0.000000</td>\n",
              "      <td>0.000000</td>\n",
              "      <td>-0.000000</td>\n",
              "      <td>-0.000000</td>\n",
              "      <td>-0.000000</td>\n",
              "      <td>-0.000000</td>\n",
              "      <td>0.000000</td>\n",
              "      <td>0.000000</td>\n",
              "      <td>-0.000000</td>\n",
              "      <td>-0.000000</td>\n",
              "      <td>-0.000000</td>\n",
              "      <td>-0.000000</td>\n",
              "      <td>0.000000</td>\n",
              "      <td>0.000000</td>\n",
              "      <td>-0.000000</td>\n",
              "      <td>0.000000</td>\n",
              "      <td>-0.000000</td>\n",
              "      <td>0.000000</td>\n",
              "      <td>-0.000000</td>\n",
              "    </tr>\n",
              "  </tbody>\n",
              "</table>\n",
              "</div>\n",
              "      <button class=\"colab-df-convert\" onclick=\"convertToInteractive('df-eb73f066-9235-42a6-ab15-c0e19ec1fb70')\"\n",
              "              title=\"Convert this dataframe to an interactive table.\"\n",
              "              style=\"display:none;\">\n",
              "        \n",
              "  <svg xmlns=\"http://www.w3.org/2000/svg\" height=\"24px\"viewBox=\"0 0 24 24\"\n",
              "       width=\"24px\">\n",
              "    <path d=\"M0 0h24v24H0V0z\" fill=\"none\"/>\n",
              "    <path d=\"M18.56 5.44l.94 2.06.94-2.06 2.06-.94-2.06-.94-.94-2.06-.94 2.06-2.06.94zm-11 1L8.5 8.5l.94-2.06 2.06-.94-2.06-.94L8.5 2.5l-.94 2.06-2.06.94zm10 10l.94 2.06.94-2.06 2.06-.94-2.06-.94-.94-2.06-.94 2.06-2.06.94z\"/><path d=\"M17.41 7.96l-1.37-1.37c-.4-.4-.92-.59-1.43-.59-.52 0-1.04.2-1.43.59L10.3 9.45l-7.72 7.72c-.78.78-.78 2.05 0 2.83L4 21.41c.39.39.9.59 1.41.59.51 0 1.02-.2 1.41-.59l7.78-7.78 2.81-2.81c.8-.78.8-2.07 0-2.86zM5.41 20L4 18.59l7.72-7.72 1.47 1.35L5.41 20z\"/>\n",
              "  </svg>\n",
              "      </button>\n",
              "      \n",
              "  <style>\n",
              "    .colab-df-container {\n",
              "      display:flex;\n",
              "      flex-wrap:wrap;\n",
              "      gap: 12px;\n",
              "    }\n",
              "\n",
              "    .colab-df-convert {\n",
              "      background-color: #E8F0FE;\n",
              "      border: none;\n",
              "      border-radius: 50%;\n",
              "      cursor: pointer;\n",
              "      display: none;\n",
              "      fill: #1967D2;\n",
              "      height: 32px;\n",
              "      padding: 0 0 0 0;\n",
              "      width: 32px;\n",
              "    }\n",
              "\n",
              "    .colab-df-convert:hover {\n",
              "      background-color: #E2EBFA;\n",
              "      box-shadow: 0px 1px 2px rgba(60, 64, 67, 0.3), 0px 1px 3px 1px rgba(60, 64, 67, 0.15);\n",
              "      fill: #174EA6;\n",
              "    }\n",
              "\n",
              "    [theme=dark] .colab-df-convert {\n",
              "      background-color: #3B4455;\n",
              "      fill: #D2E3FC;\n",
              "    }\n",
              "\n",
              "    [theme=dark] .colab-df-convert:hover {\n",
              "      background-color: #434B5C;\n",
              "      box-shadow: 0px 1px 3px 1px rgba(0, 0, 0, 0.15);\n",
              "      filter: drop-shadow(0px 1px 2px rgba(0, 0, 0, 0.3));\n",
              "      fill: #FFFFFF;\n",
              "    }\n",
              "  </style>\n",
              "\n",
              "      <script>\n",
              "        const buttonEl =\n",
              "          document.querySelector('#df-eb73f066-9235-42a6-ab15-c0e19ec1fb70 button.colab-df-convert');\n",
              "        buttonEl.style.display =\n",
              "          google.colab.kernel.accessAllowed ? 'block' : 'none';\n",
              "\n",
              "        async function convertToInteractive(key) {\n",
              "          const element = document.querySelector('#df-eb73f066-9235-42a6-ab15-c0e19ec1fb70');\n",
              "          const dataTable =\n",
              "            await google.colab.kernel.invokeFunction('convertToInteractive',\n",
              "                                                     [key], {});\n",
              "          if (!dataTable) return;\n",
              "\n",
              "          const docLinkHtml = 'Like what you see? Visit the ' +\n",
              "            '<a target=\"_blank\" href=https://colab.research.google.com/notebooks/data_table.ipynb>data table notebook</a>'\n",
              "            + ' to learn more about interactive tables.';\n",
              "          element.innerHTML = '';\n",
              "          dataTable['output_type'] = 'display_data';\n",
              "          await google.colab.output.renderOutput(dataTable, element);\n",
              "          const docLink = document.createElement('div');\n",
              "          docLink.innerHTML = docLinkHtml;\n",
              "          element.appendChild(docLink);\n",
              "        }\n",
              "      </script>\n",
              "    </div>\n",
              "  </div>\n",
              "  "
            ]
          },
          "metadata": {},
          "execution_count": 28
        }
      ]
    },
    {
      "cell_type": "code",
      "source": [
        "plt.plot(coef_dataframe)"
      ],
      "metadata": {
        "id": "eWba0KVPZu-z",
        "colab": {
          "base_uri": "https://localhost:8080/",
          "height": 595
        },
        "outputId": "441dd293-7c03-46cf-b547-e622ae48a65b"
      },
      "execution_count": null,
      "outputs": [
        {
          "output_type": "execute_result",
          "data": {
            "text/plain": [
              "[<matplotlib.lines.Line2D at 0x7fe4d8061700>,\n",
              " <matplotlib.lines.Line2D at 0x7fe4d8061850>,\n",
              " <matplotlib.lines.Line2D at 0x7fe4d8061910>,\n",
              " <matplotlib.lines.Line2D at 0x7fe4d80619d0>,\n",
              " <matplotlib.lines.Line2D at 0x7fe4d8061a90>,\n",
              " <matplotlib.lines.Line2D at 0x7fe4d8061b50>,\n",
              " <matplotlib.lines.Line2D at 0x7fe4d8061c10>,\n",
              " <matplotlib.lines.Line2D at 0x7fe4d8061cd0>,\n",
              " <matplotlib.lines.Line2D at 0x7fe4d8061d90>,\n",
              " <matplotlib.lines.Line2D at 0x7fe4d8061e50>,\n",
              " <matplotlib.lines.Line2D at 0x7fe4d8061f10>,\n",
              " <matplotlib.lines.Line2D at 0x7fe4d8061f70>,\n",
              " <matplotlib.lines.Line2D at 0x7fe4d80690a0>,\n",
              " <matplotlib.lines.Line2D at 0x7fe4d8069160>,\n",
              " <matplotlib.lines.Line2D at 0x7fe4d8069220>,\n",
              " <matplotlib.lines.Line2D at 0x7fe4d80692e0>,\n",
              " <matplotlib.lines.Line2D at 0x7fe4d80693a0>,\n",
              " <matplotlib.lines.Line2D at 0x7fe4d8069460>,\n",
              " <matplotlib.lines.Line2D at 0x7fe4d8069520>]"
            ]
          },
          "metadata": {},
          "execution_count": 29
        },
        {
          "output_type": "display_data",
          "data": {
            "text/plain": [
              "<Figure size 432x288 with 1 Axes>"
            ],
            "image/png": "[encoded data removed]"
          },
          "metadata": {
            "needs_background": "light"
          }
        }
      ]
    },
    {
      "cell_type": "code",
      "source": [
        "coef_dataframe.loc[0.03]\n"
      ],
      "metadata": {
        "id": "kU64eGLbj1xg",
        "colab": {
          "base_uri": "https://localhost:8080/"
        },
        "outputId": "8aefc1ee-b5d2-4d6e-cb31-7a81d412fc3c"
      },
      "execution_count": null,
      "outputs": [
        {
          "output_type": "execute_result",
          "data": {
            "text/plain": [
              "0     0.000000\n",
              "1     0.000000\n",
              "2    -0.000000\n",
              "3    -0.000000\n",
              "4    -0.072733\n",
              "5    -0.000000\n",
              "6     0.000000\n",
              "7     0.180296\n",
              "8    -0.011661\n",
              "9    -0.000000\n",
              "10   -0.000000\n",
              "11   -0.000000\n",
              "12    0.000000\n",
              "13    0.000000\n",
              "14   -0.325628\n",
              "15    0.006045\n",
              "16   -0.007735\n",
              "17    0.000000\n",
              "18   -0.000000\n",
              "Name: 0.03, dtype: float64"
            ]
          },
          "metadata": {},
          "execution_count": 30
        }
      ]
    },
    {
      "cell_type": "code",
      "source": [
        "coef_dataframe.loc[0.04]"
      ],
      "metadata": {
        "id": "c1g9lA1ZkGMz",
        "colab": {
          "base_uri": "https://localhost:8080/"
        },
        "outputId": "2b62b6dd-39c7-4328-9f53-9d021801fb22"
      },
      "execution_count": null,
      "outputs": [
        {
          "output_type": "execute_result",
          "data": {
            "text/plain": [
              "0     0.000000\n",
              "1     0.000000\n",
              "2    -0.000000\n",
              "3    -0.000000\n",
              "4    -0.000000\n",
              "5    -0.000000\n",
              "6     0.000000\n",
              "7     0.112583\n",
              "8    -0.000000\n",
              "9    -0.000000\n",
              "10   -0.000000\n",
              "11   -0.000000\n",
              "12    0.000000\n",
              "13    0.000000\n",
              "14   -0.329167\n",
              "15    0.000000\n",
              "16   -0.000000\n",
              "17    0.000000\n",
              "18   -0.000000\n",
              "Name: 0.04, dtype: float64"
            ]
          },
          "metadata": {},
          "execution_count": 31
        }
      ]
    },
    {
      "cell_type": "markdown",
      "source": [
        "Para alpha = 0.03 o filtro da regressão forneceu 3 betas diferentes de zero, para alpha = 0.02 temos 7 features e para alpha = 0.01 temos 9 features. Assim, acreditamos que esse seja um bom ponto de corte para realizar os testes, tendo em vista que para valores maiores temos um número muito pequeno de betas e não queremos fazer previsões baseadas em somente uma feature."
      ],
      "metadata": {
        "id": "m9fUL5MMwpkH"
      }
    },
    {
      "cell_type": "markdown",
      "source": [
        "TREINAMENTO COM TODAS AS FEATURES"
      ],
      "metadata": {
        "id": "xgUmUwCMrbsl"
      }
    },
    {
      "cell_type": "markdown",
      "source": [
        "Vamos testar os modelos de classificação kNN, Naive Bayes, Random Forest e xgboost"
      ],
      "metadata": {
        "id": "fMU7EhQ0rsFZ"
      }
    },
    {
      "cell_type": "markdown",
      "source": [
        "Tratar os dados de validação pra testar o modelo"
      ],
      "metadata": {
        "id": "mQW-fgx961rh"
      }
    },
    {
      "cell_type": "code",
      "source": [
        "## Transformando os valores da coluna TotalCharges em numéricos\n",
        "X_val[\"TotalCharges\"] = pd.to_numeric(X_val.TotalCharges, errors='coerce')\n",
        "X_val['TotalCharges'].replace(np.NaN, 0, inplace=True)\n",
        "\n",
        "##Tirando a coluna customerID\n",
        "X_val.drop(columns='customerID', inplace=True)\n",
        "\n",
        "## Transformando os dados de classificação em numéricos\n",
        "X_val.replace('No phone service', 'No', inplace=True)\n",
        "X_val.replace('No internet service', 'No', inplace=True)\n",
        "X_val.replace('No', 0, inplace=True)\n",
        "X_val.replace('Yes', 1, inplace=True)\n",
        "X_val.replace('Female', 0, inplace=True)\n",
        "X_val.replace('Male', 1, inplace=True)\n",
        "X_val.replace('DSL', 1, inplace=True)\n",
        "X_val.replace('Fiber optic', 2, inplace=True)\n",
        "X_val.replace('Month-to-month', 0, inplace=True)\n",
        "X_val.replace('Two year',  2, inplace=True)\n",
        "X_val.replace('One year', 1, inplace=True)\n",
        "X_val.replace('Electronic check', 0, inplace=True)\n",
        "X_val.replace('Bank transfer (automatic)', 1, inplace=True)\n",
        "X_val.replace('Mailed check', 2, inplace=True)\n",
        "X_val.replace('Credit card (automatic)', 3, inplace=True)\n",
        "\n",
        "## Escalando o dataset\n",
        "X_val_norm = X_val.apply(lambda x: normalizar(x), axis = 0)\n",
        "\n",
        "## Transformando a resposta de classificação em numérica\n",
        "Y_val.replace('Yes', 1, inplace=True)\n",
        "Y_val.replace('No', 0, inplace=True)"
      ],
      "metadata": {
        "id": "7TnRwXhUt7N1",
        "colab": {
          "base_uri": "https://localhost:8080/"
        },
        "outputId": "b8235198-f043-457d-f57a-4cc0419d9eb0"
      },
      "execution_count": null,
      "outputs": [
        {
          "output_type": "stream",
          "name": "stderr",
          "text": [
            "/usr/local/lib/python3.8/dist-packages/pandas/core/generic.py:6619: SettingWithCopyWarning: \n",
            "A value is trying to be set on a copy of a slice from a DataFrame\n",
            "\n",
            "See the caveats in the documentation: https://pandas.pydata.org/pandas-docs/stable/user_guide/indexing.html#returning-a-view-versus-a-copy\n",
            "  return self._update_inplace(result)\n"
          ]
        }
      ]
    },
    {
      "cell_type": "markdown",
      "source": [
        "TREINO COM KNN"
      ],
      "metadata": {
        "id": "yntj8cFs8YCb"
      }
    },
    {
      "cell_type": "code",
      "source": [
        "from sklearn.neighbors import KNeighborsClassifier\n",
        "# definindo a quantidade de vizinhos\n",
        "neigh = KNeighborsClassifier(n_neighbors=3)\n",
        "\n",
        "param_grid = {'n_neighbors': np.arange(2,30,1)}\n",
        "grid_search = GridSearchCV(neigh, param_grid, scoring='recall')\n",
        "grid_result = grid_search.fit(X_train_norm, Y_treino)\n",
        "\n",
        "print(f'Best result: {grid_result.best_score_} for {grid_result.best_params_}')\n",
        "\n"
      ],
      "metadata": {
        "id": "FYJk4784ChOZ",
        "colab": {
          "base_uri": "https://localhost:8080/"
        },
        "outputId": "6e877e17-ff7e-409d-9ab6-fc1fc059f31c"
      },
      "execution_count": null,
      "outputs": [
        {
          "output_type": "stream",
          "name": "stdout",
          "text": [
            "Best result: 0.8881037139775003 for {'n_neighbors': 3}\n"
          ]
        }
      ]
    },
    {
      "cell_type": "code",
      "source": [
        "\n",
        "## Ajustando os dados que vão para treino\n",
        "neigh.fit(X_train_norm, Y_treino)\n",
        "predict = list(neigh.predict(X_val_norm))\n",
        "\n",
        "## Fazendo a matriz confusão\n",
        "confusion_matrix = sklearn.metrics.confusion_matrix(Y_val, predict)\n",
        "ax= plt.subplot()\n",
        "sb.heatmap(confusion_matrix, xticklabels=['Não Churn', 'Churn'], yticklabels=['Não Churn', 'Churn'], annot=True, fmt='g', ax=ax);\n",
        "\n",
        "ax.set_xlabel('Predicted');ax.set_ylabel('True');\n",
        "ax.set_title('Confusion Matrix');"
      ],
      "metadata": {
        "id": "bbr2-fPKKPjS",
        "colab": {
          "base_uri": "https://localhost:8080/",
          "height": 295
        },
        "outputId": "94658cd2-ae9b-427a-8e3d-151c3741487f"
      },
      "execution_count": null,
      "outputs": [
        {
          "output_type": "display_data",
          "data": {
            "text/plain": [
              "<Figure size 432x288 with 2 Axes>"
            ],
            "image/png": "[encoded data removed]"
          },
          "metadata": {
            "needs_background": "light"
          }
        }
      ]
    },
    {
      "cell_type": "markdown",
      "source": [
        "Validação"
      ],
      "metadata": {
        "id": "ZQEa4vQsD7Up"
      }
    },
    {
      "cell_type": "code",
      "source": [
        "from sklearn.metrics import recall_score\n",
        "recall_score(Y_val, predict)"
      ],
      "metadata": {
        "id": "gL2xXylO9yco",
        "colab": {
          "base_uri": "https://localhost:8080/"
        },
        "outputId": "18d4ea29-6b87-4228-935a-6396f5859ba8"
      },
      "execution_count": null,
      "outputs": [
        {
          "output_type": "execute_result",
          "data": {
            "text/plain": [
              "0.6425925925925926"
            ]
          },
          "metadata": {},
          "execution_count": 35
        }
      ]
    },
    {
      "cell_type": "markdown",
      "source": [
        "Treino"
      ],
      "metadata": {
        "id": "hJhi30TYD9EW"
      }
    },
    {
      "cell_type": "code",
      "source": [
        "predict = neigh.predict(X_train_norm)\n",
        "recall_score(Y_treino, predict)"
      ],
      "metadata": {
        "colab": {
          "base_uri": "https://localhost:8080/"
        },
        "id": "nSRnGGUgBjaK",
        "outputId": "279d871f-4cbb-4ad6-cbd2-0470d8d3d08d"
      },
      "execution_count": null,
      "outputs": [
        {
          "output_type": "execute_result",
          "data": {
            "text/plain": [
              "0.9688975284643154"
            ]
          },
          "metadata": {},
          "execution_count": 36
        }
      ]
    },
    {
      "cell_type": "markdown",
      "source": [
        "TREINO UTILIZANDO AS 6 VARIÁVEIS FILTRADOS NA REGRESSÃO LASSO COM ALPHA = 0,03\n",
        "\n"
      ],
      "metadata": {
        "id": "PSybUmZZx3J_"
      }
    },
    {
      "cell_type": "code",
      "source": [
        "## Dropando as colunas que ficaram com Beta = 0\n",
        "X_train_norm_alpha_um = X_train_norm[['tenure', 'InternetService', 'OnlineSecurity', 'Contract', 'PaperlessBilling', 'PaymentMethod']]\n",
        "X_val_norm_alpha_um = X_val_norm[['tenure', 'InternetService', 'OnlineSecurity', 'Contract', 'PaperlessBilling', 'PaymentMethod']]\n",
        "\n",
        "## Ajustando os dados que vão para treino\n",
        "neigh.fit(X_train_norm_alpha_um, Y_treino)\n",
        "predict = list(neigh.predict(X_val_norm_alpha_um))\n",
        "\n",
        "## Fazendo a matriz confusão\n",
        "confusion_matrix = sklearn.metrics.confusion_matrix(Y_val, predict)\n",
        "ax= plt.subplot()\n",
        "sb.heatmap(confusion_matrix, xticklabels=['Não Churn', 'Churn'], yticklabels=['Não Churn', 'Churn'], annot=True, fmt='g', ax=ax);\n",
        "\n",
        "ax.set_xlabel('Predicted');ax.set_ylabel('True');\n",
        "ax.set_title('Confusion Matrix');"
      ],
      "metadata": {
        "id": "6gf72v2Htdy9",
        "colab": {
          "base_uri": "https://localhost:8080/",
          "height": 295
        },
        "outputId": "6f67a961-f4b6-4ce0-a160-ab48ad62076e"
      },
      "execution_count": null,
      "outputs": [
        {
          "output_type": "display_data",
          "data": {
            "text/plain": [
              "<Figure size 432x288 with 2 Axes>"
            ],
            "image/png": "[encoded data removed]"
          },
          "metadata": {
            "needs_background": "light"
          }
        }
      ]
    },
    {
      "cell_type": "markdown",
      "source": [
        "Validação"
      ],
      "metadata": {
        "id": "5hRlYjyACB77"
      }
    },
    {
      "cell_type": "code",
      "source": [
        "recall_score(Y_val, predict)"
      ],
      "metadata": {
        "id": "Ft-CixslBteV",
        "colab": {
          "base_uri": "https://localhost:8080/"
        },
        "outputId": "abefee98-997d-43b1-be86-98c5bae93e3b"
      },
      "execution_count": null,
      "outputs": [
        {
          "output_type": "execute_result",
          "data": {
            "text/plain": [
              "0.5592592592592592"
            ]
          },
          "metadata": {},
          "execution_count": 38
        }
      ]
    },
    {
      "cell_type": "markdown",
      "source": [
        "Treino"
      ],
      "metadata": {
        "id": "-7Y13dLKCDKU"
      }
    },
    {
      "cell_type": "code",
      "source": [
        "predict = neigh.predict(X_train_norm_alpha_um)\n",
        "recall_score(Y_treino, predict)"
      ],
      "metadata": {
        "colab": {
          "base_uri": "https://localhost:8080/"
        },
        "id": "u8qEHiKlCAw8",
        "outputId": "5a8c2655-d11b-417f-cb0a-4147e9d81a29"
      },
      "execution_count": null,
      "outputs": [
        {
          "output_type": "execute_result",
          "data": {
            "text/plain": [
              "0.7839489030824771"
            ]
          },
          "metadata": {},
          "execution_count": 40
        }
      ]
    },
    {
      "cell_type": "markdown",
      "source": [
        "TREINO UTILIZANDO AS 2 VARIÁVEIS FILTRADOS NA REGRESSÃO LASSO COM ALPHA = 0,04\n",
        "\n"
      ],
      "metadata": {
        "id": "32xLZBsq6syG"
      }
    },
    {
      "cell_type": "code",
      "source": [
        "X_train_norm_alpha_dois = X_train_norm[['InternetService', 'Contract']]\n",
        "X_val_norm_alpha_dois = X_val_norm[[ 'InternetService', 'Contract']]\n",
        "\n",
        "## Ajustando os dados que vão para treino\n",
        "neigh.fit(X_train_norm_alpha_dois, Y_treino)\n",
        "predict = list(neigh.predict(X_val_norm_alpha_dois))\n",
        "\n",
        "## Fazendo a matriz confusão\n",
        "confusion_matrix = sklearn.metrics.confusion_matrix(Y_val, predict)\n",
        "ax= plt.subplot()\n",
        "sb.heatmap(confusion_matrix, xticklabels=['Não Churn', 'Churn'], yticklabels=['Não Churn', 'Churn'], annot=True, fmt='g', ax=ax);\n",
        "\n",
        "ax.set_xlabel('Predicted');ax.set_ylabel('True');\n",
        "ax.set_title('Confusion Matrix');\n",
        "\n",
        "\n"
      ],
      "metadata": {
        "id": "paGmoPM46a-L",
        "colab": {
          "base_uri": "https://localhost:8080/",
          "height": 295
        },
        "outputId": "07b097a4-fa45-4f6e-fd1b-83a059a9eec0"
      },
      "execution_count": null,
      "outputs": [
        {
          "output_type": "display_data",
          "data": {
            "text/plain": [
              "<Figure size 432x288 with 2 Axes>"
            ],
            "image/png": "[encoded data removed]"
          },
          "metadata": {
            "needs_background": "light"
          }
        }
      ]
    },
    {
      "cell_type": "markdown",
      "source": [
        "Validação"
      ],
      "metadata": {
        "id": "6p4is6RwCZ0k"
      }
    },
    {
      "cell_type": "code",
      "source": [
        "recall_score(Y_val, predict)"
      ],
      "metadata": {
        "id": "CFam6NCpBzTQ",
        "colab": {
          "base_uri": "https://localhost:8080/"
        },
        "outputId": "16ab277d-9b82-49e1-a43e-6efe23b0f78c"
      },
      "execution_count": null,
      "outputs": [
        {
          "output_type": "execute_result",
          "data": {
            "text/plain": [
              "0.8037037037037037"
            ]
          },
          "metadata": {},
          "execution_count": 42
        }
      ]
    },
    {
      "cell_type": "markdown",
      "source": [
        "Treino"
      ],
      "metadata": {
        "id": "e6lyxzPlCdCF"
      }
    },
    {
      "cell_type": "code",
      "source": [
        "predict = neigh.predict(X_train_norm_alpha_dois)\n",
        "recall_score(Y_treino, predict)"
      ],
      "metadata": {
        "colab": {
          "base_uri": "https://localhost:8080/"
        },
        "id": "2YvdwJXYCZYM",
        "outputId": "7844ebeb-a63b-4443-9b6d-c4789ba2b7d9"
      },
      "execution_count": null,
      "outputs": [
        {
          "output_type": "execute_result",
          "data": {
            "text/plain": [
              "0.8500416550958068"
            ]
          },
          "metadata": {},
          "execution_count": 44
        }
      ]
    },
    {
      "cell_type": "markdown",
      "source": [
        "TREINO COM NAIVE BAYES"
      ],
      "metadata": {
        "id": "cC-7SZNw8bJz"
      }
    },
    {
      "cell_type": "markdown",
      "source": [
        "Com todas as variáveis"
      ],
      "metadata": {
        "id": "CS7xgUkmbWsU"
      }
    },
    {
      "cell_type": "code",
      "source": [
        "from sklearn.naive_bayes import MultinomialNB\n",
        "\n",
        "clf = MultinomialNB()\n",
        "clf.fit(X_train_norm, Y_treino)\n",
        "predict = clf.predict(X_val_norm)\n",
        "\n",
        "##fazendo a matriz de confusão\n",
        "confusion_matrix = sklearn.metrics.confusion_matrix(Y_val, predict)\n",
        "\n",
        "ax= plt.subplot()\n",
        "sb.heatmap(confusion_matrix, xticklabels=['Não Churn', 'Churn'], yticklabels=['Não Churn', 'Churn'], annot=True, fmt='g', ax=ax);\n",
        "\n",
        "ax.set_xlabel('Predicted');ax.set_ylabel('True');\n",
        "ax.set_title('Confusion Matrix');"
      ],
      "metadata": {
        "id": "oFW0zkiD71SI",
        "colab": {
          "base_uri": "https://localhost:8080/",
          "height": 295
        },
        "outputId": "4062276b-005b-4f59-f001-db44acc68282"
      },
      "execution_count": null,
      "outputs": [
        {
          "output_type": "display_data",
          "data": {
            "text/plain": [
              "<Figure size 432x288 with 2 Axes>"
            ],
            "image/png": "[encoded data removed]"
          },
          "metadata": {
            "needs_background": "light"
          }
        }
      ]
    },
    {
      "cell_type": "code",
      "source": [
        "recall_score(Y_val, predict)"
      ],
      "metadata": {
        "id": "0738BvChB4EL",
        "colab": {
          "base_uri": "https://localhost:8080/"
        },
        "outputId": "fb0a39e0-624a-4ffc-9064-477af5142ae5"
      },
      "execution_count": null,
      "outputs": [
        {
          "output_type": "execute_result",
          "data": {
            "text/plain": [
              "0.7611111111111111"
            ]
          },
          "metadata": {},
          "execution_count": 46
        }
      ]
    },
    {
      "cell_type": "markdown",
      "source": [
        "Com 6 variáveis"
      ],
      "metadata": {
        "id": "W0paOwo0bZhc"
      }
    },
    {
      "cell_type": "code",
      "source": [
        "\n",
        "clf = MultinomialNB()\n",
        "clf.fit(X_train_norm_alpha_um, Y_treino)\n",
        "predict = clf.predict(X_val_norm_alpha_um)\n",
        "\n",
        "##fazendo a matriz de\n",
        "confusion_matrix = sklearn.metrics.confusion_matrix(Y_val, predict)\n",
        "\n",
        "ax= plt.subplot()\n",
        "sb.heatmap(confusion_matrix, xticklabels=['Não Churn', 'Churn'], yticklabels=['Não Churn', 'Churn'], annot=True, fmt='g', ax=ax);\n",
        "\n",
        "ax.set_xlabel('Predicted');ax.set_ylabel('True');\n",
        "ax.set_title('Confusion Matrix');"
      ],
      "metadata": {
        "id": "9PAxKyZdbcVy",
        "colab": {
          "base_uri": "https://localhost:8080/",
          "height": 295
        },
        "outputId": "22954b9a-a1b9-44a8-eb6e-2fcf76983af8"
      },
      "execution_count": null,
      "outputs": [
        {
          "output_type": "display_data",
          "data": {
            "text/plain": [
              "<Figure size 432x288 with 2 Axes>"
            ],
            "image/png": "[encoded data removed]"
          },
          "metadata": {
            "needs_background": "light"
          }
        }
      ]
    },
    {
      "cell_type": "code",
      "source": [
        "recall_score(Y_val, predict)"
      ],
      "metadata": {
        "id": "XNR53Rw0B6dP",
        "colab": {
          "base_uri": "https://localhost:8080/"
        },
        "outputId": "c961098e-61ec-4c2c-c604-37be9a01f033"
      },
      "execution_count": null,
      "outputs": [
        {
          "output_type": "execute_result",
          "data": {
            "text/plain": [
              "0.7666666666666667"
            ]
          },
          "metadata": {},
          "execution_count": 48
        }
      ]
    },
    {
      "cell_type": "markdown",
      "source": [
        "Com 2 variáveis"
      ],
      "metadata": {
        "id": "7hfbYGvacN6z"
      }
    },
    {
      "cell_type": "code",
      "source": [
        "\n",
        "clf = MultinomialNB()\n",
        "clf.fit(X_train_norm_alpha_dois, Y_treino)\n",
        "predict = clf.predict(X_val_norm_alpha_dois)\n",
        "\n",
        "##fazendo a matriz de confusão\n",
        "confusion_matrix = sklearn.metrics.confusion_matrix(Y_val, predict)\n",
        "\n",
        "ax= plt.subplot()\n",
        "sb.heatmap(confusion_matrix, xticklabels=['Não Churn', 'Churn'], yticklabels=['Não Churn', 'Churn'], annot=True, fmt='g', ax=ax);\n",
        "\n",
        "ax.set_xlabel('Predicted');ax.set_ylabel('True');\n",
        "ax.set_title('Confusion Matrix');"
      ],
      "metadata": {
        "id": "CazMOy2zcM-q",
        "colab": {
          "base_uri": "https://localhost:8080/",
          "height": 295
        },
        "outputId": "6fed7b20-dfb3-4a52-8009-c05a1fd945e9"
      },
      "execution_count": null,
      "outputs": [
        {
          "output_type": "display_data",
          "data": {
            "text/plain": [
              "<Figure size 432x288 with 2 Axes>"
            ],
            "image/png": "[encoded data removed]"
          },
          "metadata": {
            "needs_background": "light"
          }
        }
      ]
    },
    {
      "cell_type": "code",
      "source": [
        "recall_score(Y_val, predict)"
      ],
      "metadata": {
        "id": "5xnnyAAHCDJv",
        "colab": {
          "base_uri": "https://localhost:8080/"
        },
        "outputId": "25aa9d50-04e6-4603-83e3-76e2126a989c"
      },
      "execution_count": null,
      "outputs": [
        {
          "output_type": "execute_result",
          "data": {
            "text/plain": [
              "0.8037037037037037"
            ]
          },
          "metadata": {},
          "execution_count": 50
        }
      ]
    },
    {
      "cell_type": "markdown",
      "source": [
        "TREINO COM RANDOM FOREST"
      ],
      "metadata": {
        "id": "0L1cGEMl8dTc"
      }
    },
    {
      "cell_type": "code",
      "source": [
        "from sklearn.ensemble import RandomForestClassifier\n",
        "\n",
        "clf = RandomForestClassifier(n_estimators = 1200)\n",
        "param_grid = {'n_estimators': np.arange(500,2000,100)}\n",
        "grid_search = GridSearchCV(clf, param_grid, scoring='recall')\n",
        "grid_result = grid_search.fit(X_train_norm, Y_treino)\n",
        "\n",
        "print(f'Best result: {grid_result.best_score_} for {grid_result.best_params_}')\n",
        "\n",
        "\n",
        "\n"
      ],
      "metadata": {
        "id": "cMY-IsNn8edf",
        "colab": {
          "base_uri": "https://localhost:8080/"
        },
        "outputId": "4bbb9733-1b5a-41d7-9f64-fb240c90c3f7"
      },
      "execution_count": null,
      "outputs": [
        {
          "output_type": "stream",
          "name": "stdout",
          "text": [
            "Best result: 0.9689120049314225 for {'n_estimators': 1800}\n"
          ]
        }
      ]
    },
    {
      "cell_type": "code",
      "source": [
        "clf = RandomForestClassifier(n_estimators = 1200)\n",
        "\n",
        "clf.fit(X_train_norm, Y_treino)\n",
        "\n",
        "predict = clf.predict(X_val_norm)\n",
        "\n",
        "##fazendo a matriz de confusão\n",
        "confusion_matrix = sklearn.metrics.confusion_matrix(Y_val, predict)\n",
        "\n",
        "ax= plt.subplot()\n",
        "sb.heatmap(confusion_matrix, xticklabels=['Não Churn', 'Churn'], yticklabels=['Não Churn', 'Churn'], annot=True, fmt='g', ax=ax);\n",
        "\n",
        "ax.set_xlabel('Predicted');ax.set_ylabel('True');\n",
        "ax.set_title('Confusion Matrix');"
      ],
      "metadata": {
        "id": "p2wHlSKSFiJJ",
        "colab": {
          "base_uri": "https://localhost:8080/",
          "height": 295
        },
        "outputId": "71e04381-2e1c-4e02-ac68-9650da8b7a3c"
      },
      "execution_count": null,
      "outputs": [
        {
          "output_type": "display_data",
          "data": {
            "text/plain": [
              "<Figure size 432x288 with 2 Axes>"
            ],
            "image/png": "[encoded data removed]"
          },
          "metadata": {
            "needs_background": "light"
          }
        }
      ]
    },
    {
      "cell_type": "markdown",
      "source": [
        "Validação"
      ],
      "metadata": {
        "id": "RfxxvxDFCwf0"
      }
    },
    {
      "cell_type": "code",
      "source": [
        "recall_score(Y_val, predict)"
      ],
      "metadata": {
        "id": "9Rg3jpSOCE3E",
        "colab": {
          "base_uri": "https://localhost:8080/"
        },
        "outputId": "b0e6d561-b4b7-4fc4-f8e6-315f22556537"
      },
      "execution_count": null,
      "outputs": [
        {
          "output_type": "execute_result",
          "data": {
            "text/plain": [
              "0.5648148148148148"
            ]
          },
          "metadata": {},
          "execution_count": 53
        }
      ]
    },
    {
      "cell_type": "markdown",
      "source": [
        "Treino"
      ],
      "metadata": {
        "id": "hiTGfhWpCxpp"
      }
    },
    {
      "cell_type": "code",
      "source": [
        "predict = clf.predict(X_train_norm)\n",
        "recall_score(Y_treino, predict)"
      ],
      "metadata": {
        "colab": {
          "base_uri": "https://localhost:8080/"
        },
        "id": "YiDD99JBCz3D",
        "outputId": "976302cf-b088-4948-c513-1a8d4cb0a94c"
      },
      "execution_count": null,
      "outputs": [
        {
          "output_type": "execute_result",
          "data": {
            "text/plain": [
              "0.9986114968064427"
            ]
          },
          "metadata": {},
          "execution_count": 54
        }
      ]
    },
    {
      "cell_type": "markdown",
      "source": [
        "Com 6 variáveis"
      ],
      "metadata": {
        "id": "NUxs7IGmefHO"
      }
    },
    {
      "cell_type": "code",
      "source": [
        "\n",
        "clf = RandomForestClassifier(n_estimators = 900)\n",
        "clf.fit(X_train_norm_alpha_um, Y_treino)\n",
        "predict = clf.predict(X_val_norm_alpha_um)\n",
        "\n",
        "##fazendo a matriz de confusão\n",
        "confusion_matrix = sklearn.metrics.confusion_matrix(Y_val, predict)\n",
        "\n",
        "ax= plt.subplot()\n",
        "sb.heatmap(confusion_matrix, xticklabels=['Não Churn', 'Churn'], yticklabels=['Não Churn', 'Churn'], annot=True, fmt='g', ax=ax);\n",
        "\n",
        "ax.set_xlabel('Predicted');ax.set_ylabel('True');\n",
        "ax.set_title('Confusion Matrix');\n",
        "\n",
        "\n"
      ],
      "metadata": {
        "id": "Cx9Or7UEd9-f",
        "colab": {
          "base_uri": "https://localhost:8080/",
          "height": 295
        },
        "outputId": "5edf239d-db54-4b04-b33c-35f9f3f2d23a"
      },
      "execution_count": null,
      "outputs": [
        {
          "output_type": "display_data",
          "data": {
            "text/plain": [
              "<Figure size 432x288 with 2 Axes>"
            ],
            "image/png": "[encoded data removed]"
          },
          "metadata": {
            "needs_background": "light"
          }
        }
      ]
    },
    {
      "cell_type": "markdown",
      "source": [
        "Validação"
      ],
      "metadata": {
        "id": "cJVWH5-NC6rv"
      }
    },
    {
      "cell_type": "code",
      "source": [
        "recall_score(Y_val, predict)"
      ],
      "metadata": {
        "id": "ZI8OyyH0CMAc",
        "colab": {
          "base_uri": "https://localhost:8080/"
        },
        "outputId": "404a9d78-81d1-43c1-f258-43ed638f2a25"
      },
      "execution_count": null,
      "outputs": [
        {
          "output_type": "execute_result",
          "data": {
            "text/plain": [
              "0.6888888888888889"
            ]
          },
          "metadata": {},
          "execution_count": 56
        }
      ]
    },
    {
      "cell_type": "markdown",
      "source": [
        "Treino"
      ],
      "metadata": {
        "id": "IpWsC9seC8Jo"
      }
    },
    {
      "cell_type": "code",
      "source": [
        "predict = clf.predict(X_train_norm_alpha_um)\n",
        "recall_score(Y_treino, predict)"
      ],
      "metadata": {
        "colab": {
          "base_uri": "https://localhost:8080/"
        },
        "id": "fQ2CGKCHC9Xx",
        "outputId": "ed3b7dbc-e5ff-4a32-9540-302a817678f6"
      },
      "execution_count": null,
      "outputs": [
        {
          "output_type": "execute_result",
          "data": {
            "text/plain": [
              "0.9619550124965287"
            ]
          },
          "metadata": {},
          "execution_count": 57
        }
      ]
    },
    {
      "cell_type": "markdown",
      "source": [
        "Com 2 variáveis"
      ],
      "metadata": {
        "id": "l0dELs-2evN9"
      }
    },
    {
      "cell_type": "code",
      "source": [
        "\n",
        "clf = RandomForestClassifier(n_estimators = 900)\n",
        "clf.fit(X_train_norm_alpha_dois, Y_treino)\n",
        "predict = clf.predict(X_val_norm_alpha_dois)\n",
        "\n",
        "##fazendo a matriz de confusão\n",
        "confusion_matrix = sklearn.metrics.confusion_matrix(Y_val, predict)\n",
        "\n",
        "ax= plt.subplot()\n",
        "sb.heatmap(confusion_matrix, xticklabels=['Não Churn', 'Churn'], yticklabels=['Não Churn', 'Churn'], annot=True, fmt='g', ax=ax);\n",
        "\n",
        "ax.set_xlabel('Predicted');ax.set_ylabel('True');\n",
        "ax.set_title('Confusion Matrix');\n",
        "\n",
        "\n"
      ],
      "metadata": {
        "id": "J7tO9xuuetFD",
        "colab": {
          "base_uri": "https://localhost:8080/",
          "height": 295
        },
        "outputId": "2fdce083-9369-4060-8c26-c99b04565e50"
      },
      "execution_count": null,
      "outputs": [
        {
          "output_type": "display_data",
          "data": {
            "text/plain": [
              "<Figure size 432x288 with 2 Axes>"
            ],
            "image/png": "[encoded data removed]"
          },
          "metadata": {
            "needs_background": "light"
          }
        }
      ]
    },
    {
      "cell_type": "markdown",
      "source": [
        "Validação"
      ],
      "metadata": {
        "id": "k7M6sGuiDC2s"
      }
    },
    {
      "cell_type": "code",
      "source": [
        "recall_score(Y_val, predict)"
      ],
      "metadata": {
        "id": "04CWFIv-Avf8",
        "colab": {
          "base_uri": "https://localhost:8080/"
        },
        "outputId": "87b42d5a-51a7-4421-eb4f-8b399da7afaa"
      },
      "execution_count": null,
      "outputs": [
        {
          "output_type": "execute_result",
          "data": {
            "text/plain": [
              "0.8037037037037037"
            ]
          },
          "metadata": {},
          "execution_count": 59
        }
      ]
    },
    {
      "cell_type": "markdown",
      "source": [
        "Treino\n"
      ],
      "metadata": {
        "id": "z2i7iwSnDF5b"
      }
    },
    {
      "cell_type": "code",
      "source": [
        "predict = clf.predict(X_train_norm_alpha_dois)\n",
        "recall_score(Y_treino, predict)"
      ],
      "metadata": {
        "colab": {
          "base_uri": "https://localhost:8080/"
        },
        "id": "bhclJ8WWDHNQ",
        "outputId": "d6299faf-f5bd-419f-c9b8-bd67edf30bac"
      },
      "execution_count": null,
      "outputs": [
        {
          "output_type": "execute_result",
          "data": {
            "text/plain": [
              "0.8500416550958068"
            ]
          },
          "metadata": {},
          "execution_count": 60
        }
      ]
    },
    {
      "cell_type": "markdown",
      "source": [
        "TREINO XGBOOST COM TODAS AS VARIÁVEIS"
      ],
      "metadata": {
        "id": "vssjV8EARfLr"
      }
    },
    {
      "cell_type": "code",
      "source": [
        "\n",
        "\n",
        "\n",
        "xgb = XGBClassifier()\n",
        "\n",
        "# parameter to be searched\n",
        "param_grid = {'learning_rate': [0.0001, 0.01, 0.1, 1]}\n",
        "\n",
        "# find the best parameter\n",
        "grid_search = GridSearchCV(xgb, param_grid, scoring='recall')\n",
        "grid_result = grid_search.fit(X_train_norm, Y_treino)\n",
        "\n",
        "print(f'Best result: {grid_result.best_score_} for {grid_result.best_params_}')\n"
      ],
      "metadata": {
        "id": "gUsTDNbw__HH"
      },
      "execution_count": null,
      "outputs": []
    },
    {
      "cell_type": "code",
      "source": [
        "\n",
        "# parameter to be searched\n",
        "param_grid = { 'gama': np.arange(0.0,20.0,0.05)}\n",
        "\n",
        "# find the best parameter\n",
        "grid_search = GridSearchCV(xgb, param_grid, scoring='recall')\n",
        "grid_result = grid_search.fit(X_train_norm, Y_treino)\n",
        "\n",
        "print(f'Best result: {grid_result.best_score_} for {grid_result.best_params_}')"
      ],
      "metadata": {
        "id": "M0CuoDlwt3RR"
      },
      "execution_count": null,
      "outputs": []
    },
    {
      "cell_type": "code",
      "source": [
        "\n",
        "# parameter to be searched\n",
        "param_grid = {'max_depth': range(1,8,1),\n",
        "              'min_child_weight': np.arange(0.0001, 0.5, 0.01)}\n",
        "\n",
        "# find the best parameter\n",
        "grid_search = GridSearchCV(xgb, param_grid, scoring='recall')\n",
        "grid_result = grid_search.fit(X_train_norm, Y_treino)\n",
        "\n",
        "print(f'Best result: {grid_result.best_score_} for {grid_result.best_params_}')"
      ],
      "metadata": {
        "id": "RKy-CmEEuLfP"
      },
      "execution_count": null,
      "outputs": []
    },
    {
      "cell_type": "code",
      "source": [
        "\n",
        "\n",
        "xgb = XGBClassifier(learning_rate=0.0001, n_estimators=25, max_depth=1, min_child_weight=0.0001, gamma=0)\n",
        "xgb.fit(X_train_norm, Y_treino)\n",
        "\n",
        "predict = xgb.predict(X_val_norm)\n",
        "##fazendo a matriz de confusão\n",
        "confusion_matrix = sklearn.metrics.confusion_matrix(Y_val, predict)\n",
        "\n",
        "ax= plt.subplot()\n",
        "sb.heatmap(confusion_matrix, xticklabels=['Não Churn', 'Churn'], yticklabels=['Não Churn', 'Churn'], annot=True, fmt='g', ax=ax);\n",
        "\n",
        "ax.set_xlabel('Predicted');ax.set_ylabel('True');\n",
        "ax.set_title('Confusion Matrix');\n",
        "\n"
      ],
      "metadata": {
        "id": "bJ1yvSpbSGH-",
        "colab": {
          "base_uri": "https://localhost:8080/",
          "height": 295
        },
        "outputId": "244fdf47-5ded-42f3-efb0-6d4a1412f9a6"
      },
      "execution_count": null,
      "outputs": [
        {
          "output_type": "display_data",
          "data": {
            "text/plain": [
              "<Figure size 432x288 with 2 Axes>"
            ],
            "image/png": "[encoded data removed]"
          },
          "metadata": {
            "needs_background": "light"
          }
        }
      ]
    },
    {
      "cell_type": "code",
      "source": [
        "recall_score(Y_val, predict)"
      ],
      "metadata": {
        "id": "UoB1AzdAD7bF",
        "colab": {
          "base_uri": "https://localhost:8080/"
        },
        "outputId": "dfa919cd-0eef-43cd-af81-73063746d710"
      },
      "execution_count": null,
      "outputs": [
        {
          "output_type": "execute_result",
          "data": {
            "text/plain": [
              "0.8722222222222222"
            ]
          },
          "metadata": {},
          "execution_count": 70
        }
      ]
    },
    {
      "cell_type": "markdown",
      "source": [
        "COM 6 VARIÁVEIS"
      ],
      "metadata": {
        "id": "nkEhdvWJ9pIr"
      }
    },
    {
      "cell_type": "code",
      "source": [
        "\n",
        "\n",
        "xgb = XGBClassifier(learning_rate=0.0001, n_estimators=25, max_depth=1, min_child_weight=0.0001, gamma=0)\n",
        "xgb.fit(X_train_norm_alpha_um, Y_treino)\n",
        "\n",
        "predict = xgb.predict(X_val_norm_alpha_um)\n",
        "##fazendo a matriz de confusão\n",
        "confusion_matrix = sklearn.metrics.confusion_matrix(Y_val, predict)\n",
        "\n",
        "ax= plt.subplot()\n",
        "sb.heatmap(confusion_matrix, xticklabels=['Não Churn', 'Churn'], yticklabels=['Não Churn', 'Churn'], annot=True, fmt='g', ax=ax);\n",
        "\n",
        "ax.set_xlabel('Predicted');ax.set_ylabel('True');\n",
        "ax.set_title('Confusion Matrix');\n",
        "\n"
      ],
      "metadata": {
        "id": "3tgjkIP29iuk",
        "colab": {
          "base_uri": "https://localhost:8080/",
          "height": 295
        },
        "outputId": "e759ec0e-cd5c-446a-ce6c-927d21fc5e86"
      },
      "execution_count": null,
      "outputs": [
        {
          "output_type": "display_data",
          "data": {
            "text/plain": [
              "<Figure size 432x288 with 2 Axes>"
            ],
            "image/png": "[encoded data removed]"
          },
          "metadata": {
            "needs_background": "light"
          }
        }
      ]
    },
    {
      "cell_type": "code",
      "source": [
        "recall_score(Y_val, predict)"
      ],
      "metadata": {
        "id": "P1A7T7_P92mr",
        "colab": {
          "base_uri": "https://localhost:8080/"
        },
        "outputId": "2362b700-b07f-4725-920a-6d0df8f5420a"
      },
      "execution_count": null,
      "outputs": [
        {
          "output_type": "execute_result",
          "data": {
            "text/plain": [
              "0.8722222222222222"
            ]
          },
          "metadata": {},
          "execution_count": 72
        }
      ]
    },
    {
      "cell_type": "markdown",
      "source": [
        "COM 2 VARIÁVEIS"
      ],
      "metadata": {
        "id": "oa9UoPgk-L7R"
      }
    },
    {
      "cell_type": "code",
      "source": [
        "\n",
        "\n",
        "xgb = XGBClassifier(learning_rate=0.0001, n_estimators=25, max_depth=1, min_child_weight=0.0001, gamma=0)\n",
        "xgb.fit(X_train_norm_alpha_dois, Y_treino)\n",
        "\n",
        "predict = xgb.predict(X_val_norm_alpha_dois)\n",
        "##fazendo a matriz de confusão\n",
        "confusion_matrix = sklearn.metrics.confusion_matrix(Y_val, predict)\n",
        "\n",
        "ax= plt.subplot()\n",
        "sb.heatmap(confusion_matrix, xticklabels=['Não Churn', 'Churn'], yticklabels=['Não Churn', 'Churn'], annot=True, fmt='g', ax=ax);\n",
        "\n",
        "ax.set_xlabel('Predicted');ax.set_ylabel('True');\n",
        "ax.set_title('Confusion Matrix');\n",
        "\n"
      ],
      "metadata": {
        "id": "HaX0tnj99404",
        "colab": {
          "base_uri": "https://localhost:8080/",
          "height": 295
        },
        "outputId": "1f20f456-56ad-4eab-d179-57447c52aa0e"
      },
      "execution_count": null,
      "outputs": [
        {
          "output_type": "display_data",
          "data": {
            "text/plain": [
              "<Figure size 432x288 with 2 Axes>"
            ],
            "image/png": "[encoded data removed]"
          },
          "metadata": {
            "needs_background": "light"
          }
        }
      ]
    },
    {
      "cell_type": "markdown",
      "source": [
        "validação"
      ],
      "metadata": {
        "id": "qcQsb1m0DO18"
      }
    },
    {
      "cell_type": "code",
      "source": [
        "predict = clf.predict(X_val_norm_alpha_dois)\n",
        "recall_score(Y_val, predict)"
      ],
      "metadata": {
        "id": "wvFFvxV1-UBf",
        "colab": {
          "base_uri": "https://localhost:8080/"
        },
        "outputId": "6ec538f0-cabb-4379-8e0c-08ef73cbebf0"
      },
      "execution_count": null,
      "outputs": [
        {
          "output_type": "execute_result",
          "data": {
            "text/plain": [
              "0.8037037037037037"
            ]
          },
          "metadata": {},
          "execution_count": 74
        }
      ]
    },
    {
      "cell_type": "markdown",
      "source": [
        "Treino"
      ],
      "metadata": {
        "id": "MOlaN1NEDRWd"
      }
    },
    {
      "cell_type": "code",
      "source": [
        "predict = clf.predict(X_train_norm_alpha_dois)\n",
        "recall_score(Y_treino, predict)"
      ],
      "metadata": {
        "colab": {
          "base_uri": "https://localhost:8080/"
        },
        "id": "J4NW1MauDSJx",
        "outputId": "3e5430a0-ec1f-46c2-941e-7563f61ab570"
      },
      "execution_count": null,
      "outputs": [
        {
          "output_type": "execute_result",
          "data": {
            "text/plain": [
              "0.8500416550958068"
            ]
          },
          "metadata": {},
          "execution_count": 75
        }
      ]
    },
    {
      "cell_type": "code",
      "source": [],
      "metadata": {
        "id": "H5duO0CiH6fi"
      },
      "execution_count": null,
      "outputs": []
    }
  ],
  "metadata": {
    "accelerator": "GPU",
    "colab": {
      "provenance": []
    },
    "gpuClass": "standard",
    "kernelspec": {
      "display_name": "Python 3",
      "name": "python3"
    },
    "language_info": {
      "name": "python"
    }
  },
  "nbformat": 4,
  "nbformat_minor": 0
}